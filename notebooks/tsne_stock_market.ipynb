{
  "cells": [
    {
      "cell_type": "code",
      "execution_count": 318,
      "metadata": {
        "collapsed": false
      },
      "outputs": [],
      "source": [
        "import pandas as pd\n",
        "import numpy as np\n",
        "import numpy as np\n",
        "import plotly.express as px\n",
        "from sklearn.preprocessing import RobustScaler\n",
        "from sklearn.manifold import TSNE\n",
        "\n",
        "df = pd.read_csv('Data/info_merged.csv',header=0, index_col=0)\n",
        "df.reset_index(inplace=True)\n",
        "df = df[df['currency'].isin(['EUR'])]\n",
        "df = df[df['sector'] == 'Technology']\n",
        "\n",
        "num = 10            \n",
        "labels=np.linspace(start=1,stop=num,num=num)\n",
        "df['marketCap_bins'] = pd.qcut(df['marketCap'], q=num,labels=labels)\n",
        "\n",
        "X = df[['marketCap','revenueGrowth','operatingMargins']]\n",
        "X = RobustScaler().fit_transform(X)"
      ]
    },
    {
      "cell_type": "code",
      "execution_count": 319,
      "metadata": {},
      "outputs": [],
      "source": [
        "X_embedded_3d = TSNE(n_components=3, learning_rate='auto', init='random', perplexity=3).fit_transform(X)\n",
        "X_embedded_3d = pd.DataFrame(X_embedded_3d)\n",
        "df.reset_index(drop=True,inplace=True)\n",
        "embedding_3d = pd.concat([df,X_embedded_3d],axis=1)"
      ]
    },
    {
      "cell_type": "code",
      "execution_count": 320,
      "metadata": {},
      "outputs": [],
      "source": [
        "embedding_3d.marketCap_bins = embedding_3d.marketCap_bins.astype(float)"
      ]
    },
    {
      "cell_type": "code",
      "execution_count": 321,
      "metadata": {},
      "outputs": [
        {
          "data": {
            "application/vnd.plotly.v1+json": {
              "config": {
                "plotlyServerURL": "https://plot.ly"
              },
              "data": [
                {
                  "customdata": [
                    [
                      "EUR",
                      192702480,
                      0.052,
                      0.10755
                    ],
                    [
                      "EUR",
                      11403037696,
                      0.254,
                      0.06571
                    ],
                    [
                      "EUR",
                      1230445312,
                      -0.08,
                      0.076519996
                    ],
                    [
                      "EUR",
                      8923285504,
                      -0.371,
                      0.04264
                    ],
                    [
                      "EUR",
                      4472016384,
                      0.367,
                      0.36754
                    ],
                    [
                      "EUR",
                      68281632,
                      -0.088,
                      -0.66233003
                    ],
                    [
                      "EUR",
                      5156214272,
                      0.144,
                      0.27087998
                    ],
                    [
                      "EUR",
                      6609244672,
                      0.252,
                      0.20825
                    ],
                    [
                      "EUR",
                      12148951,
                      -0.255,
                      -0.50798
                    ],
                    [
                      "EUR",
                      1042940800,
                      0.023,
                      0.06504
                    ],
                    [
                      "EUR",
                      902087936,
                      0.192,
                      0.12657
                    ],
                    [
                      "EUR",
                      26161050,
                      0.184,
                      0.01648
                    ],
                    [
                      "EUR",
                      108399848,
                      0.246,
                      0.04091
                    ],
                    [
                      "EUR",
                      149290848,
                      0.294,
                      0.15421
                    ],
                    [
                      "EUR",
                      108481724416,
                      -0.015,
                      0.29066
                    ],
                    [
                      "EUR",
                      2561194590208,
                      -0.014,
                      0.29231
                    ],
                    [
                      "EUR",
                      2559943901184,
                      -0.014,
                      0.29231
                    ],
                    [
                      "EUR",
                      240642539520,
                      0.271,
                      0.32042
                    ],
                    [
                      "EUR",
                      876864896,
                      -0.003,
                      0.03284
                    ],
                    [
                      "EUR",
                      37506976,
                      0.379,
                      -0.1843
                    ],
                    [
                      "EUR",
                      1870200064,
                      0.023,
                      0.06657
                    ],
                    [
                      "EUR",
                      29773625344,
                      0.069,
                      0.11732
                    ],
                    [
                      "EUR",
                      26096103424,
                      -0.085,
                      0.07684
                    ],
                    [
                      "EUR",
                      211866435584,
                      0.16,
                      0.27348
                    ],
                    [
                      "EUR",
                      213163982848,
                      0.16,
                      0.27348
                    ],
                    [
                      "EUR",
                      914714752,
                      0.097,
                      0.0217
                    ],
                    [
                      "EUR",
                      119240576,
                      0.144,
                      0.04027
                    ],
                    [
                      "EUR",
                      384017728,
                      0.353,
                      0.088
                    ],
                    [
                      "EUR",
                      921712000,
                      0.085,
                      0.111260004
                    ],
                    [
                      "EUR",
                      363346560,
                      -0.161,
                      0.06555
                    ],
                    [
                      "EUR",
                      4422403072,
                      -0.021,
                      0.15701
                    ],
                    [
                      "EUR",
                      183931552,
                      0.108,
                      0.06052
                    ],
                    [
                      "EUR",
                      48069824512,
                      0.047,
                      0.21189
                    ],
                    [
                      "EUR",
                      79452938240,
                      -0.023,
                      0.15854
                    ],
                    [
                      "EUR",
                      186964672,
                      0.122,
                      0.08328
                    ],
                    [
                      "EUR",
                      12916794368,
                      0.301,
                      0.122159995
                    ],
                    [
                      "EUR",
                      4617008,
                      0.884,
                      -0.00759
                    ],
                    [
                      "EUR",
                      358666464,
                      0.292,
                      0.24377
                    ],
                    [
                      "EUR",
                      86141488,
                      0.218,
                      0.091680005
                    ],
                    [
                      "EUR",
                      1904455424,
                      0.047,
                      0.06606
                    ],
                    [
                      "EUR",
                      196546002944,
                      0.114,
                      0.12981
                    ],
                    [
                      "EUR",
                      4836153,
                      0.047,
                      0.02503
                    ],
                    [
                      "EUR",
                      1022260800,
                      0.017,
                      0.09133001
                    ],
                    [
                      "EUR",
                      659321664,
                      -0.351,
                      -0.02757
                    ],
                    [
                      "EUR",
                      927065984,
                      -0.248,
                      0.04911
                    ],
                    [
                      "EUR",
                      3778528768,
                      -0.131,
                      0.24187
                    ],
                    [
                      "EUR",
                      125354434560,
                      -0.004,
                      0.141
                    ],
                    [
                      "EUR",
                      42136481792,
                      0.13,
                      0.25676
                    ],
                    [
                      "EUR",
                      42129821696,
                      0.13,
                      0.25676
                    ],
                    [
                      "EUR",
                      6974612,
                      1.582,
                      -4.28669
                    ],
                    [
                      "EUR",
                      149197619200,
                      -0.155,
                      -0.04443
                    ],
                    [
                      "EUR",
                      2406016768,
                      0.114,
                      0.14267999
                    ],
                    [
                      "EUR",
                      21243106,
                      -0.119,
                      0.04538
                    ],
                    [
                      "EUR",
                      239215696,
                      0.028,
                      0.12106
                    ],
                    [
                      "EUR",
                      16427250,
                      0.143,
                      -0.17157
                    ],
                    [
                      "EUR",
                      261782368,
                      0.134,
                      0.10316
                    ],
                    [
                      "EUR",
                      13414968320,
                      0.018,
                      0.04479
                    ],
                    [
                      "EUR",
                      1619911040,
                      -0.343,
                      0.12946
                    ],
                    [
                      "EUR",
                      141902400,
                      -0.135,
                      -0.03197
                    ],
                    [
                      "EUR",
                      1252366080,
                      -0.024,
                      0.44230998
                    ],
                    [
                      "EUR",
                      160003344,
                      -0.269,
                      -0.10049
                    ],
                    [
                      "EUR",
                      90340933632,
                      0.158,
                      0.53258
                    ],
                    [
                      "EUR",
                      139210304,
                      -0.122,
                      -0.39671
                    ],
                    [
                      "EUR",
                      130000000,
                      0.012,
                      0.00278
                    ],
                    [
                      "EUR",
                      18961360,
                      0.287,
                      0.061529998
                    ],
                    [
                      "EUR",
                      989285696,
                      0.33,
                      0.01408
                    ],
                    [
                      "EUR",
                      189120496,
                      0.498,
                      0.030450001
                    ],
                    [
                      "EUR",
                      4626964480,
                      0.168,
                      0.14583
                    ],
                    [
                      "EUR",
                      11669155840,
                      0.178,
                      0.30061
                    ],
                    [
                      "EUR",
                      115464728,
                      0.002,
                      0.0116
                    ],
                    [
                      "EUR",
                      576409728,
                      0.039,
                      0.04547
                    ],
                    [
                      "EUR",
                      3460965632,
                      0.136,
                      0.27283
                    ],
                    [
                      "EUR",
                      72289796096,
                      -0.566,
                      -0.14213
                    ],
                    [
                      "EUR",
                      825904320,
                      0.002,
                      0.13675
                    ],
                    [
                      "EUR",
                      827571200,
                      0.002,
                      0.13675
                    ],
                    [
                      "EUR",
                      122119648,
                      0.169,
                      0.06297
                    ],
                    [
                      "EUR",
                      6851460096,
                      0.018,
                      0.21699
                    ],
                    [
                      "EUR",
                      656022784,
                      0.071,
                      0.13716
                    ],
                    [
                      "EUR",
                      355577984,
                      -0.223,
                      -0.04422
                    ],
                    [
                      "EUR",
                      3156855552,
                      -0.134,
                      0.26055
                    ],
                    [
                      "EUR",
                      20467249152,
                      -0.028,
                      0.10146
                    ],
                    [
                      "EUR",
                      20395634688,
                      -0.028,
                      0.10146
                    ],
                    [
                      "EUR",
                      21117876224,
                      -0.043,
                      0.28868
                    ],
                    [
                      "EUR",
                      914465280,
                      0.127,
                      0.10569
                    ],
                    [
                      "EUR",
                      22002756,
                      0.489,
                      0.0725
                    ],
                    [
                      "EUR",
                      19365883904,
                      0.498,
                      0.06741
                    ],
                    [
                      "EUR",
                      126074104,
                      0.169,
                      0.06297
                    ],
                    [
                      "EUR",
                      400806,
                      -0.352,
                      -0.4075
                    ],
                    [
                      "EUR",
                      13868254208,
                      0.124,
                      0.62866
                    ],
                    [
                      "EUR",
                      8470125056,
                      0.041,
                      0.32786
                    ],
                    [
                      "EUR",
                      627992128,
                      0.043,
                      0.014479999
                    ],
                    [
                      "EUR",
                      32303936,
                      0.216,
                      -0.13832
                    ],
                    [
                      "EUR",
                      293514412032,
                      0.088,
                      0.28103
                    ],
                    [
                      "EUR",
                      293513625600,
                      0.088,
                      0.28103
                    ],
                    [
                      "EUR",
                      187322272,
                      0.028,
                      0.07695
                    ],
                    [
                      "EUR",
                      7487539712,
                      0.184,
                      0.06481
                    ],
                    [
                      "EUR",
                      17239164,
                      0.098,
                      0.14819999
                    ],
                    [
                      "EUR",
                      109693440,
                      0.033,
                      -0.36148998
                    ],
                    [
                      "EUR",
                      3913000,
                      0.252,
                      0.06333
                    ],
                    [
                      "EUR",
                      283242624,
                      -0.146,
                      0.00756
                    ],
                    [
                      "EUR",
                      372486400,
                      0.044,
                      0.024920002
                    ],
                    [
                      "EUR",
                      63970744,
                      -0.287,
                      -0.42407
                    ],
                    [
                      "EUR",
                      2645140,
                      -0.087,
                      -0.38774
                    ],
                    [
                      "EUR",
                      118747701248,
                      -0.227,
                      0.29514998
                    ],
                    [
                      "EUR",
                      118748143616,
                      -0.227,
                      0.29514998
                    ],
                    [
                      "EUR",
                      3853417472,
                      0.039,
                      0.13718
                    ],
                    [
                      "EUR",
                      331360480,
                      0.287,
                      0.26852
                    ],
                    [
                      "EUR",
                      6938087,
                      -0.052,
                      -0.28855
                    ],
                    [
                      "EUR",
                      5266178048,
                      0.086,
                      0.11959
                    ],
                    [
                      "EUR",
                      19633782,
                      0.9,
                      0.060159996
                    ],
                    [
                      "EUR",
                      644341632,
                      0.072,
                      0.05862
                    ],
                    [
                      "EUR",
                      3487382016,
                      0.169,
                      0.14358
                    ],
                    [
                      "EUR",
                      6839003136,
                      0.075,
                      0.068730004
                    ],
                    [
                      "EUR",
                      19292209152,
                      0.14,
                      0.00232
                    ],
                    [
                      "EUR",
                      12147620864,
                      0.067,
                      0.07903
                    ],
                    [
                      "EUR",
                      2309285120,
                      0.639,
                      0.09235
                    ],
                    [
                      "EUR",
                      2370010112,
                      0.639,
                      0.09235
                    ],
                    [
                      "EUR",
                      148809236480,
                      0.048,
                      0.15669
                    ],
                    [
                      "EUR",
                      1949407616,
                      0.332,
                      0.16192
                    ],
                    [
                      "EUR",
                      37390610432,
                      0.127,
                      0.29778
                    ],
                    [
                      "EUR",
                      37834407936,
                      0.127,
                      0.29778
                    ],
                    [
                      "EUR",
                      4632981,
                      -0.124,
                      -0.32041
                    ],
                    [
                      "EUR",
                      4632981,
                      -0.124,
                      -0.32041
                    ],
                    [
                      "EUR",
                      592999424,
                      0.222,
                      0.01944
                    ],
                    [
                      "EUR",
                      5222723072,
                      -0.38,
                      0.21231002
                    ],
                    [
                      "EUR",
                      296466464,
                      -0.398,
                      -0.16423
                    ],
                    [
                      "EUR",
                      416717888,
                      0.205,
                      0.113350004
                    ],
                    [
                      "EUR",
                      416850496,
                      0.205,
                      0.113350004
                    ],
                    [
                      "EUR",
                      6100724224,
                      0.262,
                      0.24586001
                    ],
                    [
                      "EUR",
                      102380298240,
                      0.329,
                      0.087
                    ],
                    [
                      "EUR",
                      3993075456,
                      0.116,
                      0.07744
                    ],
                    [
                      "EUR",
                      2352560896,
                      0.095,
                      0.06306
                    ],
                    [
                      "EUR",
                      216848080,
                      0.088,
                      0.09559
                    ],
                    [
                      "EUR",
                      3885881088,
                      -0.037,
                      -0.01539
                    ],
                    [
                      "EUR",
                      342350823424,
                      -0.223,
                      0.060760003
                    ],
                    [
                      "EUR",
                      397493248,
                      0.107,
                      0.096429996
                    ],
                    [
                      "EUR",
                      55895356,
                      0.192,
                      0.03053
                    ],
                    [
                      "EUR",
                      1241346432,
                      0.12,
                      0.03277
                    ],
                    [
                      "EUR",
                      13998331904,
                      -0.186,
                      0.23150998
                    ],
                    [
                      "EUR",
                      21980991488,
                      0.009,
                      0.0864
                    ],
                    [
                      "EUR",
                      924866112,
                      0.181,
                      -0.0947
                    ],
                    [
                      "EUR",
                      190257584,
                      0.143,
                      0.060149997
                    ],
                    [
                      "EUR",
                      592889408,
                      -0.348,
                      0.16555001
                    ],
                    [
                      "EUR",
                      3377700096,
                      -0.112,
                      0.05862
                    ],
                    [
                      "EUR",
                      2055473664,
                      -0.214,
                      0.07648
                    ],
                    [
                      "EUR",
                      41732720,
                      0.476,
                      -0.09227
                    ],
                    [
                      "EUR",
                      75523008,
                      0.075,
                      0.06386
                    ],
                    [
                      "EUR",
                      19595472896,
                      -0.255,
                      0.26217
                    ],
                    [
                      "EUR",
                      64381576,
                      -0.087,
                      0.01047
                    ],
                    [
                      "EUR",
                      2633703936,
                      -0.161,
                      0.10574
                    ],
                    [
                      "EUR",
                      3269158400,
                      0.033,
                      0.17002001
                    ],
                    [
                      "EUR",
                      47873830912,
                      -0.004,
                      0.28465998
                    ],
                    [
                      "EUR",
                      177619040,
                      -0.131,
                      -0.04066
                    ],
                    [
                      "EUR",
                      2803643136,
                      0.356,
                      -0.051009998
                    ],
                    [
                      "EUR",
                      59348758528,
                      0.163,
                      -0.01471
                    ],
                    [
                      "EUR",
                      42466643968,
                      0.26,
                      0.13091
                    ],
                    [
                      "EUR",
                      13184172032,
                      -0.41,
                      -0.088
                    ],
                    [
                      "EUR",
                      33282964,
                      0.36,
                      0.24042
                    ],
                    [
                      "EUR",
                      12918931456,
                      0.026,
                      0.22295
                    ],
                    [
                      "EUR",
                      25872312320,
                      0.06,
                      0.1514
                    ],
                    [
                      "EUR",
                      120520048,
                      0.322,
                      0.12986
                    ],
                    [
                      "EUR",
                      201316480,
                      0.332,
                      0.02885
                    ],
                    [
                      "EUR",
                      3871206144,
                      0.134,
                      0.26416
                    ],
                    [
                      "EUR",
                      1841324672,
                      0.083,
                      -0.08911
                    ],
                    [
                      "EUR",
                      48084369408,
                      -0.026,
                      0.20602
                    ],
                    [
                      "EUR",
                      76309264,
                      0.113,
                      0.10812
                    ],
                    [
                      "EUR",
                      37547339776,
                      0.005,
                      0.32867
                    ],
                    [
                      "EUR",
                      1488467072,
                      0.207,
                      0.14321
                    ],
                    [
                      "EUR",
                      1241673856,
                      0.001,
                      0.15969
                    ],
                    [
                      "EUR",
                      2823822,
                      -0.053,
                      -0.12224
                    ],
                    [
                      "EUR",
                      1368299264,
                      0.118,
                      0.09199
                    ],
                    [
                      "EUR",
                      1368299136,
                      0.118,
                      0.09199
                    ],
                    [
                      "EUR",
                      31704436736,
                      0.007,
                      0.13262999
                    ]
                  ],
                  "hovertemplate": "<b>%{hovertext}</b><br><br>0=%{x}<br>1=%{y}<br>2=%{z}<br>marketCap_bins=%{marker.color}<br>currency=%{customdata[0]}<br>marketCap=%{customdata[1]}<br>revenueGrowth=%{customdata[2]}<br>operatingMargins=%{customdata[3]}<extra></extra>",
                  "hovertext": [
                    "RIMINI STREET  DL-,0001",
                    "XERO LTD",
                    "KNOWLES CORP.  DL-,01",
                    "QORVO INC.DL -,0001",
                    "GCL TECHNOLOGY HOLD. LTD.",
                    "EXPERT.AI S.P.A.",
                    "QUALYS INC.  DL -,001",
                    "XINYI SOLAR HLDGS",
                    "VISLI.T.INC NEW DL-,00001",
                    "ADTRAN NETW.SE INH O.N.",
                    "ESKER",
                    "INNELEC MULTIMEDIA",
                    "KEYRUS",
                    "MGI DIGITAL GRAPHI",
                    "APPLIED MATERIALS INC.",
                    "APPLE INC.",
                    "APPLE INC.",
                    "ASML HOLDING",
                    "ATOS",
                    "DATRIX S.P.A.",
                    "CASIO COMPUTER",
                    "CAPGEMINI",
                    "CDW CORP.  DL-,01",
                    "CISCO SYSTEM INC",
                    "CISCO SYSTEMS INC",
                    "CANCOM SE O.N.",
                    "CENIT AG O.N.",
                    "DAKTRONICS INC.",
                    "DTS CORP.",
                    "DATALOGIC",
                    "SCREEN HOLDINGS CO. LTD.",
                    "Detection Technology Oyj",
                    "DASSAULT SYSTEMES",
                    "DEUTSCHE TELEKOM ADR 1",
                    "EKINOPS",
                    "ENTEGRIS INC.  DL-,01",
                    "ACTEOS",
                    "EVS BROADC.EQUIPM.",
                    "FORTEC ELEKTRO. O.N.",
                    "FUJI SOFT INC.",
                    "SALESFORCE INC.  DL-,001",
                    "UNION TECH.INFOR.",
                    "FORMULA SYS 1985 ADR",
                    "FIH MOBILE LTD  DL-,04",
                    "HIMAX TECH.INC. ADR 1",
                    "HIROSE EL.",
                    "INTERNATIONAL BUS MACH CORP",
                    "INFINEON TECHNOLOGIES AG",
                    "INFINEON TECHNOLOGIES AG",
                    "REVOLUGROUP CANADA INC",
                    "INTEL CORP",
                    "INFORM. SVCS INTL-DENTSU",
                    "ITESOFT",
                    "IVU TRAFFIC TECHN.AG O.N.",
                    "INVISION AG",
                    "INIT INNOVATION O.N.",
                    "JABIL DL-,001",
                    "MAXLINEAR INC.  DL-,01",
                    "BITTIUM OYJ",
                    "JUSTSYSTEMS CORP",
                    "JU TENG INTL HLDGS HD-,01",
                    "KEYENCE CORP.",
                    "KOPIN CORP.  DL-,01",
                    "Kapsch TrafficCom AG",
                    "KEYWARE TECHNOLOGIES O.N.",
                    "SKYWORTH GROUP LTD.HD-,10",
                    "LACROIX GROUP",
                    "EXLSERVICE HLDGS  DL-,001",
                    "LATTICE SEMICOND.  DL-,01",
                    "MANZ AG",
                    "MEIKO ELECTRONICS",
                    "MELEXIS",
                    "MICRON TECHN. INC. DL-,10",
                    "MENSCH UND MASCH.O.N.",
                    "MENSCH UND MASCH.O.N.",
                    "Novabase, SGPS - Nom.",
                    "NEMETSCHEK SE O N",
                    "QUADIENT SA  INH.  EO 1",
                    "NETGEAR INC.  DL-,001",
                    "NOVA LTD.",
                    "NOKIA OYJ",
                    "Nokia Corporation",
                    "MONOLITHIC POWER  DL-,001",
                    "NEURONES",
                    "NEUROSOFT",
                    "NTT DATA GROUP CORP.",
                    "NOVABASE SGPS INH. EO0,03",
                    "OPENLIMIT HLDG INH. SF-30",
                    "OBIC CO. LTD",
                    "ORACLE CORP. JAPAN",
                    "OKI EL. IND.",
                    "CRESCENT",
                    "ORACLE CORP.  DL-,01",
                    "ORACLE CORP.  DL-,01",
                    "USU SOFTWARE AG",
                    "OTSUKA CORP.",
                    "PLAN OPTIK  O.N.",
                    "PARROT",
                    "PRO DV AG O.N.",
                    "ESPRINET",
                    "PSI SOFTWARE SE NA O.N.",
                    "PIXELWORKS INC.NEW DL-,01",
                    "GLOBAL PVQ SE",
                    "QUALCOMM INC",
                    "QUALCOMM INC",
                    "BELDEN INC.  DL -,01",
                    "QIWI B SP.ADRS 1/EO-,0005",
                    "QPR Software Plc",
                    "SCSK CORP.",
                    "QUALITY & RELIABILITY S.A.",
                    "QUEST HOLDING S.A.",
                    "REPLY",
                    "REXEL",
                    "SPLUNK INC.  DL-,001",
                    "LEIDOS HOLDINGS  DL-,0001",
                    "SMA SOLAR TECHNOL AG",
                    "SMA SOLAR TECHNOLOGY AG",
                    "SAP SE",
                    "SES IMAGOTAG",
                    "STMICROELECTRONICS",
                    "STMICROELECTRONICS",
                    "SHS VIVEON AG",
                    "SHS VIVEON AG",
                    "FIRST SENSOR AG O.N.",
                    "SHINKO EL.IND.LTD",
                    "MAGNACHIP SEMICONDUC.DEP.",
                    "SUESS MICROTEC SE NA O.N.",
                    "SUESS MICROTEC SE NA O.N.",
                    "SOITEC",
                    "SONY GROUP CORP.ADR/1O.N.",
                    "SOPRA STERIA GROUP",
                    "SOFTWARE AG  NA O.N.",
                    "SQLI",
                    "SHARP",
                    "SAMS.EL.0,5SP.GDRS144A/95",
                    "SWORD GROUP",
                    "SOFTING AG O.N.",
                    "TOSHIBA TEC CORP.",
                    "TERADYNE INC.  DL-,125",
                    "TELEFONICA S.A.EO 1 ADR 1",
                    "TOMTOM",
                    "TOYO CORP.",
                    "TOWA CORP.",
                    "TAIYO YUDEN CO. LTD",
                    "VIAVI SOLUTIONS  DL-,001",
                    "VECTRON SYSTEMS  O.N.",
                    "VISCOM AG O.N.",
                    "ADVANTEST  ADR NEW/1 O.N.",
                    "V-CUBE INC.",
                    "VENTURE  SD-,25",
                    "VISHAY INTERTECH.  DL-,10",
                    "NXP SEMICONDUCTORS EO-,20",
                    "VOXX INTL CORP. A  DL-,01",
                    "VIASAT INC.  DL-,0001",
                    "WORKDAY INC.CL.A  DL-,001",
                    "CONSTELLATION SOFTWARE",
                    "WESTN DIGITAL  DL-,01",
                    "WIRECARD AG",
                    "SS+C TECHNOL.HLDGS DL-,01",
                    "WIPRO LTD ADR /1 IR 2",
                    "QUARTERHILL INC.",
                    "CSE GLOBAL LTD.  SD-,05",
                    "SIMCORP A/S  NAM.  DK 1",
                    "LIVERAMP HLDGS  DL-,10",
                    "AMPHENOL CORP.  A DL-,001",
                    "EXPRIVIA",
                    "ON SEMICOND.  DL-,01",
                    "SANKEN EL.",
                    "CTS CORP.",
                    "SOFTEC",
                    "SECUNET SECURITY AG O.N.",
                    "SECUNET SECURITY AG O.N.",
                    "FIDELITY NATL INF. SVCS"
                  ],
                  "legendgroup": "",
                  "marker": {
                    "color": [
                      3,
                      8,
                      5,
                      8,
                      7,
                      2,
                      7,
                      7,
                      1,
                      5,
                      5,
                      1,
                      2,
                      3,
                      10,
                      10,
                      10,
                      10,
                      5,
                      2,
                      6,
                      9,
                      9,
                      10,
                      10,
                      5,
                      2,
                      4,
                      5,
                      4,
                      7,
                      3,
                      9,
                      10,
                      3,
                      8,
                      1,
                      4,
                      2,
                      6,
                      10,
                      1,
                      5,
                      5,
                      5,
                      7,
                      10,
                      9,
                      9,
                      1,
                      10,
                      6,
                      1,
                      3,
                      1,
                      3,
                      8,
                      6,
                      3,
                      5,
                      3,
                      10,
                      3,
                      3,
                      1,
                      5,
                      3,
                      7,
                      8,
                      2,
                      4,
                      7,
                      9,
                      5,
                      5,
                      2,
                      7,
                      4,
                      4,
                      6,
                      8,
                      8,
                      9,
                      5,
                      1,
                      8,
                      3,
                      1,
                      8,
                      8,
                      4,
                      2,
                      10,
                      10,
                      3,
                      8,
                      1,
                      2,
                      1,
                      4,
                      4,
                      2,
                      1,
                      10,
                      10,
                      7,
                      4,
                      1,
                      7,
                      1,
                      4,
                      7,
                      7,
                      8,
                      8,
                      6,
                      6,
                      10,
                      6,
                      9,
                      9,
                      1,
                      1,
                      4,
                      7,
                      4,
                      4,
                      4,
                      7,
                      10,
                      7,
                      6,
                      3,
                      7,
                      10,
                      4,
                      2,
                      5,
                      8,
                      9,
                      5,
                      3,
                      4,
                      6,
                      6,
                      2,
                      2,
                      8,
                      2,
                      6,
                      6,
                      9,
                      3,
                      6,
                      9,
                      9,
                      8,
                      2,
                      8,
                      9,
                      2,
                      3,
                      7,
                      6,
                      9,
                      2,
                      9,
                      6,
                      5,
                      1,
                      6,
                      5,
                      9
                    ],
                    "coloraxis": "coloraxis",
                    "opacity": 0.6,
                    "size": 8,
                    "sizemode": "area",
                    "sizeref": 0.025,
                    "symbol": "circle"
                  },
                  "mode": "markers",
                  "name": "",
                  "scene": "scene",
                  "showlegend": false,
                  "type": "scatter3d",
                  "x": [
                    3.3038542,
                    4.820138,
                    7.370756,
                    5.1092057,
                    -24.172361,
                    1.4256855,
                    -15.805931,
                    -21.927803,
                    0.7690868,
                    11.007725,
                    -15.183133,
                    -5.050557,
                    -7.570833,
                    -12.08077,
                    -0.11525676,
                    0.11346784,
                    -16.251226,
                    -5.3639092,
                    12.80555,
                    -5.860354,
                    10.6055765,
                    20.1789,
                    16.908476,
                    -5.0766025,
                    -5.6032815,
                    4.017566,
                    2.4356291,
                    -10.644831,
                    3.4333708,
                    7.266369,
                    0.21347912,
                    5.879152,
                    7.950383,
                    4.2869987,
                    3.470721,
                    4.2313995,
                    -15.294104,
                    -24.272367,
                    -13.738356,
                    9.958049,
                    -5.387453,
                    9.14128,
                    12.384947,
                    3.7587168,
                    7.414643,
                    -6.1935472,
                    -1.2858673,
                    8.266467,
                    8.20956,
                    2.0135586,
                    -2.8794534,
                    -0.11788573,
                    6.716407,
                    3.0242126,
                    -4.02777,
                    5.5930057,
                    10.769381,
                    16.298298,
                    2.418137,
                    -13.884445,
                    2.247146,
                    0.7642995,
                    -1.699703,
                    11.077588,
                    -8.794058,
                    -8.196634,
                    -11.393295,
                    -16.509943,
                    -16.96964,
                    11.743111,
                    10.085059,
                    -15.385152,
                    4.2412314,
                    1.8632573,
                    2.0852551,
                    0.5712829,
                    -2.4199708,
                    1.1288706,
                    2.4992752,
                    -6.241247,
                    16.177862,
                    16.023787,
                    -4.1571736,
                    5.3979926,
                    -11.579273,
                    3.3881166,
                    0.46520895,
                    -0.018568628,
                    -13.379904,
                    -14.664295,
                    9.672356,
                    -3.80316,
                    -5.236068,
                    -5.578213,
                    11.7873,
                    5.626992,
                    0.57256436,
                    -5.6182218,
                    -8.304291,
                    3.8025842,
                    9.815694,
                    0.22187187,
                    11.563581,
                    -1.2564815,
                    -1.4018205,
                    -0.87458247,
                    -24.189949,
                    -4.5449715,
                    -1.0209788,
                    -14.971069,
                    7.415663,
                    -16.403244,
                    8.325043,
                    11.944465,
                    10.215477,
                    -13.219447,
                    -13.019182,
                    -2.1981666,
                    -12.795472,
                    9.627878,
                    9.855327,
                    -3.5222948,
                    -3.791847,
                    -6.1268377,
                    15.968911,
                    1.9452615,
                    -14.711364,
                    -14.302532,
                    -22.251005,
                    1.0963489,
                    6.9338865,
                    6.840107,
                    3.8372235,
                    10.962406,
                    -5.745355,
                    4.217645,
                    -5.0668244,
                    3.4825397,
                    -6.028104,
                    16.70462,
                    -2.890222,
                    1.4916744,
                    16.241945,
                    7.1811724,
                    7.8079534,
                    -6.72504,
                    6.939721,
                    -6.0405,
                    4.5526934,
                    8.726797,
                    -0.7047635,
                    8.931564,
                    1.844508,
                    -7.447894,
                    5.435133,
                    6.6020145,
                    4.247836,
                    -25.121103,
                    -3.0572882,
                    19.484278,
                    -11.700626,
                    -8.445154,
                    -15.672025,
                    -1.977997,
                    7.8943806,
                    4.7369823,
                    11.035529,
                    -15.716177,
                    0.83219296,
                    0.02331897,
                    4.815615,
                    4.784624,
                    20.763006
                  ],
                  "y": [
                    10.566438,
                    3.7249167,
                    -16.537245,
                    -12.559934,
                    6.905057,
                    -12.851017,
                    13.908282,
                    6.1376166,
                    -11.816188,
                    -5.5391064,
                    -1.2798291,
                    -3.8307304,
                    -4.255792,
                    -1.7058076,
                    10.373672,
                    -17.252247,
                    0.97129893,
                    -0.85517514,
                    -9.329882,
                    -10.292916,
                    -5.096859,
                    2.6516743,
                    5.4662523,
                    -1.0553143,
                    -1.5378368,
                    -5.952162,
                    -4.5401564,
                    -3.652244,
                    8.85852,
                    -15.182939,
                    14.294861,
                    -1.2290491,
                    8.651976,
                    9.016393,
                    3.8357196,
                    4.2067785,
                    -7.944562,
                    5.519139,
                    -3.1273458,
                    -4.369193,
                    -1.7070158,
                    -8.177828,
                    -6.6478667,
                    -12.504286,
                    -14.191251,
                    12.967432,
                    10.180414,
                    10.839845,
                    11.158418,
                    -13.699631,
                    9.835102,
                    12.205978,
                    -15.342456,
                    11.149426,
                    -12.9337845,
                    4.9557095,
                    3.3338823,
                    -5.324203,
                    -13.281295,
                    12.698387,
                    -12.21838,
                    10.485998,
                    -13.601552,
                    -9.612739,
                    -4.5595665,
                    -7.127149,
                    -7.2862577,
                    1.6763407,
                    13.254897,
                    -9.563889,
                    -7.480514,
                    14.76384,
                    7.821745,
                    12.4592705,
                    12.794003,
                    -2.7059348,
                    15.285862,
                    11.064392,
                    -12.65616,
                    12.834167,
                    4.937972,
                    4.420368,
                    16.235521,
                    5.234789,
                    -7.2016606,
                    4.8805866,
                    -2.934368,
                    -10.606,
                    12.016948,
                    13.282544,
                    -8.633836,
                    -12.080809,
                    0.28638443,
                    0.030764628,
                    -6.186488,
                    3.0270941,
                    11.550065,
                    -16.862226,
                    -4.379718,
                    -14.077995,
                    -8.12488,
                    -11.003508,
                    -18.769796,
                    10.886221,
                    10.329597,
                    14.049211,
                    5.98765,
                    -15.510291,
                    13.736748,
                    -7.6900992,
                    -1.5680102,
                    1.4137658,
                    2.2420495,
                    3.9261315,
                    3.077711,
                    -7.219066,
                    -7.571979,
                    10.032783,
                    -2.0370586,
                    12.186253,
                    11.760457,
                    -14.856994,
                    -14.501552,
                    -3.94966,
                    -5.794553,
                    -11.7171135,
                    -2.2393997,
                    -2.1985977,
                    6.1339645,
                    9.656457,
                    1.8219826,
                    0.23072962,
                    7.8169174,
                    -10.3710575,
                    0.9418849,
                    6.9457445,
                    -3.6448283,
                    -5.4880843,
                    15.741875,
                    4.138769,
                    -12.17,
                    -3.485814,
                    -5.565037,
                    -16.12677,
                    -14.612193,
                    -9.397974,
                    -1.7664152,
                    16.143232,
                    -14.443037,
                    -15.356064,
                    14.189989,
                    8.255461,
                    -13.110406,
                    -8.343255,
                    9.568011,
                    10.373336,
                    -11.972382,
                    4.9977083,
                    15.67428,
                    2.6076708,
                    -2.5259259,
                    -6.712245,
                    14.4067545,
                    -12.424916,
                    8.255652,
                    6.383521,
                    12.608419,
                    -0.50034004,
                    13.518916,
                    -12.827899,
                    4.351026,
                    4.1199164,
                    2.8080235
                  ],
                  "z": [
                    -8.610283,
                    -2.0854435,
                    6.4660025,
                    12.901047,
                    -1.7378291,
                    -14.901,
                    -0.81249326,
                    -4.729387,
                    -14.284642,
                    -6.436255,
                    -3.319527,
                    -0.57485735,
                    1.4856699,
                    4.68794,
                    13.304722,
                    -3.2131448,
                    -19.272139,
                    -19.562645,
                    1.5169548,
                    5.8612947,
                    -6.202613,
                    -1.0666151,
                    0.8845642,
                    -18.275837,
                    -18.565971,
                    -0.6143787,
                    -0.9602399,
                    4.239493,
                    -10.467535,
                    8.824207,
                    -5.733462,
                    -3.8562055,
                    14.176077,
                    12.905932,
                    -9.10943,
                    -1.6027062,
                    11.633566,
                    -3.2918482,
                    -2.13861,
                    -5.861196,
                    -17.462019,
                    -0.75516343,
                    -7.7207317,
                    12.044335,
                    11.055516,
                    -3.2572212,
                    11.658209,
                    11.445742,
                    11.779433,
                    -15.441434,
                    10.068144,
                    -12.25915,
                    8.048311,
                    -8.068179,
                    6.042468,
                    -13.001896,
                    -3.315375,
                    16.721579,
                    8.880815,
                    -2.703765,
                    11.723424,
                    14.45491,
                    -13.126046,
                    2.0313396,
                    2.7333744,
                    4.562763,
                    8.258243,
                    -5.1089606,
                    -1.1561311,
                    1.9554461,
                    -2.0684426,
                    -0.5896896,
                    13.316489,
                    -6.774917,
                    -6.956557,
                    -1.1296,
                    -6.239179,
                    -12.435105,
                    10.652069,
                    -3.2485912,
                    -0.33598527,
                    0.08738527,
                    -5.0714555,
                    -12.684069,
                    8.373318,
                    -0.89664865,
                    -1.5878611,
                    -13.563988,
                    -3.5377781,
                    -1.8710713,
                    0.08740448,
                    6.3098764,
                    -21.946495,
                    -22.037777,
                    -7.146168,
                    -2.7445579,
                    -12.441683,
                    -13.60083,
                    2.0519903,
                    8.022385,
                    -0.8717274,
                    -13.790389,
                    2.1082976,
                    12.93063,
                    13.109062,
                    -8.553808,
                    -2.8260095,
                    -12.856281,
                    -10.003235,
                    11.704708,
                    -4.645793,
                    -4.949988,
                    -3.7247303,
                    -3.115908,
                    -3.4301412,
                    9.954334,
                    10.1122,
                    10.194757,
                    4.787864,
                    10.844248,
                    11.052995,
                    -12.503018,
                    -12.699429,
                    0.3898344,
                    15.35313,
                    12.948234,
                    -2.5475056,
                    -2.9801142,
                    -4.463017,
                    11.948952,
                    -3.6991208,
                    -4.000278,
                    -10.65758,
                    3.427125,
                    -22.953981,
                    -11.03025,
                    -0.14244786,
                    -0.7297099,
                    -3.4642186,
                    -0.592275,
                    6.6594334,
                    -1.2763042,
                    16.26784,
                    7.0376673,
                    10.468098,
                    5.5878596,
                    -4.4763556,
                    -3.4602466,
                    7.6870604,
                    9.668522,
                    -7.532681,
                    14.853688,
                    8.802742,
                    5.1058855,
                    12.530382,
                    11.923518,
                    13.938027,
                    -3.0551136,
                    -5.828954,
                    -1.3296868,
                    4.5607038,
                    4.3934464,
                    0.0628263,
                    6.9882226,
                    14.565131,
                    -11.959008,
                    10.597243,
                    -3.7547836,
                    -6.6159835,
                    7.8523064,
                    -9.466693,
                    -9.703562,
                    -0.7154038
                  ]
                }
              ],
              "layout": {
                "coloraxis": {
                  "colorbar": {
                    "title": {
                      "text": "marketCap_bins"
                    }
                  },
                  "colorscale": [
                    [
                      0,
                      "#0d0887"
                    ],
                    [
                      0.1111111111111111,
                      "#46039f"
                    ],
                    [
                      0.2222222222222222,
                      "#7201a8"
                    ],
                    [
                      0.3333333333333333,
                      "#9c179e"
                    ],
                    [
                      0.4444444444444444,
                      "#bd3786"
                    ],
                    [
                      0.5555555555555556,
                      "#d8576b"
                    ],
                    [
                      0.6666666666666666,
                      "#ed7953"
                    ],
                    [
                      0.7777777777777778,
                      "#fb9f3a"
                    ],
                    [
                      0.8888888888888888,
                      "#fdca26"
                    ],
                    [
                      1,
                      "#f0f921"
                    ]
                  ]
                },
                "legend": {
                  "itemsizing": "constant",
                  "tracegroupgap": 0
                },
                "margin": {
                  "t": 60
                },
                "scene": {
                  "domain": {
                    "x": [
                      0,
                      1
                    ],
                    "y": [
                      0,
                      1
                    ]
                  },
                  "xaxis": {
                    "showticklabels": false,
                    "title": {}
                  },
                  "yaxis": {
                    "showticklabels": false,
                    "title": {}
                  },
                  "zaxis": {
                    "showticklabels": false,
                    "title": {}
                  }
                },
                "template": {
                  "data": {
                    "bar": [
                      {
                        "error_x": {
                          "color": "#2a3f5f"
                        },
                        "error_y": {
                          "color": "#2a3f5f"
                        },
                        "marker": {
                          "line": {
                            "color": "#E5ECF6",
                            "width": 0.5
                          },
                          "pattern": {
                            "fillmode": "overlay",
                            "size": 10,
                            "solidity": 0.2
                          }
                        },
                        "type": "bar"
                      }
                    ],
                    "barpolar": [
                      {
                        "marker": {
                          "line": {
                            "color": "#E5ECF6",
                            "width": 0.5
                          },
                          "pattern": {
                            "fillmode": "overlay",
                            "size": 10,
                            "solidity": 0.2
                          }
                        },
                        "type": "barpolar"
                      }
                    ],
                    "carpet": [
                      {
                        "aaxis": {
                          "endlinecolor": "#2a3f5f",
                          "gridcolor": "white",
                          "linecolor": "white",
                          "minorgridcolor": "white",
                          "startlinecolor": "#2a3f5f"
                        },
                        "baxis": {
                          "endlinecolor": "#2a3f5f",
                          "gridcolor": "white",
                          "linecolor": "white",
                          "minorgridcolor": "white",
                          "startlinecolor": "#2a3f5f"
                        },
                        "type": "carpet"
                      }
                    ],
                    "choropleth": [
                      {
                        "colorbar": {
                          "outlinewidth": 0,
                          "ticks": ""
                        },
                        "type": "choropleth"
                      }
                    ],
                    "contour": [
                      {
                        "colorbar": {
                          "outlinewidth": 0,
                          "ticks": ""
                        },
                        "colorscale": [
                          [
                            0,
                            "#0d0887"
                          ],
                          [
                            0.1111111111111111,
                            "#46039f"
                          ],
                          [
                            0.2222222222222222,
                            "#7201a8"
                          ],
                          [
                            0.3333333333333333,
                            "#9c179e"
                          ],
                          [
                            0.4444444444444444,
                            "#bd3786"
                          ],
                          [
                            0.5555555555555556,
                            "#d8576b"
                          ],
                          [
                            0.6666666666666666,
                            "#ed7953"
                          ],
                          [
                            0.7777777777777778,
                            "#fb9f3a"
                          ],
                          [
                            0.8888888888888888,
                            "#fdca26"
                          ],
                          [
                            1,
                            "#f0f921"
                          ]
                        ],
                        "type": "contour"
                      }
                    ],
                    "contourcarpet": [
                      {
                        "colorbar": {
                          "outlinewidth": 0,
                          "ticks": ""
                        },
                        "type": "contourcarpet"
                      }
                    ],
                    "heatmap": [
                      {
                        "colorbar": {
                          "outlinewidth": 0,
                          "ticks": ""
                        },
                        "colorscale": [
                          [
                            0,
                            "#0d0887"
                          ],
                          [
                            0.1111111111111111,
                            "#46039f"
                          ],
                          [
                            0.2222222222222222,
                            "#7201a8"
                          ],
                          [
                            0.3333333333333333,
                            "#9c179e"
                          ],
                          [
                            0.4444444444444444,
                            "#bd3786"
                          ],
                          [
                            0.5555555555555556,
                            "#d8576b"
                          ],
                          [
                            0.6666666666666666,
                            "#ed7953"
                          ],
                          [
                            0.7777777777777778,
                            "#fb9f3a"
                          ],
                          [
                            0.8888888888888888,
                            "#fdca26"
                          ],
                          [
                            1,
                            "#f0f921"
                          ]
                        ],
                        "type": "heatmap"
                      }
                    ],
                    "heatmapgl": [
                      {
                        "colorbar": {
                          "outlinewidth": 0,
                          "ticks": ""
                        },
                        "colorscale": [
                          [
                            0,
                            "#0d0887"
                          ],
                          [
                            0.1111111111111111,
                            "#46039f"
                          ],
                          [
                            0.2222222222222222,
                            "#7201a8"
                          ],
                          [
                            0.3333333333333333,
                            "#9c179e"
                          ],
                          [
                            0.4444444444444444,
                            "#bd3786"
                          ],
                          [
                            0.5555555555555556,
                            "#d8576b"
                          ],
                          [
                            0.6666666666666666,
                            "#ed7953"
                          ],
                          [
                            0.7777777777777778,
                            "#fb9f3a"
                          ],
                          [
                            0.8888888888888888,
                            "#fdca26"
                          ],
                          [
                            1,
                            "#f0f921"
                          ]
                        ],
                        "type": "heatmapgl"
                      }
                    ],
                    "histogram": [
                      {
                        "marker": {
                          "pattern": {
                            "fillmode": "overlay",
                            "size": 10,
                            "solidity": 0.2
                          }
                        },
                        "type": "histogram"
                      }
                    ],
                    "histogram2d": [
                      {
                        "colorbar": {
                          "outlinewidth": 0,
                          "ticks": ""
                        },
                        "colorscale": [
                          [
                            0,
                            "#0d0887"
                          ],
                          [
                            0.1111111111111111,
                            "#46039f"
                          ],
                          [
                            0.2222222222222222,
                            "#7201a8"
                          ],
                          [
                            0.3333333333333333,
                            "#9c179e"
                          ],
                          [
                            0.4444444444444444,
                            "#bd3786"
                          ],
                          [
                            0.5555555555555556,
                            "#d8576b"
                          ],
                          [
                            0.6666666666666666,
                            "#ed7953"
                          ],
                          [
                            0.7777777777777778,
                            "#fb9f3a"
                          ],
                          [
                            0.8888888888888888,
                            "#fdca26"
                          ],
                          [
                            1,
                            "#f0f921"
                          ]
                        ],
                        "type": "histogram2d"
                      }
                    ],
                    "histogram2dcontour": [
                      {
                        "colorbar": {
                          "outlinewidth": 0,
                          "ticks": ""
                        },
                        "colorscale": [
                          [
                            0,
                            "#0d0887"
                          ],
                          [
                            0.1111111111111111,
                            "#46039f"
                          ],
                          [
                            0.2222222222222222,
                            "#7201a8"
                          ],
                          [
                            0.3333333333333333,
                            "#9c179e"
                          ],
                          [
                            0.4444444444444444,
                            "#bd3786"
                          ],
                          [
                            0.5555555555555556,
                            "#d8576b"
                          ],
                          [
                            0.6666666666666666,
                            "#ed7953"
                          ],
                          [
                            0.7777777777777778,
                            "#fb9f3a"
                          ],
                          [
                            0.8888888888888888,
                            "#fdca26"
                          ],
                          [
                            1,
                            "#f0f921"
                          ]
                        ],
                        "type": "histogram2dcontour"
                      }
                    ],
                    "mesh3d": [
                      {
                        "colorbar": {
                          "outlinewidth": 0,
                          "ticks": ""
                        },
                        "type": "mesh3d"
                      }
                    ],
                    "parcoords": [
                      {
                        "line": {
                          "colorbar": {
                            "outlinewidth": 0,
                            "ticks": ""
                          }
                        },
                        "type": "parcoords"
                      }
                    ],
                    "pie": [
                      {
                        "automargin": true,
                        "type": "pie"
                      }
                    ],
                    "scatter": [
                      {
                        "fillpattern": {
                          "fillmode": "overlay",
                          "size": 10,
                          "solidity": 0.2
                        },
                        "type": "scatter"
                      }
                    ],
                    "scatter3d": [
                      {
                        "line": {
                          "colorbar": {
                            "outlinewidth": 0,
                            "ticks": ""
                          }
                        },
                        "marker": {
                          "colorbar": {
                            "outlinewidth": 0,
                            "ticks": ""
                          }
                        },
                        "type": "scatter3d"
                      }
                    ],
                    "scattercarpet": [
                      {
                        "marker": {
                          "colorbar": {
                            "outlinewidth": 0,
                            "ticks": ""
                          }
                        },
                        "type": "scattercarpet"
                      }
                    ],
                    "scattergeo": [
                      {
                        "marker": {
                          "colorbar": {
                            "outlinewidth": 0,
                            "ticks": ""
                          }
                        },
                        "type": "scattergeo"
                      }
                    ],
                    "scattergl": [
                      {
                        "marker": {
                          "colorbar": {
                            "outlinewidth": 0,
                            "ticks": ""
                          }
                        },
                        "type": "scattergl"
                      }
                    ],
                    "scattermapbox": [
                      {
                        "marker": {
                          "colorbar": {
                            "outlinewidth": 0,
                            "ticks": ""
                          }
                        },
                        "type": "scattermapbox"
                      }
                    ],
                    "scatterpolar": [
                      {
                        "marker": {
                          "colorbar": {
                            "outlinewidth": 0,
                            "ticks": ""
                          }
                        },
                        "type": "scatterpolar"
                      }
                    ],
                    "scatterpolargl": [
                      {
                        "marker": {
                          "colorbar": {
                            "outlinewidth": 0,
                            "ticks": ""
                          }
                        },
                        "type": "scatterpolargl"
                      }
                    ],
                    "scatterternary": [
                      {
                        "marker": {
                          "colorbar": {
                            "outlinewidth": 0,
                            "ticks": ""
                          }
                        },
                        "type": "scatterternary"
                      }
                    ],
                    "surface": [
                      {
                        "colorbar": {
                          "outlinewidth": 0,
                          "ticks": ""
                        },
                        "colorscale": [
                          [
                            0,
                            "#0d0887"
                          ],
                          [
                            0.1111111111111111,
                            "#46039f"
                          ],
                          [
                            0.2222222222222222,
                            "#7201a8"
                          ],
                          [
                            0.3333333333333333,
                            "#9c179e"
                          ],
                          [
                            0.4444444444444444,
                            "#bd3786"
                          ],
                          [
                            0.5555555555555556,
                            "#d8576b"
                          ],
                          [
                            0.6666666666666666,
                            "#ed7953"
                          ],
                          [
                            0.7777777777777778,
                            "#fb9f3a"
                          ],
                          [
                            0.8888888888888888,
                            "#fdca26"
                          ],
                          [
                            1,
                            "#f0f921"
                          ]
                        ],
                        "type": "surface"
                      }
                    ],
                    "table": [
                      {
                        "cells": {
                          "fill": {
                            "color": "#EBF0F8"
                          },
                          "line": {
                            "color": "white"
                          }
                        },
                        "header": {
                          "fill": {
                            "color": "#C8D4E3"
                          },
                          "line": {
                            "color": "white"
                          }
                        },
                        "type": "table"
                      }
                    ]
                  },
                  "layout": {
                    "annotationdefaults": {
                      "arrowcolor": "#2a3f5f",
                      "arrowhead": 0,
                      "arrowwidth": 1
                    },
                    "autotypenumbers": "strict",
                    "coloraxis": {
                      "colorbar": {
                        "outlinewidth": 0,
                        "ticks": ""
                      }
                    },
                    "colorscale": {
                      "diverging": [
                        [
                          0,
                          "#8e0152"
                        ],
                        [
                          0.1,
                          "#c51b7d"
                        ],
                        [
                          0.2,
                          "#de77ae"
                        ],
                        [
                          0.3,
                          "#f1b6da"
                        ],
                        [
                          0.4,
                          "#fde0ef"
                        ],
                        [
                          0.5,
                          "#f7f7f7"
                        ],
                        [
                          0.6,
                          "#e6f5d0"
                        ],
                        [
                          0.7,
                          "#b8e186"
                        ],
                        [
                          0.8,
                          "#7fbc41"
                        ],
                        [
                          0.9,
                          "#4d9221"
                        ],
                        [
                          1,
                          "#276419"
                        ]
                      ],
                      "sequential": [
                        [
                          0,
                          "#0d0887"
                        ],
                        [
                          0.1111111111111111,
                          "#46039f"
                        ],
                        [
                          0.2222222222222222,
                          "#7201a8"
                        ],
                        [
                          0.3333333333333333,
                          "#9c179e"
                        ],
                        [
                          0.4444444444444444,
                          "#bd3786"
                        ],
                        [
                          0.5555555555555556,
                          "#d8576b"
                        ],
                        [
                          0.6666666666666666,
                          "#ed7953"
                        ],
                        [
                          0.7777777777777778,
                          "#fb9f3a"
                        ],
                        [
                          0.8888888888888888,
                          "#fdca26"
                        ],
                        [
                          1,
                          "#f0f921"
                        ]
                      ],
                      "sequentialminus": [
                        [
                          0,
                          "#0d0887"
                        ],
                        [
                          0.1111111111111111,
                          "#46039f"
                        ],
                        [
                          0.2222222222222222,
                          "#7201a8"
                        ],
                        [
                          0.3333333333333333,
                          "#9c179e"
                        ],
                        [
                          0.4444444444444444,
                          "#bd3786"
                        ],
                        [
                          0.5555555555555556,
                          "#d8576b"
                        ],
                        [
                          0.6666666666666666,
                          "#ed7953"
                        ],
                        [
                          0.7777777777777778,
                          "#fb9f3a"
                        ],
                        [
                          0.8888888888888888,
                          "#fdca26"
                        ],
                        [
                          1,
                          "#f0f921"
                        ]
                      ]
                    },
                    "colorway": [
                      "#636efa",
                      "#EF553B",
                      "#00cc96",
                      "#ab63fa",
                      "#FFA15A",
                      "#19d3f3",
                      "#FF6692",
                      "#B6E880",
                      "#FF97FF",
                      "#FECB52"
                    ],
                    "font": {
                      "color": "#2a3f5f"
                    },
                    "geo": {
                      "bgcolor": "white",
                      "lakecolor": "white",
                      "landcolor": "#E5ECF6",
                      "showlakes": true,
                      "showland": true,
                      "subunitcolor": "white"
                    },
                    "hoverlabel": {
                      "align": "left"
                    },
                    "hovermode": "closest",
                    "mapbox": {
                      "style": "light"
                    },
                    "paper_bgcolor": "white",
                    "plot_bgcolor": "#E5ECF6",
                    "polar": {
                      "angularaxis": {
                        "gridcolor": "white",
                        "linecolor": "white",
                        "ticks": ""
                      },
                      "bgcolor": "#E5ECF6",
                      "radialaxis": {
                        "gridcolor": "white",
                        "linecolor": "white",
                        "ticks": ""
                      }
                    },
                    "scene": {
                      "xaxis": {
                        "backgroundcolor": "#E5ECF6",
                        "gridcolor": "white",
                        "gridwidth": 2,
                        "linecolor": "white",
                        "showbackground": true,
                        "ticks": "",
                        "zerolinecolor": "white"
                      },
                      "yaxis": {
                        "backgroundcolor": "#E5ECF6",
                        "gridcolor": "white",
                        "gridwidth": 2,
                        "linecolor": "white",
                        "showbackground": true,
                        "ticks": "",
                        "zerolinecolor": "white"
                      },
                      "zaxis": {
                        "backgroundcolor": "#E5ECF6",
                        "gridcolor": "white",
                        "gridwidth": 2,
                        "linecolor": "white",
                        "showbackground": true,
                        "ticks": "",
                        "zerolinecolor": "white"
                      }
                    },
                    "shapedefaults": {
                      "line": {
                        "color": "#2a3f5f"
                      }
                    },
                    "ternary": {
                      "aaxis": {
                        "gridcolor": "white",
                        "linecolor": "white",
                        "ticks": ""
                      },
                      "baxis": {
                        "gridcolor": "white",
                        "linecolor": "white",
                        "ticks": ""
                      },
                      "bgcolor": "#E5ECF6",
                      "caxis": {
                        "gridcolor": "white",
                        "linecolor": "white",
                        "ticks": ""
                      }
                    },
                    "title": {
                      "x": 0.05
                    },
                    "xaxis": {
                      "automargin": true,
                      "gridcolor": "white",
                      "linecolor": "white",
                      "ticks": "",
                      "title": {
                        "standoff": 15
                      },
                      "zerolinecolor": "white",
                      "zerolinewidth": 2
                    },
                    "yaxis": {
                      "automargin": true,
                      "gridcolor": "white",
                      "linecolor": "white",
                      "ticks": "",
                      "title": {
                        "standoff": 15
                      },
                      "zerolinecolor": "white",
                      "zerolinewidth": 2
                    }
                  }
                }
              }
            }
          },
          "metadata": {},
          "output_type": "display_data"
        }
      ],
      "source": [
        "import plotly.express as px\n",
        "\n",
        "def create_3d_scatterplot(embedding):\n",
        "    fig = px.scatter_3d(\n",
        "        embedding, x=0, y=1, z=2,\n",
        "        size=embedding.marketCap_bins,\n",
        "        hover_name=embedding.shortName,\n",
        "        color=embedding.marketCap_bins,\n",
        "        opacity=0.6,\n",
        "        hover_data=embedding[['currency', 'marketCap', 'revenueGrowth', 'operatingMargins']]\n",
        "    )\n",
        "    fig.update_traces(marker_size=8)\n",
        "    \n",
        "    # Remove x, y, and z labels and ticks\n",
        "    fig.update_layout(\n",
        "        scene=dict(\n",
        "            xaxis_title=None,\n",
        "            yaxis_title=None,\n",
        "            zaxis_title=None,\n",
        "            xaxis=dict(showticklabels=False),\n",
        "            yaxis=dict(showticklabels=False),\n",
        "            zaxis=dict(showticklabels=False)\n",
        "        )\n",
        "    )\n",
        "    \n",
        "    fig.show()\n",
        "\n",
        "# Assuming you have the 'embedding' data as a 3D array or list of lists\n",
        "create_3d_scatterplot(embedding_3d)\n"
      ]
    },
    {
      "cell_type": "code",
      "execution_count": 325,
      "metadata": {},
      "outputs": [],
      "source": [
        "X_embedded_2d = TSNE(n_components=2, learning_rate='auto', init='random', perplexity=3).fit_transform(X)\n",
        "X_embedded_2d = pd.DataFrame(X_embedded_2d)\n",
        "df.reset_index(drop=True,inplace=True)\n",
        "embedding_2d = pd.concat([df,X_embedded_2d],axis=1)"
      ]
    },
    {
      "cell_type": "code",
      "execution_count": 326,
      "metadata": {},
      "outputs": [
        {
          "data": {
            "application/vnd.plotly.v1+json": {
              "config": {
                "plotlyServerURL": "https://plot.ly"
              },
              "data": [
                {
                  "customdata": [
                    [
                      "EUR",
                      192702480,
                      0.052,
                      0.10755
                    ],
                    [
                      "EUR",
                      149290848,
                      0.294,
                      0.15421
                    ],
                    [
                      "EUR",
                      183931552,
                      0.108,
                      0.06052
                    ],
                    [
                      "EUR",
                      186964672,
                      0.122,
                      0.08328
                    ],
                    [
                      "EUR",
                      239215696,
                      0.028,
                      0.12106
                    ],
                    [
                      "EUR",
                      261782368,
                      0.134,
                      0.10316
                    ],
                    [
                      "EUR",
                      141902400,
                      -0.135,
                      -0.03197
                    ],
                    [
                      "EUR",
                      160003344,
                      -0.269,
                      -0.10049
                    ],
                    [
                      "EUR",
                      139210304,
                      -0.122,
                      -0.39671
                    ],
                    [
                      "EUR",
                      130000000,
                      0.012,
                      0.00278
                    ],
                    [
                      "EUR",
                      189120496,
                      0.498,
                      0.030450001
                    ],
                    [
                      "EUR",
                      126074104,
                      0.169,
                      0.06297
                    ],
                    [
                      "EUR",
                      187322272,
                      0.028,
                      0.07695
                    ],
                    [
                      "EUR",
                      216848080,
                      0.088,
                      0.09559
                    ],
                    [
                      "EUR",
                      190257584,
                      0.143,
                      0.060149997
                    ],
                    [
                      "EUR",
                      177619040,
                      -0.131,
                      -0.04066
                    ],
                    [
                      "EUR",
                      201316480,
                      0.332,
                      0.02885
                    ]
                  ],
                  "hovertemplate": "<b>%{hovertext}</b><br><br>marketCap_bins=3.0<br>0=%{x}<br>1=%{y}<br>currency=%{customdata[0]}<br>marketCap=%{customdata[1]}<br>revenueGrowth=%{customdata[2]}<br>operatingMargins=%{customdata[3]}<extra></extra>",
                  "hovertext": [
                    "RIMINI STREET  DL-,0001",
                    "MGI DIGITAL GRAPHI",
                    "Detection Technology Oyj",
                    "EKINOPS",
                    "IVU TRAFFIC TECHN.AG O.N.",
                    "INIT INNOVATION O.N.",
                    "BITTIUM OYJ",
                    "JU TENG INTL HLDGS HD-,01",
                    "KOPIN CORP.  DL-,01",
                    "Kapsch TrafficCom AG",
                    "LACROIX GROUP",
                    "NOVABASE SGPS INH. EO0,03",
                    "USU SOFTWARE AG",
                    "SQLI",
                    "TOYO CORP.",
                    "VOXX INTL CORP. A  DL-,01",
                    "CSE GLOBAL LTD.  SD-,05"
                  ],
                  "legendgroup": "3.0",
                  "marker": {
                    "color": "#636efa",
                    "size": 8,
                    "symbol": "circle"
                  },
                  "mode": "markers",
                  "name": "3.0",
                  "orientation": "v",
                  "showlegend": true,
                  "type": "scatter",
                  "x": [
                    -6.2052517,
                    2.2418947,
                    25.584421,
                    5.548746,
                    -7.040143,
                    6.3368196,
                    -26.46109,
                    -28.59841,
                    -11.634401,
                    -7.0102987,
                    -8.295242,
                    20.567486,
                    10.81452,
                    1.4509289,
                    21.072582,
                    -25.85772,
                    -2.8877668
                  ],
                  "xaxis": "x",
                  "y": [
                    -26.709639,
                    -4.5164003,
                    -2.9029315,
                    -18.992666,
                    -27.146534,
                    -24.610483,
                    13.897452,
                    10.326075,
                    77.49556,
                    30.620247,
                    -3.8055384,
                    6.4134254,
                    27.022758,
                    -24.854904,
                    7.621774,
                    13.516548,
                    4.2877326
                  ],
                  "yaxis": "y"
                },
                {
                  "customdata": [
                    [
                      "EUR",
                      11403037696,
                      0.254,
                      0.06571
                    ],
                    [
                      "EUR",
                      8923285504,
                      -0.371,
                      0.04264
                    ],
                    [
                      "EUR",
                      12916794368,
                      0.301,
                      0.122159995
                    ],
                    [
                      "EUR",
                      13414968320,
                      0.018,
                      0.04479
                    ],
                    [
                      "EUR",
                      11669155840,
                      0.178,
                      0.30061
                    ],
                    [
                      "EUR",
                      20467249152,
                      -0.028,
                      0.10146
                    ],
                    [
                      "EUR",
                      20395634688,
                      -0.028,
                      0.10146
                    ],
                    [
                      "EUR",
                      19365883904,
                      0.498,
                      0.06741
                    ],
                    [
                      "EUR",
                      13868254208,
                      0.124,
                      0.62866
                    ],
                    [
                      "EUR",
                      8470125056,
                      0.041,
                      0.32786
                    ],
                    [
                      "EUR",
                      7487539712,
                      0.184,
                      0.06481
                    ],
                    [
                      "EUR",
                      19292209152,
                      0.14,
                      0.00232
                    ],
                    [
                      "EUR",
                      12147620864,
                      0.067,
                      0.07903
                    ],
                    [
                      "EUR",
                      13998331904,
                      -0.186,
                      0.23150998
                    ],
                    [
                      "EUR",
                      19595472896,
                      -0.255,
                      0.26217
                    ],
                    [
                      "EUR",
                      13184172032,
                      -0.41,
                      -0.088
                    ],
                    [
                      "EUR",
                      12918931456,
                      0.026,
                      0.22295
                    ]
                  ],
                  "hovertemplate": "<b>%{hovertext}</b><br><br>marketCap_bins=8.0<br>0=%{x}<br>1=%{y}<br>currency=%{customdata[0]}<br>marketCap=%{customdata[1]}<br>revenueGrowth=%{customdata[2]}<br>operatingMargins=%{customdata[3]}<extra></extra>",
                  "hovertext": [
                    "XERO LTD",
                    "QORVO INC.DL -,0001",
                    "ENTEGRIS INC.  DL-,01",
                    "JABIL DL-,001",
                    "LATTICE SEMICOND.  DL-,01",
                    "NOKIA OYJ",
                    "Nokia Corporation",
                    "NTT DATA GROUP CORP.",
                    "OBIC CO. LTD",
                    "ORACLE CORP. JAPAN",
                    "OTSUKA CORP.",
                    "SPLUNK INC.  DL-,001",
                    "LEIDOS HOLDINGS  DL-,0001",
                    "TERADYNE INC.  DL-,125",
                    "ADVANTEST  ADR NEW/1 O.N.",
                    "WESTN DIGITAL  DL-,01",
                    "SS+C TECHNOL.HLDGS DL-,01"
                  ],
                  "legendgroup": "8.0",
                  "marker": {
                    "color": "#EF553B",
                    "size": 8,
                    "symbol": "circle"
                  },
                  "mode": "markers",
                  "name": "8.0",
                  "orientation": "v",
                  "showlegend": true,
                  "type": "scatter",
                  "x": [
                    24.01309,
                    -32.569828,
                    23.266418,
                    32.86534,
                    -9.088198,
                    48.945602,
                    48.175694,
                    22.177242,
                    -14.554172,
                    -12.027492,
                    25.027658,
                    34.24835,
                    32.15724,
                    -20.218445,
                    -19.905895,
                    -32.082546,
                    -15.238959
                  ],
                  "xaxis": "x",
                  "y": [
                    -10.6294155,
                    10.427647,
                    -11.358344,
                    -8.740448,
                    -54.251766,
                    -6.5222907,
                    -6.4277864,
                    -12.340123,
                    -53.139904,
                    -54.492863,
                    -9.545046,
                    -9.2657175,
                    -8.53141,
                    -37.793392,
                    -38.24304,
                    8.895127,
                    -36.08168
                  ],
                  "yaxis": "y"
                },
                {
                  "customdata": [
                    [
                      "EUR",
                      1230445312,
                      -0.08,
                      0.076519996
                    ],
                    [
                      "EUR",
                      1042940800,
                      0.023,
                      0.06504
                    ],
                    [
                      "EUR",
                      902087936,
                      0.192,
                      0.12657
                    ],
                    [
                      "EUR",
                      876864896,
                      -0.003,
                      0.03284
                    ],
                    [
                      "EUR",
                      914714752,
                      0.097,
                      0.0217
                    ],
                    [
                      "EUR",
                      921712000,
                      0.085,
                      0.111260004
                    ],
                    [
                      "EUR",
                      1022260800,
                      0.017,
                      0.09133001
                    ],
                    [
                      "EUR",
                      659321664,
                      -0.351,
                      -0.02757
                    ],
                    [
                      "EUR",
                      927065984,
                      -0.248,
                      0.04911
                    ],
                    [
                      "EUR",
                      1252366080,
                      -0.024,
                      0.44230998
                    ],
                    [
                      "EUR",
                      989285696,
                      0.33,
                      0.01408
                    ],
                    [
                      "EUR",
                      825904320,
                      0.002,
                      0.13675
                    ],
                    [
                      "EUR",
                      827571200,
                      0.002,
                      0.13675
                    ],
                    [
                      "EUR",
                      914465280,
                      0.127,
                      0.10569
                    ],
                    [
                      "EUR",
                      1241346432,
                      0.12,
                      0.03277
                    ],
                    [
                      "EUR",
                      924866112,
                      0.181,
                      -0.0947
                    ],
                    [
                      "EUR",
                      1241673856,
                      0.001,
                      0.15969
                    ],
                    [
                      "EUR",
                      1368299136,
                      0.118,
                      0.09199
                    ]
                  ],
                  "hovertemplate": "<b>%{hovertext}</b><br><br>marketCap_bins=5.0<br>0=%{x}<br>1=%{y}<br>currency=%{customdata[0]}<br>marketCap=%{customdata[1]}<br>revenueGrowth=%{customdata[2]}<br>operatingMargins=%{customdata[3]}<extra></extra>",
                  "hovertext": [
                    "KNOWLES CORP.  DL-,01",
                    "ADTRAN NETW.SE INH O.N.",
                    "ESKER",
                    "ATOS",
                    "CANCOM SE O.N.",
                    "DTS CORP.",
                    "FORMULA SYS 1985 ADR",
                    "FIH MOBILE LTD  DL-,04",
                    "HIMAX TECH.INC. ADR 1",
                    "JUSTSYSTEMS CORP",
                    "SKYWORTH GROUP LTD.HD-,10",
                    "MENSCH UND MASCH.O.N.",
                    "MENSCH UND MASCH.O.N.",
                    "NEURONES",
                    "TOSHIBA TEC CORP.",
                    "TOMTOM",
                    "CTS CORP.",
                    "SECUNET SECURITY AG O.N."
                  ],
                  "legendgroup": "5.0",
                  "marker": {
                    "color": "#00cc96",
                    "size": 8,
                    "symbol": "circle"
                  },
                  "mode": "markers",
                  "name": "5.0",
                  "orientation": "v",
                  "showlegend": true,
                  "type": "scatter",
                  "x": [
                    -31.10518,
                    10.421439,
                    22.059317,
                    -6.6938925,
                    23.097824,
                    0.4067435,
                    11.135645,
                    -30.465733,
                    -34.721195,
                    -13.395063,
                    -3.4506743,
                    -9.433063,
                    -9.901365,
                    5.760567,
                    22.734259,
                    -15.471072,
                    -10.663081,
                    5.407302
                  ],
                  "xaxis": "x",
                  "y": [
                    22.305681,
                    25.687546,
                    -36.31981,
                    32.61248,
                    11.525591,
                    -25.629044,
                    28.022934,
                    10.649098,
                    17.065706,
                    -53.78544,
                    4.576841,
                    -29.110054,
                    -28.78986,
                    -24.435368,
                    10.801481,
                    10.974674,
                    -30.405396,
                    -20.572054
                  ],
                  "yaxis": "y"
                },
                {
                  "customdata": [
                    [
                      "EUR",
                      4472016384,
                      0.367,
                      0.36754
                    ],
                    [
                      "EUR",
                      5156214272,
                      0.144,
                      0.27087998
                    ],
                    [
                      "EUR",
                      6609244672,
                      0.252,
                      0.20825
                    ],
                    [
                      "EUR",
                      4422403072,
                      -0.021,
                      0.15701
                    ],
                    [
                      "EUR",
                      3778528768,
                      -0.131,
                      0.24187
                    ],
                    [
                      "EUR",
                      4626964480,
                      0.168,
                      0.14583
                    ],
                    [
                      "EUR",
                      3460965632,
                      0.136,
                      0.27283
                    ],
                    [
                      "EUR",
                      6851460096,
                      0.018,
                      0.21699
                    ],
                    [
                      "EUR",
                      3853417472,
                      0.039,
                      0.13718
                    ],
                    [
                      "EUR",
                      5266178048,
                      0.086,
                      0.11959
                    ],
                    [
                      "EUR",
                      3487382016,
                      0.169,
                      0.14358
                    ],
                    [
                      "EUR",
                      6839003136,
                      0.075,
                      0.068730004
                    ],
                    [
                      "EUR",
                      5222723072,
                      -0.38,
                      0.21231002
                    ],
                    [
                      "EUR",
                      6100724224,
                      0.262,
                      0.24586001
                    ],
                    [
                      "EUR",
                      3993075456,
                      0.116,
                      0.07744
                    ],
                    [
                      "EUR",
                      3885881088,
                      -0.037,
                      -0.01539
                    ],
                    [
                      "EUR",
                      3871206144,
                      0.134,
                      0.26416
                    ]
                  ],
                  "hovertemplate": "<b>%{hovertext}</b><br><br>marketCap_bins=7.0<br>0=%{x}<br>1=%{y}<br>currency=%{customdata[0]}<br>marketCap=%{customdata[1]}<br>revenueGrowth=%{customdata[2]}<br>operatingMargins=%{customdata[3]}<extra></extra>",
                  "hovertext": [
                    "GCL TECHNOLOGY HOLD. LTD.",
                    "QUALYS INC.  DL -,001",
                    "XINYI SOLAR HLDGS",
                    "SCREEN HOLDINGS CO. LTD.",
                    "HIROSE EL.",
                    "EXLSERVICE HLDGS  DL-,001",
                    "MELEXIS",
                    "NEMETSCHEK SE O N",
                    "BELDEN INC.  DL -,01",
                    "SCSK CORP.",
                    "REPLY",
                    "REXEL",
                    "SHINKO EL.IND.LTD",
                    "SOITEC",
                    "SOPRA STERIA GROUP",
                    "SHARP",
                    "SIMCORP A/S  NAM.  DK 1"
                  ],
                  "legendgroup": "7.0",
                  "marker": {
                    "color": "#ab63fa",
                    "size": 8,
                    "symbol": "circle"
                  },
                  "mode": "markers",
                  "name": "7.0",
                  "orientation": "v",
                  "showlegend": true,
                  "type": "scatter",
                  "x": [
                    5.543855,
                    -10.0858755,
                    0.84770757,
                    -12.027837,
                    -22.477993,
                    17.352196,
                    -10.501669,
                    -14.464375,
                    -9.480139,
                    -7.830334,
                    17.853426,
                    28.8623,
                    -41.19023,
                    1.3965408,
                    27.21368,
                    -8.754217,
                    -9.646659
                  ],
                  "xaxis": "x",
                  "y": [
                    -55.438934,
                    -55.43006,
                    -56.716747,
                    -31.16139,
                    -35.27517,
                    -37.907757,
                    -56.40653,
                    -35.49972,
                    -33.70461,
                    -34.514767,
                    -37.76957,
                    -7.417917,
                    9.951411,
                    -56.77689,
                    -6.98837,
                    30.118105,
                    -56.465317
                  ],
                  "yaxis": "y"
                },
                {
                  "customdata": [
                    [
                      "EUR",
                      68281632,
                      -0.088,
                      -0.66233003
                    ],
                    [
                      "EUR",
                      108399848,
                      0.246,
                      0.04091
                    ],
                    [
                      "EUR",
                      37506976,
                      0.379,
                      -0.1843
                    ],
                    [
                      "EUR",
                      119240576,
                      0.144,
                      0.04027
                    ],
                    [
                      "EUR",
                      86141488,
                      0.218,
                      0.091680005
                    ],
                    [
                      "EUR",
                      115464728,
                      0.002,
                      0.0116
                    ],
                    [
                      "EUR",
                      122119648,
                      0.169,
                      0.06297
                    ],
                    [
                      "EUR",
                      32303936,
                      0.216,
                      -0.13832
                    ],
                    [
                      "EUR",
                      109693440,
                      0.033,
                      -0.36148998
                    ],
                    [
                      "EUR",
                      63970744,
                      -0.287,
                      -0.42407
                    ],
                    [
                      "EUR",
                      55895356,
                      0.192,
                      0.03053
                    ],
                    [
                      "EUR",
                      41732720,
                      0.476,
                      -0.09227
                    ],
                    [
                      "EUR",
                      75523008,
                      0.075,
                      0.06386
                    ],
                    [
                      "EUR",
                      64381576,
                      -0.087,
                      0.01047
                    ],
                    [
                      "EUR",
                      33282964,
                      0.36,
                      0.24042
                    ],
                    [
                      "EUR",
                      120520048,
                      0.322,
                      0.12986
                    ],
                    [
                      "EUR",
                      76309264,
                      0.113,
                      0.10812
                    ]
                  ],
                  "hovertemplate": "<b>%{hovertext}</b><br><br>marketCap_bins=2.0<br>0=%{x}<br>1=%{y}<br>currency=%{customdata[0]}<br>marketCap=%{customdata[1]}<br>revenueGrowth=%{customdata[2]}<br>operatingMargins=%{customdata[3]}<extra></extra>",
                  "hovertext": [
                    "EXPERT.AI S.P.A.",
                    "KEYRUS",
                    "DATRIX S.P.A.",
                    "CENIT AG O.N.",
                    "FORTEC ELEKTRO. O.N.",
                    "MANZ AG",
                    "Novabase, SGPS - Nom.",
                    "CRESCENT",
                    "PARROT",
                    "PIXELWORKS INC.NEW DL-,01",
                    "SOFTING AG O.N.",
                    "VECTRON SYSTEMS  O.N.",
                    "VISCOM AG O.N.",
                    "V-CUBE INC.",
                    "WIRECARD AG",
                    "QUARTERHILL INC.",
                    "EXPRIVIA"
                  ],
                  "legendgroup": "2.0",
                  "marker": {
                    "color": "#FFA15A",
                    "size": 8,
                    "symbol": "circle"
                  },
                  "mode": "markers",
                  "name": "2.0",
                  "orientation": "v",
                  "showlegend": true,
                  "type": "scatter",
                  "x": [
                    -12.602744,
                    3.2448533,
                    -7.9790773,
                    21.902313,
                    24.75578,
                    -7.0268903,
                    20.054415,
                    -14.447071,
                    -9.388513,
                    -15.1645355,
                    6.9208035,
                    -6.7257347,
                    26.766487,
                    -27.72969,
                    5.3135304,
                    2.1625576,
                    3.9730794
                  ],
                  "xaxis": "x",
                  "y": [
                    71.70782,
                    4.6307917,
                    6.842022,
                    9.290491,
                    -35.043697,
                    31.373367,
                    6.7781677,
                    10.706384,
                    78.43057,
                    72.98522,
                    6.516839,
                    6.07136,
                    -2.1439233,
                    17.209929,
                    -58.17512,
                    -3.5183914,
                    -24.644917
                  ],
                  "yaxis": "y"
                },
                {
                  "customdata": [
                    [
                      "EUR",
                      12148951,
                      -0.255,
                      -0.50798
                    ],
                    [
                      "EUR",
                      26161050,
                      0.184,
                      0.01648
                    ],
                    [
                      "EUR",
                      4617008,
                      0.884,
                      -0.00759
                    ],
                    [
                      "EUR",
                      4836153,
                      0.047,
                      0.02503
                    ],
                    [
                      "EUR",
                      6974612,
                      1.582,
                      -4.28669
                    ],
                    [
                      "EUR",
                      21243106,
                      -0.119,
                      0.04538
                    ],
                    [
                      "EUR",
                      16427250,
                      0.143,
                      -0.17157
                    ],
                    [
                      "EUR",
                      18961360,
                      0.287,
                      0.061529998
                    ],
                    [
                      "EUR",
                      22002756,
                      0.489,
                      0.0725
                    ],
                    [
                      "EUR",
                      400806,
                      -0.352,
                      -0.4075
                    ],
                    [
                      "EUR",
                      17239164,
                      0.098,
                      0.14819999
                    ],
                    [
                      "EUR",
                      3913000,
                      0.252,
                      0.06333
                    ],
                    [
                      "EUR",
                      2645140,
                      -0.087,
                      -0.38774
                    ],
                    [
                      "EUR",
                      6938087,
                      -0.052,
                      -0.28855
                    ],
                    [
                      "EUR",
                      19633782,
                      0.9,
                      0.060159996
                    ],
                    [
                      "EUR",
                      4632981,
                      -0.124,
                      -0.32041
                    ],
                    [
                      "EUR",
                      4632981,
                      -0.124,
                      -0.32041
                    ],
                    [
                      "EUR",
                      2823822,
                      -0.053,
                      -0.12224
                    ]
                  ],
                  "hovertemplate": "<b>%{hovertext}</b><br><br>marketCap_bins=1.0<br>0=%{x}<br>1=%{y}<br>currency=%{customdata[0]}<br>marketCap=%{customdata[1]}<br>revenueGrowth=%{customdata[2]}<br>operatingMargins=%{customdata[3]}<extra></extra>",
                  "hovertext": [
                    "VISLI.T.INC NEW DL-,00001",
                    "INNELEC MULTIMEDIA",
                    "ACTEOS",
                    "UNION TECH.INFOR.",
                    "REVOLUGROUP CANADA INC",
                    "ITESOFT",
                    "INVISION AG",
                    "KEYWARE TECHNOLOGIES O.N.",
                    "NEUROSOFT",
                    "OPENLIMIT HLDG INH. SF-30",
                    "PLAN OPTIK  O.N.",
                    "PRO DV AG O.N.",
                    "GLOBAL PVQ SE",
                    "QPR Software Plc",
                    "QUALITY & RELIABILITY S.A.",
                    "SHS VIVEON AG",
                    "SHS VIVEON AG",
                    "SOFTEC"
                  ],
                  "legendgroup": "1.0",
                  "marker": {
                    "color": "#19d3f3",
                    "size": 8,
                    "symbol": "circle"
                  },
                  "mode": "markers",
                  "name": "1.0",
                  "orientation": "v",
                  "showlegend": true,
                  "type": "scatter",
                  "x": [
                    -14.08373,
                    6.946499,
                    -13.310442,
                    -1.8382204,
                    -11.495957,
                    -31.75954,
                    -13.818099,
                    1.6422883,
                    -8.34761,
                    -15.74287,
                    -0.7907605,
                    2.3986,
                    -10.976125,
                    -10.461858,
                    -12.75134,
                    -11.70208,
                    -11.805719,
                    -22.824343
                  ],
                  "xaxis": "x",
                  "y": [
                    72.44089,
                    7.1160126,
                    -8.009619,
                    30.542255,
                    71.01497,
                    20.032581,
                    11.391042,
                    3.3901973,
                    -4.24519,
                    73.24501,
                    -33.101704,
                    3.9804053,
                    77.802505,
                    80.886665,
                    -8.081964,
                    80.248764,
                    80.80558,
                    13.023756
                  ],
                  "yaxis": "y"
                },
                {
                  "customdata": [
                    [
                      "EUR",
                      108481724416,
                      -0.015,
                      0.29066
                    ],
                    [
                      "EUR",
                      2561194590208,
                      -0.014,
                      0.29231
                    ],
                    [
                      "EUR",
                      2559943901184,
                      -0.014,
                      0.29231
                    ],
                    [
                      "EUR",
                      240642539520,
                      0.271,
                      0.32042
                    ],
                    [
                      "EUR",
                      211866435584,
                      0.16,
                      0.27348
                    ],
                    [
                      "EUR",
                      213163982848,
                      0.16,
                      0.27348
                    ],
                    [
                      "EUR",
                      79452938240,
                      -0.023,
                      0.15854
                    ],
                    [
                      "EUR",
                      196546002944,
                      0.114,
                      0.12981
                    ],
                    [
                      "EUR",
                      125354434560,
                      -0.004,
                      0.141
                    ],
                    [
                      "EUR",
                      149197619200,
                      -0.155,
                      -0.04443
                    ],
                    [
                      "EUR",
                      90340933632,
                      0.158,
                      0.53258
                    ],
                    [
                      "EUR",
                      293514412032,
                      0.088,
                      0.28103
                    ],
                    [
                      "EUR",
                      293513625600,
                      0.088,
                      0.28103
                    ],
                    [
                      "EUR",
                      118747701248,
                      -0.227,
                      0.29514998
                    ],
                    [
                      "EUR",
                      118748143616,
                      -0.227,
                      0.29514998
                    ],
                    [
                      "EUR",
                      148809236480,
                      0.048,
                      0.15669
                    ],
                    [
                      "EUR",
                      102380298240,
                      0.329,
                      0.087
                    ],
                    [
                      "EUR",
                      342350823424,
                      -0.223,
                      0.060760003
                    ]
                  ],
                  "hovertemplate": "<b>%{hovertext}</b><br><br>marketCap_bins=10.0<br>0=%{x}<br>1=%{y}<br>currency=%{customdata[0]}<br>marketCap=%{customdata[1]}<br>revenueGrowth=%{customdata[2]}<br>operatingMargins=%{customdata[3]}<extra></extra>",
                  "hovertext": [
                    "APPLIED MATERIALS INC.",
                    "APPLE INC.",
                    "APPLE INC.",
                    "ASML HOLDING",
                    "CISCO SYSTEM INC",
                    "CISCO SYSTEMS INC",
                    "DEUTSCHE TELEKOM ADR 1",
                    "SALESFORCE INC.  DL-,001",
                    "INTERNATIONAL BUS MACH CORP",
                    "INTEL CORP",
                    "KEYENCE CORP.",
                    "ORACLE CORP.  DL-,01",
                    "ORACLE CORP.  DL-,01",
                    "QUALCOMM INC",
                    "QUALCOMM INC",
                    "SAP SE",
                    "SONY GROUP CORP.ADR/1O.N.",
                    "SAMS.EL.0,5SP.GDRS144A/95"
                  ],
                  "legendgroup": "10.0",
                  "marker": {
                    "color": "#FF6692",
                    "size": 8,
                    "symbol": "circle"
                  },
                  "mode": "markers",
                  "name": "10.0",
                  "orientation": "v",
                  "showlegend": true,
                  "type": "scatter",
                  "x": [
                    38.39532,
                    -62.91481,
                    -62.770103,
                    -56.75983,
                    -56.66691,
                    -57.444317,
                    31.535711,
                    -57.350643,
                    38.463383,
                    38.737076,
                    38.625526,
                    -55.58787,
                    -56.153797,
                    38.774834,
                    39.405193,
                    38.519535,
                    35.960308,
                    -55.711445
                  ],
                  "xaxis": "x",
                  "y": [
                    40.204845,
                    -20.0885,
                    -20.414974,
                    -15.861706,
                    -14.360082,
                    -14.641669,
                    47.755455,
                    -13.390735,
                    37.55316,
                    34.62168,
                    41.91834,
                    -19.40782,
                    -19.488857,
                    38.935207,
                    39.00672,
                    35.40658,
                    40.21027,
                    -20.810186
                  ],
                  "yaxis": "y"
                },
                {
                  "customdata": [
                    [
                      "EUR",
                      1870200064,
                      0.023,
                      0.06657
                    ],
                    [
                      "EUR",
                      1904455424,
                      0.047,
                      0.06606
                    ],
                    [
                      "EUR",
                      2406016768,
                      0.114,
                      0.14267999
                    ],
                    [
                      "EUR",
                      1619911040,
                      -0.343,
                      0.12946
                    ],
                    [
                      "EUR",
                      3156855552,
                      -0.134,
                      0.26055
                    ],
                    [
                      "EUR",
                      2309285120,
                      0.639,
                      0.09235
                    ],
                    [
                      "EUR",
                      2370010112,
                      0.639,
                      0.09235
                    ],
                    [
                      "EUR",
                      1949407616,
                      0.332,
                      0.16192
                    ],
                    [
                      "EUR",
                      2352560896,
                      0.095,
                      0.06306
                    ],
                    [
                      "EUR",
                      3377700096,
                      -0.112,
                      0.05862
                    ],
                    [
                      "EUR",
                      2055473664,
                      -0.214,
                      0.07648
                    ],
                    [
                      "EUR",
                      2633703936,
                      -0.161,
                      0.10574
                    ],
                    [
                      "EUR",
                      3269158400,
                      0.033,
                      0.17002001
                    ],
                    [
                      "EUR",
                      2803643136,
                      0.356,
                      -0.051009998
                    ],
                    [
                      "EUR",
                      1841324672,
                      0.083,
                      -0.08911
                    ],
                    [
                      "EUR",
                      1488467072,
                      0.207,
                      0.14321
                    ],
                    [
                      "EUR",
                      1368299264,
                      0.118,
                      0.09199
                    ]
                  ],
                  "hovertemplate": "<b>%{hovertext}</b><br><br>marketCap_bins=6.0<br>0=%{x}<br>1=%{y}<br>currency=%{customdata[0]}<br>marketCap=%{customdata[1]}<br>revenueGrowth=%{customdata[2]}<br>operatingMargins=%{customdata[3]}<extra></extra>",
                  "hovertext": [
                    "CASIO COMPUTER",
                    "FUJI SOFT INC.",
                    "INFORM. SVCS INTL-DENTSU",
                    "MAXLINEAR INC.  DL-,01",
                    "NOVA LTD.",
                    "SMA SOLAR TECHNOL AG",
                    "SMA SOLAR TECHNOLOGY AG",
                    "SES IMAGOTAG",
                    "SOFTWARE AG  NA O.N.",
                    "TAIYO YUDEN CO. LTD",
                    "VIAVI SOLUTIONS  DL-,001",
                    "VENTURE  SD-,25",
                    "VISHAY INTERTECH.  DL-,10",
                    "VIASAT INC.  DL-,0001",
                    "LIVERAMP HLDGS  DL-,10",
                    "SANKEN EL.",
                    "SECUNET SECURITY AG O.N."
                  ],
                  "legendgroup": "6.0",
                  "marker": {
                    "color": "#B6E880",
                    "size": 8,
                    "symbol": "circle"
                  },
                  "mode": "markers",
                  "name": "6.0",
                  "orientation": "v",
                  "showlegend": true,
                  "type": "scatter",
                  "x": [
                    10.36432,
                    10.352541,
                    -1.1260436,
                    -39.665092,
                    -22.84539,
                    -10.534223,
                    -10.148251,
                    3.1031368,
                    26.889833,
                    -31.373556,
                    -34.622852,
                    -34.753605,
                    -10.496183,
                    -5.137806,
                    -16.512741,
                    20.92938,
                    5.9223604
                  ],
                  "xaxis": "x",
                  "y": [
                    24.939121,
                    23.83035,
                    -34.077282,
                    10.60113,
                    -35.123188,
                    -5.8881273,
                    -6.3133245,
                    -4.494748,
                    -4.690989,
                    21.510096,
                    17.990702,
                    19.585701,
                    -33.062096,
                    5.3654017,
                    11.281854,
                    -36.78222,
                    -20.54149
                  ],
                  "yaxis": "y"
                },
                {
                  "customdata": [
                    [
                      "EUR",
                      29773625344,
                      0.069,
                      0.11732
                    ],
                    [
                      "EUR",
                      26096103424,
                      -0.085,
                      0.07684
                    ],
                    [
                      "EUR",
                      48069824512,
                      0.047,
                      0.21189
                    ],
                    [
                      "EUR",
                      42136481792,
                      0.13,
                      0.25676
                    ],
                    [
                      "EUR",
                      42129821696,
                      0.13,
                      0.25676
                    ],
                    [
                      "EUR",
                      72289796096,
                      -0.566,
                      -0.14213
                    ],
                    [
                      "EUR",
                      21117876224,
                      -0.043,
                      0.28868
                    ],
                    [
                      "EUR",
                      37390610432,
                      0.127,
                      0.29778
                    ],
                    [
                      "EUR",
                      37834407936,
                      0.127,
                      0.29778
                    ],
                    [
                      "EUR",
                      21980991488,
                      0.009,
                      0.0864
                    ],
                    [
                      "EUR",
                      47873830912,
                      -0.004,
                      0.28465998
                    ],
                    [
                      "EUR",
                      59348758528,
                      0.163,
                      -0.01471
                    ],
                    [
                      "EUR",
                      42466643968,
                      0.26,
                      0.13091
                    ],
                    [
                      "EUR",
                      25872312320,
                      0.06,
                      0.1514
                    ],
                    [
                      "EUR",
                      48084369408,
                      -0.026,
                      0.20602
                    ],
                    [
                      "EUR",
                      37547339776,
                      0.005,
                      0.32867
                    ],
                    [
                      "EUR",
                      31704436736,
                      0.007,
                      0.13262999
                    ]
                  ],
                  "hovertemplate": "<b>%{hovertext}</b><br><br>marketCap_bins=9.0<br>0=%{x}<br>1=%{y}<br>currency=%{customdata[0]}<br>marketCap=%{customdata[1]}<br>revenueGrowth=%{customdata[2]}<br>operatingMargins=%{customdata[3]}<extra></extra>",
                  "hovertext": [
                    "CAPGEMINI",
                    "CDW CORP.  DL-,01",
                    "DASSAULT SYSTEMES",
                    "INFINEON TECHNOLOGIES AG",
                    "INFINEON TECHNOLOGIES AG",
                    "MICRON TECHN. INC. DL-,10",
                    "MONOLITHIC POWER  DL-,001",
                    "STMICROELECTRONICS",
                    "STMICROELECTRONICS",
                    "TELEFONICA S.A.EO 1 ADR 1",
                    "NXP SEMICONDUCTORS EO-,20",
                    "WORKDAY INC.CL.A  DL-,001",
                    "CONSTELLATION SOFTWARE",
                    "WIPRO LTD ADR /1 IR 2",
                    "AMPHENOL CORP.  A DL-,001",
                    "ON SEMICOND.  DL-,01",
                    "FIDELITY NATL INF. SVCS"
                  ],
                  "legendgroup": "9.0",
                  "marker": {
                    "color": "#FF97FF",
                    "size": 8,
                    "symbol": "circle"
                  },
                  "mode": "markers",
                  "name": "9.0",
                  "orientation": "v",
                  "showlegend": true,
                  "type": "scatter",
                  "x": [
                    52.957237,
                    48.795425,
                    30.439621,
                    26.099472,
                    25.905636,
                    32.851143,
                    -16.69561,
                    23.621952,
                    23.9281,
                    48.762383,
                    30.657843,
                    30.162565,
                    28.069777,
                    52.248802,
                    31.051157,
                    22.266272,
                    53.717995
                  ],
                  "xaxis": "x",
                  "y": [
                    -1.7944759,
                    -8.043308,
                    52.840446,
                    50.45139,
                    49.89058,
                    47.646023,
                    -37.03237,
                    50.466816,
                    51.03219,
                    -5.525924,
                    54.193768,
                    48.465134,
                    49.113167,
                    -2.213299,
                    53.11038,
                    51.423565,
                    -1.6666461
                  ],
                  "yaxis": "y"
                },
                {
                  "customdata": [
                    [
                      "EUR",
                      384017728,
                      0.353,
                      0.088
                    ],
                    [
                      "EUR",
                      363346560,
                      -0.161,
                      0.06555
                    ],
                    [
                      "EUR",
                      358666464,
                      0.292,
                      0.24377
                    ],
                    [
                      "EUR",
                      576409728,
                      0.039,
                      0.04547
                    ],
                    [
                      "EUR",
                      656022784,
                      0.071,
                      0.13716
                    ],
                    [
                      "EUR",
                      355577984,
                      -0.223,
                      -0.04422
                    ],
                    [
                      "EUR",
                      627992128,
                      0.043,
                      0.014479999
                    ],
                    [
                      "EUR",
                      283242624,
                      -0.146,
                      0.00756
                    ],
                    [
                      "EUR",
                      372486400,
                      0.044,
                      0.024920002
                    ],
                    [
                      "EUR",
                      331360480,
                      0.287,
                      0.26852
                    ],
                    [
                      "EUR",
                      644341632,
                      0.072,
                      0.05862
                    ],
                    [
                      "EUR",
                      592999424,
                      0.222,
                      0.01944
                    ],
                    [
                      "EUR",
                      296466464,
                      -0.398,
                      -0.16423
                    ],
                    [
                      "EUR",
                      416717888,
                      0.205,
                      0.113350004
                    ],
                    [
                      "EUR",
                      416850496,
                      0.205,
                      0.113350004
                    ],
                    [
                      "EUR",
                      397493248,
                      0.107,
                      0.096429996
                    ],
                    [
                      "EUR",
                      592889408,
                      -0.348,
                      0.16555001
                    ]
                  ],
                  "hovertemplate": "<b>%{hovertext}</b><br><br>marketCap_bins=4.0<br>0=%{x}<br>1=%{y}<br>currency=%{customdata[0]}<br>marketCap=%{customdata[1]}<br>revenueGrowth=%{customdata[2]}<br>operatingMargins=%{customdata[3]}<extra></extra>",
                  "hovertext": [
                    "DAKTRONICS INC.",
                    "DATALOGIC",
                    "EVS BROADC.EQUIPM.",
                    "MEIKO ELECTRONICS",
                    "QUADIENT SA  INH.  EO 1",
                    "NETGEAR INC.  DL-,001",
                    "OKI EL. IND.",
                    "ESPRINET",
                    "PSI SOFTWARE SE NA O.N.",
                    "QIWI B SP.ADRS 1/EO-,0005",
                    "QUEST HOLDING S.A.",
                    "FIRST SENSOR AG O.N.",
                    "MAGNACHIP SEMICONDUC.DEP.",
                    "SUESS MICROTEC SE NA O.N.",
                    "SUESS MICROTEC SE NA O.N.",
                    "SWORD GROUP",
                    "TOWA CORP."
                  ],
                  "legendgroup": "4.0",
                  "marker": {
                    "color": "#FECB52",
                    "size": 8,
                    "symbol": "circle"
                  },
                  "mode": "markers",
                  "name": "4.0",
                  "orientation": "v",
                  "showlegend": true,
                  "type": "scatter",
                  "x": [
                    1.4356818,
                    -32.776165,
                    4.4098845,
                    -0.24514776,
                    -0.66220087,
                    -28.046326,
                    -2.9560823,
                    -27.29473,
                    -1.7824874,
                    4.703462,
                    27.380447,
                    5.6350636,
                    -28.929247,
                    23.53947,
                    23.246109,
                    2.5957725,
                    -40.279568
                  ],
                  "xaxis": "x",
                  "y": [
                    -1.7558115,
                    19.564926,
                    -57.51886,
                    29.457321,
                    -32.285736,
                    11.600236,
                    30.115383,
                    16.273468,
                    29.784996,
                    -56.807194,
                    -2.3236897,
                    6.1199126,
                    8.7800255,
                    -36.031815,
                    -35.40862,
                    -24.418179,
                    10.39616
                  ],
                  "yaxis": "y"
                }
              ],
              "layout": {
                "legend": {
                  "title": {
                    "text": "marketCap_bins"
                  },
                  "tracegroupgap": 0
                },
                "margin": {
                  "t": 60
                },
                "scene": {
                  "xaxis": {
                    "title": {}
                  },
                  "yaxis": {
                    "title": {}
                  },
                  "zaxis": {
                    "title": {}
                  }
                },
                "template": {
                  "data": {
                    "bar": [
                      {
                        "error_x": {
                          "color": "#2a3f5f"
                        },
                        "error_y": {
                          "color": "#2a3f5f"
                        },
                        "marker": {
                          "line": {
                            "color": "#E5ECF6",
                            "width": 0.5
                          },
                          "pattern": {
                            "fillmode": "overlay",
                            "size": 10,
                            "solidity": 0.2
                          }
                        },
                        "type": "bar"
                      }
                    ],
                    "barpolar": [
                      {
                        "marker": {
                          "line": {
                            "color": "#E5ECF6",
                            "width": 0.5
                          },
                          "pattern": {
                            "fillmode": "overlay",
                            "size": 10,
                            "solidity": 0.2
                          }
                        },
                        "type": "barpolar"
                      }
                    ],
                    "carpet": [
                      {
                        "aaxis": {
                          "endlinecolor": "#2a3f5f",
                          "gridcolor": "white",
                          "linecolor": "white",
                          "minorgridcolor": "white",
                          "startlinecolor": "#2a3f5f"
                        },
                        "baxis": {
                          "endlinecolor": "#2a3f5f",
                          "gridcolor": "white",
                          "linecolor": "white",
                          "minorgridcolor": "white",
                          "startlinecolor": "#2a3f5f"
                        },
                        "type": "carpet"
                      }
                    ],
                    "choropleth": [
                      {
                        "colorbar": {
                          "outlinewidth": 0,
                          "ticks": ""
                        },
                        "type": "choropleth"
                      }
                    ],
                    "contour": [
                      {
                        "colorbar": {
                          "outlinewidth": 0,
                          "ticks": ""
                        },
                        "colorscale": [
                          [
                            0,
                            "#0d0887"
                          ],
                          [
                            0.1111111111111111,
                            "#46039f"
                          ],
                          [
                            0.2222222222222222,
                            "#7201a8"
                          ],
                          [
                            0.3333333333333333,
                            "#9c179e"
                          ],
                          [
                            0.4444444444444444,
                            "#bd3786"
                          ],
                          [
                            0.5555555555555556,
                            "#d8576b"
                          ],
                          [
                            0.6666666666666666,
                            "#ed7953"
                          ],
                          [
                            0.7777777777777778,
                            "#fb9f3a"
                          ],
                          [
                            0.8888888888888888,
                            "#fdca26"
                          ],
                          [
                            1,
                            "#f0f921"
                          ]
                        ],
                        "type": "contour"
                      }
                    ],
                    "contourcarpet": [
                      {
                        "colorbar": {
                          "outlinewidth": 0,
                          "ticks": ""
                        },
                        "type": "contourcarpet"
                      }
                    ],
                    "heatmap": [
                      {
                        "colorbar": {
                          "outlinewidth": 0,
                          "ticks": ""
                        },
                        "colorscale": [
                          [
                            0,
                            "#0d0887"
                          ],
                          [
                            0.1111111111111111,
                            "#46039f"
                          ],
                          [
                            0.2222222222222222,
                            "#7201a8"
                          ],
                          [
                            0.3333333333333333,
                            "#9c179e"
                          ],
                          [
                            0.4444444444444444,
                            "#bd3786"
                          ],
                          [
                            0.5555555555555556,
                            "#d8576b"
                          ],
                          [
                            0.6666666666666666,
                            "#ed7953"
                          ],
                          [
                            0.7777777777777778,
                            "#fb9f3a"
                          ],
                          [
                            0.8888888888888888,
                            "#fdca26"
                          ],
                          [
                            1,
                            "#f0f921"
                          ]
                        ],
                        "type": "heatmap"
                      }
                    ],
                    "heatmapgl": [
                      {
                        "colorbar": {
                          "outlinewidth": 0,
                          "ticks": ""
                        },
                        "colorscale": [
                          [
                            0,
                            "#0d0887"
                          ],
                          [
                            0.1111111111111111,
                            "#46039f"
                          ],
                          [
                            0.2222222222222222,
                            "#7201a8"
                          ],
                          [
                            0.3333333333333333,
                            "#9c179e"
                          ],
                          [
                            0.4444444444444444,
                            "#bd3786"
                          ],
                          [
                            0.5555555555555556,
                            "#d8576b"
                          ],
                          [
                            0.6666666666666666,
                            "#ed7953"
                          ],
                          [
                            0.7777777777777778,
                            "#fb9f3a"
                          ],
                          [
                            0.8888888888888888,
                            "#fdca26"
                          ],
                          [
                            1,
                            "#f0f921"
                          ]
                        ],
                        "type": "heatmapgl"
                      }
                    ],
                    "histogram": [
                      {
                        "marker": {
                          "pattern": {
                            "fillmode": "overlay",
                            "size": 10,
                            "solidity": 0.2
                          }
                        },
                        "type": "histogram"
                      }
                    ],
                    "histogram2d": [
                      {
                        "colorbar": {
                          "outlinewidth": 0,
                          "ticks": ""
                        },
                        "colorscale": [
                          [
                            0,
                            "#0d0887"
                          ],
                          [
                            0.1111111111111111,
                            "#46039f"
                          ],
                          [
                            0.2222222222222222,
                            "#7201a8"
                          ],
                          [
                            0.3333333333333333,
                            "#9c179e"
                          ],
                          [
                            0.4444444444444444,
                            "#bd3786"
                          ],
                          [
                            0.5555555555555556,
                            "#d8576b"
                          ],
                          [
                            0.6666666666666666,
                            "#ed7953"
                          ],
                          [
                            0.7777777777777778,
                            "#fb9f3a"
                          ],
                          [
                            0.8888888888888888,
                            "#fdca26"
                          ],
                          [
                            1,
                            "#f0f921"
                          ]
                        ],
                        "type": "histogram2d"
                      }
                    ],
                    "histogram2dcontour": [
                      {
                        "colorbar": {
                          "outlinewidth": 0,
                          "ticks": ""
                        },
                        "colorscale": [
                          [
                            0,
                            "#0d0887"
                          ],
                          [
                            0.1111111111111111,
                            "#46039f"
                          ],
                          [
                            0.2222222222222222,
                            "#7201a8"
                          ],
                          [
                            0.3333333333333333,
                            "#9c179e"
                          ],
                          [
                            0.4444444444444444,
                            "#bd3786"
                          ],
                          [
                            0.5555555555555556,
                            "#d8576b"
                          ],
                          [
                            0.6666666666666666,
                            "#ed7953"
                          ],
                          [
                            0.7777777777777778,
                            "#fb9f3a"
                          ],
                          [
                            0.8888888888888888,
                            "#fdca26"
                          ],
                          [
                            1,
                            "#f0f921"
                          ]
                        ],
                        "type": "histogram2dcontour"
                      }
                    ],
                    "mesh3d": [
                      {
                        "colorbar": {
                          "outlinewidth": 0,
                          "ticks": ""
                        },
                        "type": "mesh3d"
                      }
                    ],
                    "parcoords": [
                      {
                        "line": {
                          "colorbar": {
                            "outlinewidth": 0,
                            "ticks": ""
                          }
                        },
                        "type": "parcoords"
                      }
                    ],
                    "pie": [
                      {
                        "automargin": true,
                        "type": "pie"
                      }
                    ],
                    "scatter": [
                      {
                        "fillpattern": {
                          "fillmode": "overlay",
                          "size": 10,
                          "solidity": 0.2
                        },
                        "type": "scatter"
                      }
                    ],
                    "scatter3d": [
                      {
                        "line": {
                          "colorbar": {
                            "outlinewidth": 0,
                            "ticks": ""
                          }
                        },
                        "marker": {
                          "colorbar": {
                            "outlinewidth": 0,
                            "ticks": ""
                          }
                        },
                        "type": "scatter3d"
                      }
                    ],
                    "scattercarpet": [
                      {
                        "marker": {
                          "colorbar": {
                            "outlinewidth": 0,
                            "ticks": ""
                          }
                        },
                        "type": "scattercarpet"
                      }
                    ],
                    "scattergeo": [
                      {
                        "marker": {
                          "colorbar": {
                            "outlinewidth": 0,
                            "ticks": ""
                          }
                        },
                        "type": "scattergeo"
                      }
                    ],
                    "scattergl": [
                      {
                        "marker": {
                          "colorbar": {
                            "outlinewidth": 0,
                            "ticks": ""
                          }
                        },
                        "type": "scattergl"
                      }
                    ],
                    "scattermapbox": [
                      {
                        "marker": {
                          "colorbar": {
                            "outlinewidth": 0,
                            "ticks": ""
                          }
                        },
                        "type": "scattermapbox"
                      }
                    ],
                    "scatterpolar": [
                      {
                        "marker": {
                          "colorbar": {
                            "outlinewidth": 0,
                            "ticks": ""
                          }
                        },
                        "type": "scatterpolar"
                      }
                    ],
                    "scatterpolargl": [
                      {
                        "marker": {
                          "colorbar": {
                            "outlinewidth": 0,
                            "ticks": ""
                          }
                        },
                        "type": "scatterpolargl"
                      }
                    ],
                    "scatterternary": [
                      {
                        "marker": {
                          "colorbar": {
                            "outlinewidth": 0,
                            "ticks": ""
                          }
                        },
                        "type": "scatterternary"
                      }
                    ],
                    "surface": [
                      {
                        "colorbar": {
                          "outlinewidth": 0,
                          "ticks": ""
                        },
                        "colorscale": [
                          [
                            0,
                            "#0d0887"
                          ],
                          [
                            0.1111111111111111,
                            "#46039f"
                          ],
                          [
                            0.2222222222222222,
                            "#7201a8"
                          ],
                          [
                            0.3333333333333333,
                            "#9c179e"
                          ],
                          [
                            0.4444444444444444,
                            "#bd3786"
                          ],
                          [
                            0.5555555555555556,
                            "#d8576b"
                          ],
                          [
                            0.6666666666666666,
                            "#ed7953"
                          ],
                          [
                            0.7777777777777778,
                            "#fb9f3a"
                          ],
                          [
                            0.8888888888888888,
                            "#fdca26"
                          ],
                          [
                            1,
                            "#f0f921"
                          ]
                        ],
                        "type": "surface"
                      }
                    ],
                    "table": [
                      {
                        "cells": {
                          "fill": {
                            "color": "#EBF0F8"
                          },
                          "line": {
                            "color": "white"
                          }
                        },
                        "header": {
                          "fill": {
                            "color": "#C8D4E3"
                          },
                          "line": {
                            "color": "white"
                          }
                        },
                        "type": "table"
                      }
                    ]
                  },
                  "layout": {
                    "annotationdefaults": {
                      "arrowcolor": "#2a3f5f",
                      "arrowhead": 0,
                      "arrowwidth": 1
                    },
                    "autotypenumbers": "strict",
                    "coloraxis": {
                      "colorbar": {
                        "outlinewidth": 0,
                        "ticks": ""
                      }
                    },
                    "colorscale": {
                      "diverging": [
                        [
                          0,
                          "#8e0152"
                        ],
                        [
                          0.1,
                          "#c51b7d"
                        ],
                        [
                          0.2,
                          "#de77ae"
                        ],
                        [
                          0.3,
                          "#f1b6da"
                        ],
                        [
                          0.4,
                          "#fde0ef"
                        ],
                        [
                          0.5,
                          "#f7f7f7"
                        ],
                        [
                          0.6,
                          "#e6f5d0"
                        ],
                        [
                          0.7,
                          "#b8e186"
                        ],
                        [
                          0.8,
                          "#7fbc41"
                        ],
                        [
                          0.9,
                          "#4d9221"
                        ],
                        [
                          1,
                          "#276419"
                        ]
                      ],
                      "sequential": [
                        [
                          0,
                          "#0d0887"
                        ],
                        [
                          0.1111111111111111,
                          "#46039f"
                        ],
                        [
                          0.2222222222222222,
                          "#7201a8"
                        ],
                        [
                          0.3333333333333333,
                          "#9c179e"
                        ],
                        [
                          0.4444444444444444,
                          "#bd3786"
                        ],
                        [
                          0.5555555555555556,
                          "#d8576b"
                        ],
                        [
                          0.6666666666666666,
                          "#ed7953"
                        ],
                        [
                          0.7777777777777778,
                          "#fb9f3a"
                        ],
                        [
                          0.8888888888888888,
                          "#fdca26"
                        ],
                        [
                          1,
                          "#f0f921"
                        ]
                      ],
                      "sequentialminus": [
                        [
                          0,
                          "#0d0887"
                        ],
                        [
                          0.1111111111111111,
                          "#46039f"
                        ],
                        [
                          0.2222222222222222,
                          "#7201a8"
                        ],
                        [
                          0.3333333333333333,
                          "#9c179e"
                        ],
                        [
                          0.4444444444444444,
                          "#bd3786"
                        ],
                        [
                          0.5555555555555556,
                          "#d8576b"
                        ],
                        [
                          0.6666666666666666,
                          "#ed7953"
                        ],
                        [
                          0.7777777777777778,
                          "#fb9f3a"
                        ],
                        [
                          0.8888888888888888,
                          "#fdca26"
                        ],
                        [
                          1,
                          "#f0f921"
                        ]
                      ]
                    },
                    "colorway": [
                      "#636efa",
                      "#EF553B",
                      "#00cc96",
                      "#ab63fa",
                      "#FFA15A",
                      "#19d3f3",
                      "#FF6692",
                      "#B6E880",
                      "#FF97FF",
                      "#FECB52"
                    ],
                    "font": {
                      "color": "#2a3f5f"
                    },
                    "geo": {
                      "bgcolor": "white",
                      "lakecolor": "white",
                      "landcolor": "#E5ECF6",
                      "showlakes": true,
                      "showland": true,
                      "subunitcolor": "white"
                    },
                    "hoverlabel": {
                      "align": "left"
                    },
                    "hovermode": "closest",
                    "mapbox": {
                      "style": "light"
                    },
                    "paper_bgcolor": "white",
                    "plot_bgcolor": "#E5ECF6",
                    "polar": {
                      "angularaxis": {
                        "gridcolor": "white",
                        "linecolor": "white",
                        "ticks": ""
                      },
                      "bgcolor": "#E5ECF6",
                      "radialaxis": {
                        "gridcolor": "white",
                        "linecolor": "white",
                        "ticks": ""
                      }
                    },
                    "scene": {
                      "xaxis": {
                        "backgroundcolor": "#E5ECF6",
                        "gridcolor": "white",
                        "gridwidth": 2,
                        "linecolor": "white",
                        "showbackground": true,
                        "ticks": "",
                        "zerolinecolor": "white"
                      },
                      "yaxis": {
                        "backgroundcolor": "#E5ECF6",
                        "gridcolor": "white",
                        "gridwidth": 2,
                        "linecolor": "white",
                        "showbackground": true,
                        "ticks": "",
                        "zerolinecolor": "white"
                      },
                      "zaxis": {
                        "backgroundcolor": "#E5ECF6",
                        "gridcolor": "white",
                        "gridwidth": 2,
                        "linecolor": "white",
                        "showbackground": true,
                        "ticks": "",
                        "zerolinecolor": "white"
                      }
                    },
                    "shapedefaults": {
                      "line": {
                        "color": "#2a3f5f"
                      }
                    },
                    "ternary": {
                      "aaxis": {
                        "gridcolor": "white",
                        "linecolor": "white",
                        "ticks": ""
                      },
                      "baxis": {
                        "gridcolor": "white",
                        "linecolor": "white",
                        "ticks": ""
                      },
                      "bgcolor": "#E5ECF6",
                      "caxis": {
                        "gridcolor": "white",
                        "linecolor": "white",
                        "ticks": ""
                      }
                    },
                    "title": {
                      "x": 0.05
                    },
                    "xaxis": {
                      "automargin": true,
                      "gridcolor": "white",
                      "linecolor": "white",
                      "ticks": "",
                      "title": {
                        "standoff": 15
                      },
                      "zerolinecolor": "white",
                      "zerolinewidth": 2
                    },
                    "yaxis": {
                      "automargin": true,
                      "gridcolor": "white",
                      "linecolor": "white",
                      "ticks": "",
                      "title": {
                        "standoff": 15
                      },
                      "zerolinecolor": "white",
                      "zerolinewidth": 2
                    }
                  }
                },
                "xaxis": {
                  "anchor": "y",
                  "domain": [
                    0,
                    1
                  ],
                  "title": {
                    "text": "0"
                  }
                },
                "yaxis": {
                  "anchor": "x",
                  "domain": [
                    0,
                    1
                  ],
                  "title": {
                    "text": "1"
                  }
                }
              }
            }
          },
          "metadata": {},
          "output_type": "display_data"
        }
      ],
      "source": [
        "def create_3d_scatterplot(embedding):\n",
        "    X = embedding[0]\n",
        "    Y = embedding[1]\n",
        "    \n",
        "    fig = px.scatter(\n",
        "    embedding, x=0, y=1,\n",
        "    color=embedding.marketCap_bins, hover_name=embedding.shortName, hover_data=embedding[['currency','marketCap','revenueGrowth','operatingMargins']])\n",
        "    fig.update_traces(marker_size=8)\n",
        "    fig.update_layout(scene=dict(xaxis_title=None, yaxis_title=None, zaxis_title=None))\n",
        "    fig.show()\n",
        "\n",
        "# Assuming you have the 'embedding' data as a 3D array or list of lists\n",
        "create_3d_scatterplot(embedding_2d[embedding_2d['sector'] == 'Technology'])"
      ]
    },
    {
      "cell_type": "code",
      "execution_count": 324,
      "metadata": {},
      "outputs": [
        {
          "ename": "ValueError",
          "evalue": "The matrix of similarities must be a square array. Got (173, 3) instead.",
          "output_type": "error",
          "traceback": [
            "\u001b[0;31m---------------------------------------------------------------------------\u001b[0m",
            "\u001b[0;31mValueError\u001b[0m                                Traceback (most recent call last)",
            "\u001b[1;32m/home/chris/code/affinitypropagation/tsne_stock_market.ipynb Cell 7\u001b[0m line \u001b[0;36m3\n\u001b[1;32m      <a href='vscode-notebook-cell:/home/chris/code/affinitypropagation/tsne_stock_market.ipynb#X41sZmlsZQ%3D%3D?line=0'>1</a>\u001b[0m \u001b[39mfrom\u001b[39;00m \u001b[39msklearn\u001b[39;00m \u001b[39mimport\u001b[39;00m cluster\n\u001b[0;32m----> <a href='vscode-notebook-cell:/home/chris/code/affinitypropagation/tsne_stock_market.ipynb#X41sZmlsZQ%3D%3D?line=2'>3</a>\u001b[0m _, labels \u001b[39m=\u001b[39m cluster\u001b[39m.\u001b[39;49maffinity_propagation(X, random_state\u001b[39m=\u001b[39;49m\u001b[39m0\u001b[39;49m)\n\u001b[1;32m      <a href='vscode-notebook-cell:/home/chris/code/affinitypropagation/tsne_stock_market.ipynb#X41sZmlsZQ%3D%3D?line=3'>4</a>\u001b[0m n_labels \u001b[39m=\u001b[39m labels\u001b[39m.\u001b[39mmax()\n\u001b[1;32m      <a href='vscode-notebook-cell:/home/chris/code/affinitypropagation/tsne_stock_market.ipynb#X41sZmlsZQ%3D%3D?line=5'>6</a>\u001b[0m \u001b[39mfor\u001b[39;00m i \u001b[39min\u001b[39;00m \u001b[39mrange\u001b[39m(n_labels \u001b[39m+\u001b[39m \u001b[39m1\u001b[39m):\n",
            "File \u001b[0;32m~/.pyenv/versions/3.10.6/envs/lewagon/lib/python3.10/site-packages/sklearn/utils/_param_validation.py:211\u001b[0m, in \u001b[0;36mvalidate_params.<locals>.decorator.<locals>.wrapper\u001b[0;34m(*args, **kwargs)\u001b[0m\n\u001b[1;32m    205\u001b[0m \u001b[39mtry\u001b[39;00m:\n\u001b[1;32m    206\u001b[0m     \u001b[39mwith\u001b[39;00m config_context(\n\u001b[1;32m    207\u001b[0m         skip_parameter_validation\u001b[39m=\u001b[39m(\n\u001b[1;32m    208\u001b[0m             prefer_skip_nested_validation \u001b[39mor\u001b[39;00m global_skip_validation\n\u001b[1;32m    209\u001b[0m         )\n\u001b[1;32m    210\u001b[0m     ):\n\u001b[0;32m--> 211\u001b[0m         \u001b[39mreturn\u001b[39;00m func(\u001b[39m*\u001b[39;49margs, \u001b[39m*\u001b[39;49m\u001b[39m*\u001b[39;49mkwargs)\n\u001b[1;32m    212\u001b[0m \u001b[39mexcept\u001b[39;00m InvalidParameterError \u001b[39mas\u001b[39;00m e:\n\u001b[1;32m    213\u001b[0m     \u001b[39m# When the function is just a wrapper around an estimator, we allow\u001b[39;00m\n\u001b[1;32m    214\u001b[0m     \u001b[39m# the function to delegate validation to the estimator, but we replace\u001b[39;00m\n\u001b[1;32m    215\u001b[0m     \u001b[39m# the name of the estimator by the name of the function in the error\u001b[39;00m\n\u001b[1;32m    216\u001b[0m     \u001b[39m# message to avoid confusion.\u001b[39;00m\n\u001b[1;32m    217\u001b[0m     msg \u001b[39m=\u001b[39m re\u001b[39m.\u001b[39msub(\n\u001b[1;32m    218\u001b[0m         \u001b[39mr\u001b[39m\u001b[39m\"\u001b[39m\u001b[39mparameter of \u001b[39m\u001b[39m\\\u001b[39m\u001b[39mw+ must be\u001b[39m\u001b[39m\"\u001b[39m,\n\u001b[1;32m    219\u001b[0m         \u001b[39mf\u001b[39m\u001b[39m\"\u001b[39m\u001b[39mparameter of \u001b[39m\u001b[39m{\u001b[39;00mfunc\u001b[39m.\u001b[39m\u001b[39m__qualname__\u001b[39m\u001b[39m}\u001b[39;00m\u001b[39m must be\u001b[39m\u001b[39m\"\u001b[39m,\n\u001b[1;32m    220\u001b[0m         \u001b[39mstr\u001b[39m(e),\n\u001b[1;32m    221\u001b[0m     )\n",
            "File \u001b[0;32m~/.pyenv/versions/3.10.6/envs/lewagon/lib/python3.10/site-packages/sklearn/cluster/_affinity_propagation.py:291\u001b[0m, in \u001b[0;36maffinity_propagation\u001b[0;34m(S, preference, convergence_iter, max_iter, damping, copy, verbose, return_n_iter, random_state)\u001b[0m\n\u001b[1;32m    184\u001b[0m \u001b[39m@validate_params\u001b[39m(\n\u001b[1;32m    185\u001b[0m     {\n\u001b[1;32m    186\u001b[0m         \u001b[39m\"\u001b[39m\u001b[39mS\u001b[39m\u001b[39m\"\u001b[39m: [\u001b[39m\"\u001b[39m\u001b[39marray-like\u001b[39m\u001b[39m\"\u001b[39m],\n\u001b[0;32m   (...)\u001b[0m\n\u001b[1;32m    201\u001b[0m     random_state\u001b[39m=\u001b[39m\u001b[39mNone\u001b[39;00m,\n\u001b[1;32m    202\u001b[0m ):\n\u001b[1;32m    203\u001b[0m \u001b[39m    \u001b[39m\u001b[39m\"\"\"Perform Affinity Propagation Clustering of data.\u001b[39;00m\n\u001b[1;32m    204\u001b[0m \n\u001b[1;32m    205\u001b[0m \u001b[39m    Read more in the :ref:`User Guide <affinity_propagation>`.\u001b[39;00m\n\u001b[0;32m   (...)\u001b[0m\n\u001b[1;32m    280\u001b[0m \u001b[39m    Between Data Points\", Science Feb. 2007\u001b[39;00m\n\u001b[1;32m    281\u001b[0m \u001b[39m    \"\"\"\u001b[39;00m\n\u001b[1;32m    282\u001b[0m     estimator \u001b[39m=\u001b[39m AffinityPropagation(\n\u001b[1;32m    283\u001b[0m         damping\u001b[39m=\u001b[39;49mdamping,\n\u001b[1;32m    284\u001b[0m         max_iter\u001b[39m=\u001b[39;49mmax_iter,\n\u001b[1;32m    285\u001b[0m         convergence_iter\u001b[39m=\u001b[39;49mconvergence_iter,\n\u001b[1;32m    286\u001b[0m         copy\u001b[39m=\u001b[39;49mcopy,\n\u001b[1;32m    287\u001b[0m         preference\u001b[39m=\u001b[39;49mpreference,\n\u001b[1;32m    288\u001b[0m         affinity\u001b[39m=\u001b[39;49m\u001b[39m\"\u001b[39;49m\u001b[39mprecomputed\u001b[39;49m\u001b[39m\"\u001b[39;49m,\n\u001b[1;32m    289\u001b[0m         verbose\u001b[39m=\u001b[39;49mverbose,\n\u001b[1;32m    290\u001b[0m         random_state\u001b[39m=\u001b[39;49mrandom_state,\n\u001b[0;32m--> 291\u001b[0m     )\u001b[39m.\u001b[39;49mfit(S)\n\u001b[1;32m    293\u001b[0m     \u001b[39mif\u001b[39;00m return_n_iter:\n\u001b[1;32m    294\u001b[0m         \u001b[39mreturn\u001b[39;00m estimator\u001b[39m.\u001b[39mcluster_centers_indices_, estimator\u001b[39m.\u001b[39mlabels_, estimator\u001b[39m.\u001b[39mn_iter_\n",
            "File \u001b[0;32m~/.pyenv/versions/3.10.6/envs/lewagon/lib/python3.10/site-packages/sklearn/base.py:1151\u001b[0m, in \u001b[0;36m_fit_context.<locals>.decorator.<locals>.wrapper\u001b[0;34m(estimator, *args, **kwargs)\u001b[0m\n\u001b[1;32m   1144\u001b[0m     estimator\u001b[39m.\u001b[39m_validate_params()\n\u001b[1;32m   1146\u001b[0m \u001b[39mwith\u001b[39;00m config_context(\n\u001b[1;32m   1147\u001b[0m     skip_parameter_validation\u001b[39m=\u001b[39m(\n\u001b[1;32m   1148\u001b[0m         prefer_skip_nested_validation \u001b[39mor\u001b[39;00m global_skip_validation\n\u001b[1;32m   1149\u001b[0m     )\n\u001b[1;32m   1150\u001b[0m ):\n\u001b[0;32m-> 1151\u001b[0m     \u001b[39mreturn\u001b[39;00m fit_method(estimator, \u001b[39m*\u001b[39;49margs, \u001b[39m*\u001b[39;49m\u001b[39m*\u001b[39;49mkwargs)\n",
            "File \u001b[0;32m~/.pyenv/versions/3.10.6/envs/lewagon/lib/python3.10/site-packages/sklearn/cluster/_affinity_propagation.py:503\u001b[0m, in \u001b[0;36mAffinityPropagation.fit\u001b[0;34m(self, X, y)\u001b[0m\n\u001b[1;32m    500\u001b[0m     \u001b[39mself\u001b[39m\u001b[39m.\u001b[39maffinity_matrix_ \u001b[39m=\u001b[39m \u001b[39m-\u001b[39meuclidean_distances(X, squared\u001b[39m=\u001b[39m\u001b[39mTrue\u001b[39;00m)\n\u001b[1;32m    502\u001b[0m \u001b[39mif\u001b[39;00m \u001b[39mself\u001b[39m\u001b[39m.\u001b[39maffinity_matrix_\u001b[39m.\u001b[39mshape[\u001b[39m0\u001b[39m] \u001b[39m!=\u001b[39m \u001b[39mself\u001b[39m\u001b[39m.\u001b[39maffinity_matrix_\u001b[39m.\u001b[39mshape[\u001b[39m1\u001b[39m]:\n\u001b[0;32m--> 503\u001b[0m     \u001b[39mraise\u001b[39;00m \u001b[39mValueError\u001b[39;00m(\n\u001b[1;32m    504\u001b[0m         \u001b[39m\"\u001b[39m\u001b[39mThe matrix of similarities must be a square array. \u001b[39m\u001b[39m\"\u001b[39m\n\u001b[1;32m    505\u001b[0m         \u001b[39mf\u001b[39m\u001b[39m\"\u001b[39m\u001b[39mGot \u001b[39m\u001b[39m{\u001b[39;00m\u001b[39mself\u001b[39m\u001b[39m.\u001b[39maffinity_matrix_\u001b[39m.\u001b[39mshape\u001b[39m}\u001b[39;00m\u001b[39m instead.\u001b[39m\u001b[39m\"\u001b[39m\n\u001b[1;32m    506\u001b[0m     )\n\u001b[1;32m    508\u001b[0m \u001b[39mif\u001b[39;00m \u001b[39mself\u001b[39m\u001b[39m.\u001b[39mpreference \u001b[39mis\u001b[39;00m \u001b[39mNone\u001b[39;00m:\n\u001b[1;32m    509\u001b[0m     preference \u001b[39m=\u001b[39m np\u001b[39m.\u001b[39mmedian(\u001b[39mself\u001b[39m\u001b[39m.\u001b[39maffinity_matrix_)\n",
            "\u001b[0;31mValueError\u001b[0m: The matrix of similarities must be a square array. Got (173, 3) instead."
          ]
        }
      ],
      "source": [
        "from sklearn import cluster\n",
        "\n",
        "_, labels = cluster.affinity_propagation(X, random_state=0)\n",
        "n_labels = labels.max()\n",
        "\n",
        "for i in range(n_labels + 1):\n",
        "    print(f\"Cluster {i + 1}: {', '.join(names[labels == i])}\")"
      ]
    }
  ],
  "metadata": {
    "kernelspec": {
      "display_name": "Python 3",
      "language": "python",
      "name": "python3"
    },
    "language_info": {
      "codemirror_mode": {
        "name": "ipython",
        "version": 3
      },
      "file_extension": ".py",
      "mimetype": "text/x-python",
      "name": "python",
      "nbconvert_exporter": "python",
      "pygments_lexer": "ipython3",
      "version": "3.10.6"
    }
  },
  "nbformat": 4,
  "nbformat_minor": 0
}
