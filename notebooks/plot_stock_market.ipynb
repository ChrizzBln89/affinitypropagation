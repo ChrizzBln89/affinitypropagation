{
  "cells": [
    {
      "cell_type": "markdown",
      "metadata": {},
      "source": [
        "\n",
        "# Visualizing the stock market structure\n",
        "\n",
        "This example employs several unsupervised learning techniques to extract\n",
        "the stock market structure from variations in historical quotes.\n",
        "\n",
        "The quantity that we use is the daily variation in quote price: quotes\n",
        "that are linked tend to fluctuate in relation to each other during a day.\n"
      ]
    },
    {
      "cell_type": "code",
      "execution_count": 11,
      "metadata": {
        "collapsed": false
      },
      "outputs": [],
      "source": [
        "# Author: Gael Varoquaux gael.varoquaux@normalesup.org\n",
        "# License: BSD 3 clause"
      ]
    },
    {
      "cell_type": "markdown",
      "metadata": {},
      "source": [
        "## Retrieve the data from Internet\n",
        "\n",
        "The data is from 2003 - 2008. This is reasonably calm: (not too long ago so\n",
        "that we get high-tech firms, and before the 2008 crash). This kind of\n",
        "historical data can be obtained from APIs like the\n",
        "[data.nasdaq.com](https://data.nasdaq.com/) and\n",
        "[alphavantage.co](https://www.alphavantage.co/).\n",
        "\n"
      ]
    },
    {
      "cell_type": "code",
      "execution_count": 12,
      "metadata": {
        "collapsed": false
      },
      "outputs": [
        {
          "name": "stderr",
          "output_type": "stream",
          "text": [
            "Fetching quote history for 'AAPL'\n",
            "Fetching quote history for 'AIG'\n",
            "Fetching quote history for 'AMZN'\n",
            "Fetching quote history for 'AXP'\n",
            "Fetching quote history for 'BA'\n",
            "Fetching quote history for 'BAC'\n",
            "Fetching quote history for 'CAJ'\n",
            "Fetching quote history for 'CAT'\n",
            "Fetching quote history for 'CL'\n",
            "Fetching quote history for 'CMCSA'\n",
            "Fetching quote history for 'COP'\n",
            "Fetching quote history for 'CSCO'\n",
            "Fetching quote history for 'CVC'\n",
            "Fetching quote history for 'CVS'\n",
            "Fetching quote history for 'CVX'\n",
            "Fetching quote history for 'DD'\n",
            "Fetching quote history for 'DELL'\n",
            "Fetching quote history for 'F'\n",
            "Fetching quote history for 'GD'\n",
            "Fetching quote history for 'GE'\n",
            "Fetching quote history for 'GS'\n",
            "Fetching quote history for 'GSK'\n",
            "Fetching quote history for 'HD'\n",
            "Fetching quote history for 'HMC'\n",
            "Fetching quote history for 'HPQ'\n",
            "Fetching quote history for 'IBM'\n",
            "Fetching quote history for 'JPM'\n",
            "Fetching quote history for 'K'\n",
            "Fetching quote history for 'KMB'\n",
            "Fetching quote history for 'KO'\n",
            "Fetching quote history for 'MAR'\n",
            "Fetching quote history for 'MCD'\n",
            "Fetching quote history for 'MMM'\n",
            "Fetching quote history for 'MSFT'\n",
            "Fetching quote history for 'NAV'\n",
            "Fetching quote history for 'NOC'\n",
            "Fetching quote history for 'NVS'\n",
            "Fetching quote history for 'PEP'\n",
            "Fetching quote history for 'PFE'\n",
            "Fetching quote history for 'PG'\n",
            "Fetching quote history for 'R'\n",
            "Fetching quote history for 'RTN'\n",
            "Fetching quote history for 'SAP'\n",
            "Fetching quote history for 'SNE'\n",
            "Fetching quote history for 'SNY'\n",
            "Fetching quote history for 'TM'\n",
            "Fetching quote history for 'TOT'\n",
            "Fetching quote history for 'TWX'\n",
            "Fetching quote history for 'TXN'\n",
            "Fetching quote history for 'UN'\n",
            "Fetching quote history for 'VLO'\n",
            "Fetching quote history for 'WFC'\n",
            "Fetching quote history for 'WMT'\n",
            "Fetching quote history for 'XOM'\n",
            "Fetching quote history for 'XRX'\n",
            "Fetching quote history for 'YHOO'\n"
          ]
        }
      ],
      "source": [
        "import sys\n",
        "\n",
        "import numpy as np\n",
        "import pandas as pd\n",
        "\n",
        "symbol_dict = {\n",
        "    \"TOT\": \"Total\",\n",
        "    \"XOM\": \"Exxon\",\n",
        "    \"CVX\": \"Chevron\",\n",
        "    \"COP\": \"ConocoPhillips\",\n",
        "    \"VLO\": \"Valero Energy\",\n",
        "    \"MSFT\": \"Microsoft\",\n",
        "    \"IBM\": \"IBM\",\n",
        "    \"TWX\": \"Time Warner\",\n",
        "    \"CMCSA\": \"Comcast\",\n",
        "    \"CVC\": \"Cablevision\",\n",
        "    \"YHOO\": \"Yahoo\",\n",
        "    \"DELL\": \"Dell\",\n",
        "    \"HPQ\": \"HP\",\n",
        "    \"AMZN\": \"Amazon\",\n",
        "    \"TM\": \"Toyota\",\n",
        "    \"CAJ\": \"Canon\",\n",
        "    \"SNE\": \"Sony\",\n",
        "    \"F\": \"Ford\",\n",
        "    \"HMC\": \"Honda\",\n",
        "    \"NAV\": \"Navistar\",\n",
        "    \"NOC\": \"Northrop Grumman\",\n",
        "    \"BA\": \"Boeing\",\n",
        "    \"KO\": \"Coca Cola\",\n",
        "    \"MMM\": \"3M\",\n",
        "    \"MCD\": \"McDonald's\",\n",
        "    \"PEP\": \"Pepsi\",\n",
        "    \"K\": \"Kellogg\",\n",
        "    \"UN\": \"Unilever\",\n",
        "    \"MAR\": \"Marriott\",\n",
        "    \"PG\": \"Procter Gamble\",\n",
        "    \"CL\": \"Colgate-Palmolive\",\n",
        "    \"GE\": \"General Electrics\",\n",
        "    \"WFC\": \"Wells Fargo\",\n",
        "    \"JPM\": \"JPMorgan Chase\",\n",
        "    \"AIG\": \"AIG\",\n",
        "    \"AXP\": \"American express\",\n",
        "    \"BAC\": \"Bank of America\",\n",
        "    \"GS\": \"Goldman Sachs\",\n",
        "    \"AAPL\": \"Apple\",\n",
        "    \"SAP\": \"SAP\",\n",
        "    \"CSCO\": \"Cisco\",\n",
        "    \"TXN\": \"Texas Instruments\",\n",
        "    \"XRX\": \"Xerox\",\n",
        "    \"WMT\": \"Wal-Mart\",\n",
        "    \"HD\": \"Home Depot\",\n",
        "    \"GSK\": \"GlaxoSmithKline\",\n",
        "    \"PFE\": \"Pfizer\",\n",
        "    \"SNY\": \"Sanofi-Aventis\",\n",
        "    \"NVS\": \"Novartis\",\n",
        "    \"KMB\": \"Kimberly-Clark\",\n",
        "    \"R\": \"Ryder\",\n",
        "    \"GD\": \"General Dynamics\",\n",
        "    \"RTN\": \"Raytheon\",\n",
        "    \"CVS\": \"CVS\",\n",
        "    \"CAT\": \"Caterpillar\",\n",
        "    \"DD\": \"DuPont de Nemours\",\n",
        "}\n",
        "\n",
        "\n",
        "symbols, names = np.array(sorted(symbol_dict.items())).T\n",
        "\n",
        "quotes = []\n",
        "\n",
        "for symbol in symbols:\n",
        "    print(\"Fetching quote history for %r\" % symbol, file=sys.stderr)\n",
        "    url = (\n",
        "        \"https://raw.githubusercontent.com/scikit-learn/examples-data/\"\n",
        "        \"master/financial-data/{}.csv\"\n",
        "    )\n",
        "    quotes.append(pd.read_csv(url.format(symbol)))\n",
        "\n",
        "close_prices = np.vstack([q[\"close\"] for q in quotes])\n",
        "open_prices = np.vstack([q[\"open\"] for q in quotes])\n",
        "\n",
        "# The daily variations of the quotes are what carry the most information\n",
        "variation = close_prices - open_prices"
      ]
    },
    {
      "cell_type": "markdown",
      "metadata": {},
      "source": [
        "\n",
        "## Learning a graph structure\n",
        "\n",
        "We use sparse inverse covariance estimation to find which quotes are\n",
        "correlated conditionally on the others. Specifically, sparse inverse\n",
        "covariance gives us a graph, that is a list of connections. For each\n",
        "symbol, the symbols that it is connected to are those useful to explain\n",
        "its fluctuations.\n",
        "\n"
      ]
    },
    {
      "cell_type": "code",
      "execution_count": 13,
      "metadata": {
        "collapsed": false
      },
      "outputs": [
        {
          "data": {
            "text/html": [
              "<style>#sk-container-id-2 {color: black;}#sk-container-id-2 pre{padding: 0;}#sk-container-id-2 div.sk-toggleable {background-color: white;}#sk-container-id-2 label.sk-toggleable__label {cursor: pointer;display: block;width: 100%;margin-bottom: 0;padding: 0.3em;box-sizing: border-box;text-align: center;}#sk-container-id-2 label.sk-toggleable__label-arrow:before {content: \"▸\";float: left;margin-right: 0.25em;color: #696969;}#sk-container-id-2 label.sk-toggleable__label-arrow:hover:before {color: black;}#sk-container-id-2 div.sk-estimator:hover label.sk-toggleable__label-arrow:before {color: black;}#sk-container-id-2 div.sk-toggleable__content {max-height: 0;max-width: 0;overflow: hidden;text-align: left;background-color: #f0f8ff;}#sk-container-id-2 div.sk-toggleable__content pre {margin: 0.2em;color: black;border-radius: 0.25em;background-color: #f0f8ff;}#sk-container-id-2 input.sk-toggleable__control:checked~div.sk-toggleable__content {max-height: 200px;max-width: 100%;overflow: auto;}#sk-container-id-2 input.sk-toggleable__control:checked~label.sk-toggleable__label-arrow:before {content: \"▾\";}#sk-container-id-2 div.sk-estimator input.sk-toggleable__control:checked~label.sk-toggleable__label {background-color: #d4ebff;}#sk-container-id-2 div.sk-label input.sk-toggleable__control:checked~label.sk-toggleable__label {background-color: #d4ebff;}#sk-container-id-2 input.sk-hidden--visually {border: 0;clip: rect(1px 1px 1px 1px);clip: rect(1px, 1px, 1px, 1px);height: 1px;margin: -1px;overflow: hidden;padding: 0;position: absolute;width: 1px;}#sk-container-id-2 div.sk-estimator {font-family: monospace;background-color: #f0f8ff;border: 1px dotted black;border-radius: 0.25em;box-sizing: border-box;margin-bottom: 0.5em;}#sk-container-id-2 div.sk-estimator:hover {background-color: #d4ebff;}#sk-container-id-2 div.sk-parallel-item::after {content: \"\";width: 100%;border-bottom: 1px solid gray;flex-grow: 1;}#sk-container-id-2 div.sk-label:hover label.sk-toggleable__label {background-color: #d4ebff;}#sk-container-id-2 div.sk-serial::before {content: \"\";position: absolute;border-left: 1px solid gray;box-sizing: border-box;top: 0;bottom: 0;left: 50%;z-index: 0;}#sk-container-id-2 div.sk-serial {display: flex;flex-direction: column;align-items: center;background-color: white;padding-right: 0.2em;padding-left: 0.2em;position: relative;}#sk-container-id-2 div.sk-item {position: relative;z-index: 1;}#sk-container-id-2 div.sk-parallel {display: flex;align-items: stretch;justify-content: center;background-color: white;position: relative;}#sk-container-id-2 div.sk-item::before, #sk-container-id-2 div.sk-parallel-item::before {content: \"\";position: absolute;border-left: 1px solid gray;box-sizing: border-box;top: 0;bottom: 0;left: 50%;z-index: -1;}#sk-container-id-2 div.sk-parallel-item {display: flex;flex-direction: column;z-index: 1;position: relative;background-color: white;}#sk-container-id-2 div.sk-parallel-item:first-child::after {align-self: flex-end;width: 50%;}#sk-container-id-2 div.sk-parallel-item:last-child::after {align-self: flex-start;width: 50%;}#sk-container-id-2 div.sk-parallel-item:only-child::after {width: 0;}#sk-container-id-2 div.sk-dashed-wrapped {border: 1px dashed gray;margin: 0 0.4em 0.5em 0.4em;box-sizing: border-box;padding-bottom: 0.4em;background-color: white;}#sk-container-id-2 div.sk-label label {font-family: monospace;font-weight: bold;display: inline-block;line-height: 1.2em;}#sk-container-id-2 div.sk-label-container {text-align: center;}#sk-container-id-2 div.sk-container {/* jupyter's `normalize.less` sets `[hidden] { display: none; }` but bootstrap.min.css set `[hidden] { display: none !important; }` so we also need the `!important` here to be able to override the default hidden behavior on the sphinx rendered scikit-learn.org. See: https://github.com/scikit-learn/scikit-learn/issues/21755 */display: inline-block !important;position: relative;}#sk-container-id-2 div.sk-text-repr-fallback {display: none;}</style><div id=\"sk-container-id-2\" class=\"sk-top-container\"><div class=\"sk-text-repr-fallback\"><pre>GraphicalLassoCV(alphas=array([ 0.03162278,  0.05994843,  0.11364637,  0.21544347,  0.40842387,\n",
              "        0.77426368,  1.46779927,  2.7825594 ,  5.27499706, 10.        ]))</pre><b>In a Jupyter environment, please rerun this cell to show the HTML representation or trust the notebook. <br />On GitHub, the HTML representation is unable to render, please try loading this page with nbviewer.org.</b></div><div class=\"sk-container\" hidden><div class=\"sk-item\"><div class=\"sk-estimator sk-toggleable\"><input class=\"sk-toggleable__control sk-hidden--visually\" id=\"sk-estimator-id-2\" type=\"checkbox\" checked><label for=\"sk-estimator-id-2\" class=\"sk-toggleable__label sk-toggleable__label-arrow\">GraphicalLassoCV</label><div class=\"sk-toggleable__content\"><pre>GraphicalLassoCV(alphas=array([ 0.03162278,  0.05994843,  0.11364637,  0.21544347,  0.40842387,\n",
              "        0.77426368,  1.46779927,  2.7825594 ,  5.27499706, 10.        ]))</pre></div></div></div></div></div>"
            ],
            "text/plain": [
              "GraphicalLassoCV(alphas=array([ 0.03162278,  0.05994843,  0.11364637,  0.21544347,  0.40842387,\n",
              "        0.77426368,  1.46779927,  2.7825594 ,  5.27499706, 10.        ]))"
            ]
          },
          "execution_count": 13,
          "metadata": {},
          "output_type": "execute_result"
        }
      ],
      "source": [
        "from sklearn import covariance\n",
        "\n",
        "alphas = np.logspace(-1.5, 1, num=10)\n",
        "edge_model = covariance.GraphicalLassoCV(alphas=alphas)\n",
        "\n",
        "# standardize the time series: using correlations rather than covariance\n",
        "# former is more efficient for structure recovery\n",
        "X = variation.copy().T\n",
        "X /= X.std(axis=0)\n",
        "edge_model.fit(X)"
      ]
    },
    {
      "cell_type": "markdown",
      "metadata": {},
      "source": [
        "## Clustering using affinity propagation\n",
        "\n",
        "We use clustering to group together quotes that behave similarly. Here,\n",
        "amongst the `various clustering techniques <clustering>` available\n",
        "in the scikit-learn, we use `affinity_propagation` as it does\n",
        "not enforce equal-size clusters, and it can choose automatically the\n",
        "number of clusters from the data.\n",
        "\n",
        "Note that this gives us a different indication than the graph, as the\n",
        "graph reflects conditional relations between variables, while the\n",
        "clustering reflects marginal properties: variables clustered together can\n",
        "be considered as having a similar impact at the level of the full stock\n",
        "market.\n",
        "\n"
      ]
    },
    {
      "cell_type": "code",
      "execution_count": 14,
      "metadata": {
        "collapsed": false
      },
      "outputs": [
        {
          "name": "stdout",
          "output_type": "stream",
          "text": [
            "Cluster 1: Apple, Amazon, Yahoo\n",
            "Cluster 2: Comcast, Cablevision, Time Warner\n",
            "Cluster 3: ConocoPhillips, Chevron, Total, Valero Energy, Exxon\n",
            "Cluster 4: Cisco, Dell, HP, IBM, Microsoft, SAP, Texas Instruments\n",
            "Cluster 5: Boeing, General Dynamics, Northrop Grumman, Raytheon\n",
            "Cluster 6: AIG, American express, Bank of America, Caterpillar, CVS, DuPont de Nemours, Ford, General Electrics, Goldman Sachs, Home Depot, JPMorgan Chase, Marriott, McDonald's, 3M, Ryder, Wells Fargo, Wal-Mart\n",
            "Cluster 7: GlaxoSmithKline, Novartis, Pfizer, Sanofi-Aventis, Unilever\n",
            "Cluster 8: Kellogg, Coca Cola, Pepsi\n",
            "Cluster 9: Colgate-Palmolive, Kimberly-Clark, Procter Gamble\n",
            "Cluster 10: Canon, Honda, Navistar, Sony, Toyota, Xerox\n"
          ]
        }
      ],
      "source": [
        "from sklearn import cluster\n",
        "\n",
        "_, labels = cluster.affinity_propagation(edge_model.covariance_, random_state=0)\n",
        "n_labels = labels.max()\n",
        "\n",
        "for i in range(n_labels + 1):\n",
        "    print(f\"Cluster {i + 1}: {', '.join(names[labels == i])}\")"
      ]
    },
    {
      "cell_type": "markdown",
      "metadata": {},
      "source": [
        "## Embedding in 2D space\n",
        "\n",
        "For visualization purposes, we need to lay out the different symbols on a\n",
        "2D canvas. For this we use `manifold` techniques to retrieve 2D\n",
        "embedding.\n",
        "We use a dense eigen_solver to achieve reproducibility (arpack is initiated\n",
        "with the random vectors that we don't control). In addition, we use a large\n",
        "number of neighbors to capture the large-scale structure.\n",
        "\n"
      ]
    },
    {
      "cell_type": "code",
      "execution_count": 15,
      "metadata": {
        "collapsed": false
      },
      "outputs": [],
      "source": [
        "# Finding a low-dimension embedding for visualization: find the best position of\n",
        "# the nodes (the stocks) on a 2D plane\n",
        "\n",
        "from sklearn import manifold\n",
        "\n",
        "node_position_model = manifold.LocallyLinearEmbedding(\n",
        "    n_components=3, eigen_solver=\"dense\", n_neighbors=6\n",
        ")\n",
        "\n",
        "embedding = node_position_model.fit_transform(X.T).T"
      ]
    },
    {
      "cell_type": "code",
      "execution_count": 24,
      "metadata": {},
      "outputs": [
        {
          "data": {
            "application/vnd.plotly.v1+json": {
              "config": {
                "plotlyServerURL": "https://plot.ly"
              },
              "data": [
                {
                  "mode": "markers",
                  "type": "scatter3d",
                  "x": [
                    0.6942640428254077,
                    0.4957239020862956,
                    0.31287176281228446,
                    0.32906138955009334,
                    0.5997532387994847,
                    0.8351920449187007,
                    0.8364885098887898,
                    0.31800076064668936,
                    0.0938285771902071,
                    0.2910720616226835,
                    0.05751320931664061,
                    0.2773387017782325,
                    0.7010832209744263,
                    0.4382136273509699,
                    0.8838646147481759,
                    0.9302966683677093,
                    0.01829691569638403,
                    0.09873799097532032,
                    0.8917695306352863,
                    0.5519041803274243,
                    0.3496027746648295,
                    0.570434724477873,
                    0.29385996501626344,
                    0.8908331230477603,
                    0.6658183032843328,
                    0.9952013427300924,
                    0.4480141666473676,
                    0.609850226369208,
                    0.2959482974752887,
                    0.4826739694307376,
                    0.5757818625558561,
                    0.7562020714329949,
                    0.4885472464356926,
                    0.5544231021012773,
                    0.7896441918447529,
                    0.053767666230402744,
                    0.3258732052765869,
                    0.4810411494536815,
                    0.4656435484854303,
                    0.5756794185148867,
                    0.7120038844238198,
                    0.9451146664519022,
                    0.09776084954867426,
                    0.5925470168421815,
                    0.9054530091515162,
                    0.5652571378159127,
                    0.8080148801522087,
                    0.5086306577286999,
                    0.15472568784532326,
                    0.2468247639316794,
                    0.20869027083442726,
                    0.31490104413928,
                    0.639791899699363,
                    0.4917489153887442,
                    0.35513183575687857,
                    0.27647734627032816,
                    0.678648361313672,
                    0.6958481624830448,
                    0.9254897834314796,
                    0.7071458160530051,
                    0.2813033454175443,
                    0.39287547260672184,
                    0.5867914617781338,
                    0.005386153723566989,
                    0.32078235412078104,
                    0.7347752671278027,
                    0.8548774263134383,
                    0.45842010974251546,
                    0.3713654506510251,
                    0.09991435271187077,
                    0.4954950473381535,
                    0.9956472641485533,
                    0.4995593019336423,
                    0.9886785962577589,
                    0.17333631328396848,
                    0.9376392529464074,
                    0.5809868663256719,
                    0.8230561171198595,
                    0.8665603148382999,
                    0.9905392922023537,
                    0.3322749850865113,
                    0.22752355889850717,
                    0.23593515013068178,
                    0.32142813812252724,
                    0.3734164443268555,
                    0.38118074517178635,
                    0.5191470399721942,
                    0.31007762495279756,
                    0.8611388576302567,
                    0.008897657573846418,
                    0.07972018576239515,
                    0.42941056950483025,
                    0.7057461599856117,
                    0.6130764935654021,
                    0.8496895736544033,
                    0.9341058568789999,
                    0.6191656310075981,
                    0.8118756530418629,
                    0.8368597363100999,
                    0.5200747729206436
                  ],
                  "y": [
                    0.5482147776547646,
                    0.9830069224709174,
                    0.013546492170309676,
                    0.6910881882903082,
                    0.09206771926984514,
                    0.5676046573100166,
                    0.5952745109265355,
                    0.33799637308037034,
                    0.20559989120316968,
                    0.2903079262394025,
                    0.7238967424457527,
                    0.6788041185368171,
                    0.9835451948839954,
                    0.9035213208371607,
                    0.8097121654175006,
                    0.4109000255178312,
                    0.14544048424655298,
                    0.5564721015270253,
                    0.06138122823320746,
                    0.7281721662441267,
                    0.7720517454394573,
                    0.8179148856204945,
                    0.9439566292658165,
                    0.8924735962453065,
                    0.6040695258061786,
                    0.4180215100411441,
                    0.39462236772114556,
                    0.7938326680111104,
                    0.9753696292977844,
                    0.02794420749937454,
                    0.5021587982499192,
                    0.588837452076444,
                    0.6377247003311455,
                    0.5330777091906297,
                    0.0775373300438732,
                    0.33403880034666067,
                    0.49436057128600697,
                    0.9563724121895791,
                    0.3763598181075669,
                    0.7673452008880343,
                    0.5463984616315093,
                    0.1385072419649005,
                    0.9965112801009467,
                    0.046581894270907975,
                    0.3549950084574842,
                    0.8965378465247061,
                    0.0897548693598772,
                    0.725603260607204,
                    0.23714389096331556,
                    0.3096451488251837,
                    0.49640894494083165,
                    0.5844214109119458,
                    0.6550559632435878,
                    0.15625032160581598,
                    0.38246351416100577,
                    0.3015959017945343,
                    0.7518593808460382,
                    0.8339708213501614,
                    0.5594923999747086,
                    0.3453464277666525,
                    0.628910799713594,
                    0.09547268338832016,
                    0.5210882724713761,
                    0.5975012151611634,
                    0.3303089542154152,
                    0.0917622704622637,
                    0.6455949506863525,
                    0.5278180003010288,
                    0.8698650598778078,
                    0.09364134143500946,
                    0.4241398313815,
                    0.23346061804953333,
                    0.6905351583885174,
                    0.8121147459783973,
                    0.7204523619067145,
                    0.9944529834361039,
                    0.9798514075430156,
                    0.03979450983257882,
                    0.8020966127667556,
                    0.23630513385970164,
                    0.43875807229698693,
                    0.64719024231497,
                    0.199786844934858,
                    0.17272822149624123,
                    0.21086936885529883,
                    0.7249465814643864,
                    0.6969944637271671,
                    0.5587875868478072,
                    0.8014501516690941,
                    0.04656616888196463,
                    0.8401080685446827,
                    0.14805855072430552,
                    0.4173524372452657,
                    0.656413282154639,
                    0.5409810918703701,
                    0.9014222938293694,
                    0.8985843711036393,
                    0.5321860147510069,
                    0.7297576213788728,
                    0.03254946039894113
                  ],
                  "z": [
                    0.184539088755037,
                    0.7320729209408339,
                    0.26688266874857225,
                    0.6832982015012059,
                    0.5452884417137536,
                    0.7441983445306428,
                    0.7592807553215656,
                    0.6396469269031891,
                    0.5860081600673126,
                    0.30097231086471965,
                    0.5869898822744479,
                    0.9725101386978892,
                    0.7112067547847385,
                    0.08898021766283848,
                    0.07749576173143446,
                    0.33619014301184913,
                    0.6506330913360776,
                    0.556348074186136,
                    0.10549025302515103,
                    0.748875387285122,
                    0.33848719837475516,
                    0.5901806897619337,
                    0.8785137442070426,
                    0.566406142319955,
                    0.3889030633567333,
                    0.7478918003578293,
                    0.10805512822088315,
                    0.7885783507007491,
                    0.5608095339176067,
                    0.19848904110094878,
                    0.17194801319319564,
                    0.8002341473886526,
                    0.650418390889833,
                    0.8315503340189918,
                    0.5510532559830441,
                    0.40998692700888784,
                    0.5510066019597412,
                    0.7088005920262354,
                    0.3554089694268563,
                    0.3711836017587794,
                    0.1384915708016886,
                    0.1728284823608136,
                    0.7042263712309658,
                    0.19411936514336692,
                    0.20067666164312403,
                    0.7790743423157712,
                    0.39500257706119857,
                    0.564446994385445,
                    0.835461054022255,
                    0.05736665055580803,
                    0.9739817441494923,
                    0.34388688979986015,
                    0.858931299907885,
                    0.7982729988149444,
                    0.23527200354787747,
                    0.44163717272869907,
                    0.4024833995793836,
                    0.35285173830353356,
                    0.08209965019690668,
                    0.7882254676464531,
                    0.8656885130425704,
                    0.7798724401046216,
                    0.20264142955382092,
                    0.634954688337064,
                    0.6628406481551746,
                    0.11859172466905077,
                    0.3326617888495318,
                    0.6662256070609461,
                    0.7933291943956977,
                    0.37545038393017227,
                    0.7010166057941705,
                    0.7411516078946052,
                    0.5401516888389571,
                    0.7797483802610148,
                    0.6545456299019227,
                    0.23676482331650828,
                    0.1452621721579339,
                    0.3846860105902489,
                    0.41010698458509554,
                    0.27251075195229413,
                    0.12270890255517042,
                    0.24812404282846712,
                    0.9269729740095458,
                    0.13807913786731751,
                    0.4131439484176216,
                    0.8812389022005878,
                    0.7048402035907461,
                    0.4549225507392791,
                    0.42480219179607825,
                    0.1739590467079769,
                    0.7916261788877493,
                    0.625281891054996,
                    0.08703622757170493,
                    0.7654587507007488,
                    0.9868174775239807,
                    0.7294812840090552,
                    0.7610444278769608,
                    0.33828803503107807,
                    0.6672548768712481,
                    0.06754959603309818
                  ]
                }
              ],
              "layout": {
                "scene": {
                  "xaxis": {
                    "title": {
                      "text": "X Axis Title"
                    }
                  },
                  "yaxis": {
                    "title": {
                      "text": "Y Axis Title"
                    }
                  },
                  "zaxis": {
                    "title": {
                      "text": "Z Axis Title"
                    }
                  }
                },
                "template": {
                  "data": {
                    "bar": [
                      {
                        "error_x": {
                          "color": "#2a3f5f"
                        },
                        "error_y": {
                          "color": "#2a3f5f"
                        },
                        "marker": {
                          "line": {
                            "color": "#E5ECF6",
                            "width": 0.5
                          },
                          "pattern": {
                            "fillmode": "overlay",
                            "size": 10,
                            "solidity": 0.2
                          }
                        },
                        "type": "bar"
                      }
                    ],
                    "barpolar": [
                      {
                        "marker": {
                          "line": {
                            "color": "#E5ECF6",
                            "width": 0.5
                          },
                          "pattern": {
                            "fillmode": "overlay",
                            "size": 10,
                            "solidity": 0.2
                          }
                        },
                        "type": "barpolar"
                      }
                    ],
                    "carpet": [
                      {
                        "aaxis": {
                          "endlinecolor": "#2a3f5f",
                          "gridcolor": "white",
                          "linecolor": "white",
                          "minorgridcolor": "white",
                          "startlinecolor": "#2a3f5f"
                        },
                        "baxis": {
                          "endlinecolor": "#2a3f5f",
                          "gridcolor": "white",
                          "linecolor": "white",
                          "minorgridcolor": "white",
                          "startlinecolor": "#2a3f5f"
                        },
                        "type": "carpet"
                      }
                    ],
                    "choropleth": [
                      {
                        "colorbar": {
                          "outlinewidth": 0,
                          "ticks": ""
                        },
                        "type": "choropleth"
                      }
                    ],
                    "contour": [
                      {
                        "colorbar": {
                          "outlinewidth": 0,
                          "ticks": ""
                        },
                        "colorscale": [
                          [
                            0,
                            "#0d0887"
                          ],
                          [
                            0.1111111111111111,
                            "#46039f"
                          ],
                          [
                            0.2222222222222222,
                            "#7201a8"
                          ],
                          [
                            0.3333333333333333,
                            "#9c179e"
                          ],
                          [
                            0.4444444444444444,
                            "#bd3786"
                          ],
                          [
                            0.5555555555555556,
                            "#d8576b"
                          ],
                          [
                            0.6666666666666666,
                            "#ed7953"
                          ],
                          [
                            0.7777777777777778,
                            "#fb9f3a"
                          ],
                          [
                            0.8888888888888888,
                            "#fdca26"
                          ],
                          [
                            1,
                            "#f0f921"
                          ]
                        ],
                        "type": "contour"
                      }
                    ],
                    "contourcarpet": [
                      {
                        "colorbar": {
                          "outlinewidth": 0,
                          "ticks": ""
                        },
                        "type": "contourcarpet"
                      }
                    ],
                    "heatmap": [
                      {
                        "colorbar": {
                          "outlinewidth": 0,
                          "ticks": ""
                        },
                        "colorscale": [
                          [
                            0,
                            "#0d0887"
                          ],
                          [
                            0.1111111111111111,
                            "#46039f"
                          ],
                          [
                            0.2222222222222222,
                            "#7201a8"
                          ],
                          [
                            0.3333333333333333,
                            "#9c179e"
                          ],
                          [
                            0.4444444444444444,
                            "#bd3786"
                          ],
                          [
                            0.5555555555555556,
                            "#d8576b"
                          ],
                          [
                            0.6666666666666666,
                            "#ed7953"
                          ],
                          [
                            0.7777777777777778,
                            "#fb9f3a"
                          ],
                          [
                            0.8888888888888888,
                            "#fdca26"
                          ],
                          [
                            1,
                            "#f0f921"
                          ]
                        ],
                        "type": "heatmap"
                      }
                    ],
                    "heatmapgl": [
                      {
                        "colorbar": {
                          "outlinewidth": 0,
                          "ticks": ""
                        },
                        "colorscale": [
                          [
                            0,
                            "#0d0887"
                          ],
                          [
                            0.1111111111111111,
                            "#46039f"
                          ],
                          [
                            0.2222222222222222,
                            "#7201a8"
                          ],
                          [
                            0.3333333333333333,
                            "#9c179e"
                          ],
                          [
                            0.4444444444444444,
                            "#bd3786"
                          ],
                          [
                            0.5555555555555556,
                            "#d8576b"
                          ],
                          [
                            0.6666666666666666,
                            "#ed7953"
                          ],
                          [
                            0.7777777777777778,
                            "#fb9f3a"
                          ],
                          [
                            0.8888888888888888,
                            "#fdca26"
                          ],
                          [
                            1,
                            "#f0f921"
                          ]
                        ],
                        "type": "heatmapgl"
                      }
                    ],
                    "histogram": [
                      {
                        "marker": {
                          "pattern": {
                            "fillmode": "overlay",
                            "size": 10,
                            "solidity": 0.2
                          }
                        },
                        "type": "histogram"
                      }
                    ],
                    "histogram2d": [
                      {
                        "colorbar": {
                          "outlinewidth": 0,
                          "ticks": ""
                        },
                        "colorscale": [
                          [
                            0,
                            "#0d0887"
                          ],
                          [
                            0.1111111111111111,
                            "#46039f"
                          ],
                          [
                            0.2222222222222222,
                            "#7201a8"
                          ],
                          [
                            0.3333333333333333,
                            "#9c179e"
                          ],
                          [
                            0.4444444444444444,
                            "#bd3786"
                          ],
                          [
                            0.5555555555555556,
                            "#d8576b"
                          ],
                          [
                            0.6666666666666666,
                            "#ed7953"
                          ],
                          [
                            0.7777777777777778,
                            "#fb9f3a"
                          ],
                          [
                            0.8888888888888888,
                            "#fdca26"
                          ],
                          [
                            1,
                            "#f0f921"
                          ]
                        ],
                        "type": "histogram2d"
                      }
                    ],
                    "histogram2dcontour": [
                      {
                        "colorbar": {
                          "outlinewidth": 0,
                          "ticks": ""
                        },
                        "colorscale": [
                          [
                            0,
                            "#0d0887"
                          ],
                          [
                            0.1111111111111111,
                            "#46039f"
                          ],
                          [
                            0.2222222222222222,
                            "#7201a8"
                          ],
                          [
                            0.3333333333333333,
                            "#9c179e"
                          ],
                          [
                            0.4444444444444444,
                            "#bd3786"
                          ],
                          [
                            0.5555555555555556,
                            "#d8576b"
                          ],
                          [
                            0.6666666666666666,
                            "#ed7953"
                          ],
                          [
                            0.7777777777777778,
                            "#fb9f3a"
                          ],
                          [
                            0.8888888888888888,
                            "#fdca26"
                          ],
                          [
                            1,
                            "#f0f921"
                          ]
                        ],
                        "type": "histogram2dcontour"
                      }
                    ],
                    "mesh3d": [
                      {
                        "colorbar": {
                          "outlinewidth": 0,
                          "ticks": ""
                        },
                        "type": "mesh3d"
                      }
                    ],
                    "parcoords": [
                      {
                        "line": {
                          "colorbar": {
                            "outlinewidth": 0,
                            "ticks": ""
                          }
                        },
                        "type": "parcoords"
                      }
                    ],
                    "pie": [
                      {
                        "automargin": true,
                        "type": "pie"
                      }
                    ],
                    "scatter": [
                      {
                        "fillpattern": {
                          "fillmode": "overlay",
                          "size": 10,
                          "solidity": 0.2
                        },
                        "type": "scatter"
                      }
                    ],
                    "scatter3d": [
                      {
                        "line": {
                          "colorbar": {
                            "outlinewidth": 0,
                            "ticks": ""
                          }
                        },
                        "marker": {
                          "colorbar": {
                            "outlinewidth": 0,
                            "ticks": ""
                          }
                        },
                        "type": "scatter3d"
                      }
                    ],
                    "scattercarpet": [
                      {
                        "marker": {
                          "colorbar": {
                            "outlinewidth": 0,
                            "ticks": ""
                          }
                        },
                        "type": "scattercarpet"
                      }
                    ],
                    "scattergeo": [
                      {
                        "marker": {
                          "colorbar": {
                            "outlinewidth": 0,
                            "ticks": ""
                          }
                        },
                        "type": "scattergeo"
                      }
                    ],
                    "scattergl": [
                      {
                        "marker": {
                          "colorbar": {
                            "outlinewidth": 0,
                            "ticks": ""
                          }
                        },
                        "type": "scattergl"
                      }
                    ],
                    "scattermapbox": [
                      {
                        "marker": {
                          "colorbar": {
                            "outlinewidth": 0,
                            "ticks": ""
                          }
                        },
                        "type": "scattermapbox"
                      }
                    ],
                    "scatterpolar": [
                      {
                        "marker": {
                          "colorbar": {
                            "outlinewidth": 0,
                            "ticks": ""
                          }
                        },
                        "type": "scatterpolar"
                      }
                    ],
                    "scatterpolargl": [
                      {
                        "marker": {
                          "colorbar": {
                            "outlinewidth": 0,
                            "ticks": ""
                          }
                        },
                        "type": "scatterpolargl"
                      }
                    ],
                    "scatterternary": [
                      {
                        "marker": {
                          "colorbar": {
                            "outlinewidth": 0,
                            "ticks": ""
                          }
                        },
                        "type": "scatterternary"
                      }
                    ],
                    "surface": [
                      {
                        "colorbar": {
                          "outlinewidth": 0,
                          "ticks": ""
                        },
                        "colorscale": [
                          [
                            0,
                            "#0d0887"
                          ],
                          [
                            0.1111111111111111,
                            "#46039f"
                          ],
                          [
                            0.2222222222222222,
                            "#7201a8"
                          ],
                          [
                            0.3333333333333333,
                            "#9c179e"
                          ],
                          [
                            0.4444444444444444,
                            "#bd3786"
                          ],
                          [
                            0.5555555555555556,
                            "#d8576b"
                          ],
                          [
                            0.6666666666666666,
                            "#ed7953"
                          ],
                          [
                            0.7777777777777778,
                            "#fb9f3a"
                          ],
                          [
                            0.8888888888888888,
                            "#fdca26"
                          ],
                          [
                            1,
                            "#f0f921"
                          ]
                        ],
                        "type": "surface"
                      }
                    ],
                    "table": [
                      {
                        "cells": {
                          "fill": {
                            "color": "#EBF0F8"
                          },
                          "line": {
                            "color": "white"
                          }
                        },
                        "header": {
                          "fill": {
                            "color": "#C8D4E3"
                          },
                          "line": {
                            "color": "white"
                          }
                        },
                        "type": "table"
                      }
                    ]
                  },
                  "layout": {
                    "annotationdefaults": {
                      "arrowcolor": "#2a3f5f",
                      "arrowhead": 0,
                      "arrowwidth": 1
                    },
                    "autotypenumbers": "strict",
                    "coloraxis": {
                      "colorbar": {
                        "outlinewidth": 0,
                        "ticks": ""
                      }
                    },
                    "colorscale": {
                      "diverging": [
                        [
                          0,
                          "#8e0152"
                        ],
                        [
                          0.1,
                          "#c51b7d"
                        ],
                        [
                          0.2,
                          "#de77ae"
                        ],
                        [
                          0.3,
                          "#f1b6da"
                        ],
                        [
                          0.4,
                          "#fde0ef"
                        ],
                        [
                          0.5,
                          "#f7f7f7"
                        ],
                        [
                          0.6,
                          "#e6f5d0"
                        ],
                        [
                          0.7,
                          "#b8e186"
                        ],
                        [
                          0.8,
                          "#7fbc41"
                        ],
                        [
                          0.9,
                          "#4d9221"
                        ],
                        [
                          1,
                          "#276419"
                        ]
                      ],
                      "sequential": [
                        [
                          0,
                          "#0d0887"
                        ],
                        [
                          0.1111111111111111,
                          "#46039f"
                        ],
                        [
                          0.2222222222222222,
                          "#7201a8"
                        ],
                        [
                          0.3333333333333333,
                          "#9c179e"
                        ],
                        [
                          0.4444444444444444,
                          "#bd3786"
                        ],
                        [
                          0.5555555555555556,
                          "#d8576b"
                        ],
                        [
                          0.6666666666666666,
                          "#ed7953"
                        ],
                        [
                          0.7777777777777778,
                          "#fb9f3a"
                        ],
                        [
                          0.8888888888888888,
                          "#fdca26"
                        ],
                        [
                          1,
                          "#f0f921"
                        ]
                      ],
                      "sequentialminus": [
                        [
                          0,
                          "#0d0887"
                        ],
                        [
                          0.1111111111111111,
                          "#46039f"
                        ],
                        [
                          0.2222222222222222,
                          "#7201a8"
                        ],
                        [
                          0.3333333333333333,
                          "#9c179e"
                        ],
                        [
                          0.4444444444444444,
                          "#bd3786"
                        ],
                        [
                          0.5555555555555556,
                          "#d8576b"
                        ],
                        [
                          0.6666666666666666,
                          "#ed7953"
                        ],
                        [
                          0.7777777777777778,
                          "#fb9f3a"
                        ],
                        [
                          0.8888888888888888,
                          "#fdca26"
                        ],
                        [
                          1,
                          "#f0f921"
                        ]
                      ]
                    },
                    "colorway": [
                      "#636efa",
                      "#EF553B",
                      "#00cc96",
                      "#ab63fa",
                      "#FFA15A",
                      "#19d3f3",
                      "#FF6692",
                      "#B6E880",
                      "#FF97FF",
                      "#FECB52"
                    ],
                    "font": {
                      "color": "#2a3f5f"
                    },
                    "geo": {
                      "bgcolor": "white",
                      "lakecolor": "white",
                      "landcolor": "#E5ECF6",
                      "showlakes": true,
                      "showland": true,
                      "subunitcolor": "white"
                    },
                    "hoverlabel": {
                      "align": "left"
                    },
                    "hovermode": "closest",
                    "mapbox": {
                      "style": "light"
                    },
                    "paper_bgcolor": "white",
                    "plot_bgcolor": "#E5ECF6",
                    "polar": {
                      "angularaxis": {
                        "gridcolor": "white",
                        "linecolor": "white",
                        "ticks": ""
                      },
                      "bgcolor": "#E5ECF6",
                      "radialaxis": {
                        "gridcolor": "white",
                        "linecolor": "white",
                        "ticks": ""
                      }
                    },
                    "scene": {
                      "xaxis": {
                        "backgroundcolor": "#E5ECF6",
                        "gridcolor": "white",
                        "gridwidth": 2,
                        "linecolor": "white",
                        "showbackground": true,
                        "ticks": "",
                        "zerolinecolor": "white"
                      },
                      "yaxis": {
                        "backgroundcolor": "#E5ECF6",
                        "gridcolor": "white",
                        "gridwidth": 2,
                        "linecolor": "white",
                        "showbackground": true,
                        "ticks": "",
                        "zerolinecolor": "white"
                      },
                      "zaxis": {
                        "backgroundcolor": "#E5ECF6",
                        "gridcolor": "white",
                        "gridwidth": 2,
                        "linecolor": "white",
                        "showbackground": true,
                        "ticks": "",
                        "zerolinecolor": "white"
                      }
                    },
                    "shapedefaults": {
                      "line": {
                        "color": "#2a3f5f"
                      }
                    },
                    "ternary": {
                      "aaxis": {
                        "gridcolor": "white",
                        "linecolor": "white",
                        "ticks": ""
                      },
                      "baxis": {
                        "gridcolor": "white",
                        "linecolor": "white",
                        "ticks": ""
                      },
                      "bgcolor": "#E5ECF6",
                      "caxis": {
                        "gridcolor": "white",
                        "linecolor": "white",
                        "ticks": ""
                      }
                    },
                    "title": {
                      "x": 0.05
                    },
                    "xaxis": {
                      "automargin": true,
                      "gridcolor": "white",
                      "linecolor": "white",
                      "ticks": "",
                      "title": {
                        "standoff": 15
                      },
                      "zerolinecolor": "white",
                      "zerolinewidth": 2
                    },
                    "yaxis": {
                      "automargin": true,
                      "gridcolor": "white",
                      "linecolor": "white",
                      "ticks": "",
                      "title": {
                        "standoff": 15
                      },
                      "zerolinecolor": "white",
                      "zerolinewidth": 2
                    }
                  }
                }
              }
            }
          },
          "metadata": {},
          "output_type": "display_data"
        }
      ],
      "source": [
        "import plotly.graph_objects as go\n",
        "import numpy as np\n",
        "\n",
        "def create_3d_scatterplot(embedding):\n",
        "    X = embedding[0]\n",
        "    Y = embedding[1]\n",
        "    Z = embedding[2]\n",
        "    \n",
        "    # Create the 3D scatterplot\n",
        "    fig = go.Figure(data=[go.Scatter3d(x=X, y=Y, z=Z, mode='markers')])\n",
        "    \n",
        "    # Set plot layout (optional)\n",
        "    fig.update_layout(scene=dict(\n",
        "        xaxis_title='X Axis Title',\n",
        "        yaxis_title='Y Axis Title',\n",
        "        zaxis_title='Z Axis Title'\n",
        "    ))\n",
        "    \n",
        "    # Show the plot (you can also save it to a file)\n",
        "    fig.show()\n",
        "\n",
        "# Assuming you have the 'embedding' data as a 3D array or list of lists\n",
        "embedding = embedding  # Replace this with your actual data\n",
        "create_3d_scatterplot(embedding)\n"
      ]
    },
    {
      "cell_type": "code",
      "execution_count": 1,
      "metadata": {},
      "outputs": [
        {
          "name": "stderr",
          "output_type": "stream",
          "text": [
            "2023-09-26 14:39:42.369 \n",
            "  \u001b[33m\u001b[1mWarning:\u001b[0m to view this Streamlit app on a browser, run it with the following\n",
            "  command:\n",
            "\n",
            "    streamlit run /home/chris/.pyenv/versions/3.10.6/envs/lewagon/lib/python3.10/site-packages/ipykernel_launcher.py [ARGUMENTS]\n"
          ]
        },
        {
          "data": {
            "text/plain": [
              "DeltaGenerator()"
            ]
          },
          "execution_count": 1,
          "metadata": {},
          "output_type": "execute_result"
        }
      ],
      "source": [
        "import pandas as pd\n",
        "import numpy as np\n",
        "import numpy as np\n",
        "import streamlit as st\n",
        "from graph import create_3d_scatterplot\n",
        "from sklearn.preprocessing import RobustScaler\n",
        "\n",
        "add_selectbox = st.sidebar.selectbox(\n",
        "    \"How would you like to be contacted?\", (\"Home phone\", \"Beta Calculation\", \"Mobile phone\")\n",
        ")\n",
        "\n",
        "# Load Data\n",
        "df = pd.read_csv(\"Data/info_merged.csv\", header=0, index_col=0)\n",
        "df.reset_index(inplace=True)\n",
        "df = df[df[\"currency\"].isin([\"EUR\"])]\n",
        "sector_selection = list(df[\"sector\"].unique())\n",
        "industry_selection = list(df[\"industry\"].unique())\n",
        "\n",
        "# Marketcap Bins\n",
        "num = 10\n",
        "labels = np.linspace(start=1, stop=num, num=num)\n",
        "df[\"marketCap_bins\"] = pd.qcut(df[\"marketCap\"], q=num, labels=labels)\n",
        "\n",
        "# Filter Data for TSNE\n",
        "X = df[[\"marketCap_bins\", \"revenueGrowth\", \"operatingMargins\"]]\n",
        "X = RobustScaler().fit_transform(X)\n",
        "\n",
        "fig = create_3d_scatterplot(df=df, X=X)\n",
        "\n",
        "feature_select = st.multiselect(\"Features\", df.columns)\n",
        "sector_select = st.multiselect(\"Sector\", sector_selection, [\"Technology\"])\n",
        "industry_select = st.multiselect(\"Industry\", industry_selection)\n",
        "\n",
        "df = df[(df[\"sector\"].isin(sector_select)) | (df[\"industry\"].isin(industry_select))]\n",
        "st.plotly_chart(fig, use_container_width=True)\n",
        "st.dataframe(df, hide_index=True)\n"
      ]
    },
    {
      "cell_type": "code",
      "execution_count": 2,
      "metadata": {},
      "outputs": [
        {
          "data": {
            "text/plain": [
              "[]"
            ]
          },
          "execution_count": 2,
          "metadata": {},
          "output_type": "execute_result"
        }
      ],
      "source": [
        "feature_select"
      ]
    }
  ],
  "metadata": {
    "kernelspec": {
      "display_name": "Python 3",
      "language": "python",
      "name": "python3"
    },
    "language_info": {
      "codemirror_mode": {
        "name": "ipython",
        "version": 3
      },
      "file_extension": ".py",
      "mimetype": "text/x-python",
      "name": "python",
      "nbconvert_exporter": "python",
      "pygments_lexer": "ipython3",
      "version": "3.10.6"
    }
  },
  "nbformat": 4,
  "nbformat_minor": 0
}
