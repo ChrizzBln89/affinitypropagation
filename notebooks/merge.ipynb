{
 "cells": [
  {
   "cell_type": "code",
   "execution_count": 1,
   "metadata": {},
   "outputs": [
    {
     "name": "stderr",
     "output_type": "stream",
     "text": [
      "Progress merge: 100%|\u001b[38;2;0;209;17m████████████████████████████████████████\u001b[0m| 54128/54128 [02:07<00:00, 426.11it/s]\u001b[0m\n"
     ]
    }
   ],
   "source": [
    "import glob\n",
    "import tqdm\n",
    "import pandas as pd\n",
    "\n",
    "all_files = glob.glob('/home/chris/code/affinitypropagation/data/history/'+ \"*.csv\")\n",
    "merge_list = []\n",
    "\n",
    "for filename in tqdm.tqdm(\n",
    "            all_files,\n",
    "            ncols=100,\n",
    "            desc=\"Progress merge: \",\n",
    "            colour=\"#00d111\",):\n",
    "            try:\n",
    "                df = pd.read_csv(filename, index_col=None, header=0)\n",
    "                df['symbol'] = filename.strip('>.csv').strip('/home/chris/code/affinitypropagation/data/history/yfinance.Ticker object <')\n",
    "                merge_list.append(df)\n",
    "            except:\n",
    "                continue\n",
    "            \n",
    "box_score_advanced_df = pd.concat(merge_list, axis=0)\n",
    "box_score_advanced_df.to_csv('/home/chris/code/affinitypropagation/data/history_merged.csv', index=False)"
   ]
  }
 ],
 "metadata": {
  "kernelspec": {
   "display_name": "lewagon",
   "language": "python",
   "name": "python3"
  },
  "language_info": {
   "codemirror_mode": {
    "name": "ipython",
    "version": 3
   },
   "file_extension": ".py",
   "mimetype": "text/x-python",
   "name": "python",
   "nbconvert_exporter": "python",
   "pygments_lexer": "ipython3",
   "version": "3.10.6"
  },
  "orig_nbformat": 4
 },
 "nbformat": 4,
 "nbformat_minor": 2
}
