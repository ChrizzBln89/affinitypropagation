{
 "cells": [
  {
   "cell_type": "code",
   "execution_count": 11,
   "metadata": {},
   "outputs": [
    {
     "data": {
      "text/plain": [
       "DeltaGenerator(_root_container=1, _parent=DeltaGenerator())"
      ]
     },
     "execution_count": 11,
     "metadata": {},
     "output_type": "execute_result"
    }
   ],
   "source": [
    "import pandas as pd\n",
    "import numpy as np\n",
    "import streamlit as st\n",
    "from sklearn.preprocessing import RobustScaler\n",
    "from class_peer_group import peer_group\n",
    "from graph import create_3d_scatterplot\n",
    "\n",
    "add_selectbox = st.sidebar.selectbox(\n",
    "    \"Page Navigation\",\n",
    "    (\"Peer Group\", \"Beta Calculation\"),\n",
    ")\n",
    "\n",
    "# Load Data\n",
    "df = pd.read_csv(\"Data/info_merged.csv\", header=0, index_col=0)\n",
    "df.reset_index(inplace=True)\n",
    "df = df[df[\"currency\"].isin([\"EUR\"])]\n",
    "sector_selection = list(df[\"sector\"].unique())\n",
    "industry_selection = list(df[\"industry\"].unique())\n",
    "\n",
    "# Marketcap Bins\n",
    "num = 10\n",
    "labels = np.linspace(start=1, stop=num, num=num)\n",
    "df[\"marketCap_bins\"] = pd.qcut(df[\"marketCap\"], q=num, labels=labels)\n",
    "\n",
    "feature_select = st.multiselect(\"Features\", df.columns, [\"revenueGrowth\"])\n",
    "# sector_select = st.multiselect(\"Sector\", sector_selection, [\"Technology\"])\n",
    "industry_select = st.multiselect(\n",
    "    \"Industry\", industry_selection, [\"Software—Application\"]\n",
    ")\n",
    "st.multiselect(\"Algorithm\", [\"1\", \"2\", \"3\"])\n",
    "\n",
    "# peer_group_user.add_company()\n",
    "\n",
    "# Filter Data for TSNE\n",
    "X = df[feature_select]\n",
    "X = RobustScaler().fit_transform(X)\n",
    "fig = create_3d_scatterplot(df=df, X=X)\n",
    "\n",
    "# df = df[(df[\"sector\"].isin(sector_select)) | (df[\"industry\"].isin(industry_select))]\n",
    "df = df[df[\"industry\"].isin(industry_select)]\n",
    "\n",
    "st.plotly_chart(fig, use_container_width=True)\n",
    "\n",
    "df[\"Peer Group\"] = False\n",
    "\n",
    "st.data_editor(\n",
    "    df,\n",
    "    column_config={\n",
    "        \"Peer Group\": st.column_config.CheckboxColumn(\n",
    "            \"Your favorite?\",\n",
    "            help=\"Select your **favorite** widgets\",\n",
    "            default=False,\n",
    "        )\n",
    "    },\n",
    "    disabled=[\"widgets\"],\n",
    "    hide_index=True,\n",
    ")\n",
    "\n",
    "peer_group_user = peer_group()\n",
    "peer_group_user.add_company(df.loc[df[\"Peer Group\"] == True, \"symbol\"])\n",
    "st.sidebar.dataframe(df.loc[df[\"Peer Group\"] == True, \"symbol\"])\n"
   ]
  }
 ],
 "metadata": {
  "kernelspec": {
   "display_name": "lewagon",
   "language": "python",
   "name": "python3"
  },
  "language_info": {
   "codemirror_mode": {
    "name": "ipython",
    "version": 3
   },
   "file_extension": ".py",
   "mimetype": "text/x-python",
   "name": "python",
   "nbconvert_exporter": "python",
   "pygments_lexer": "ipython3",
   "version": "3.10.6"
  },
  "orig_nbformat": 4
 },
 "nbformat": 4,
 "nbformat_minor": 2
}
