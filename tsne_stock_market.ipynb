{
  "cells": [
    {
      "cell_type": "markdown",
      "metadata": {},
      "source": [
        "## Retrieve the data from Internet\n",
        "\n",
        "The data is from 2003 - 2008. This is reasonably calm: (not too long ago so\n",
        "that we get high-tech firms, and before the 2008 crash). This kind of\n",
        "historical data can be obtained from APIs like the\n",
        "[data.nasdaq.com](https://data.nasdaq.com/) and\n",
        "[alphavantage.co](https://www.alphavantage.co/).\n",
        "\n"
      ]
    },
    {
      "cell_type": "code",
      "execution_count": 4,
      "metadata": {
        "collapsed": false
      },
      "outputs": [
        {
          "name": "stderr",
          "output_type": "stream",
          "text": [
            "Fetching quote history for 'AAPL'\n",
            "Fetching quote history for 'AIG'\n",
            "Fetching quote history for 'AMZN'\n",
            "Fetching quote history for 'AXP'\n",
            "Fetching quote history for 'BA'\n",
            "Fetching quote history for 'BAC'\n",
            "Fetching quote history for 'CAJ'\n",
            "Fetching quote history for 'CAT'\n",
            "Fetching quote history for 'CL'\n",
            "Fetching quote history for 'CMCSA'\n",
            "Fetching quote history for 'COP'\n",
            "Fetching quote history for 'CSCO'\n",
            "Fetching quote history for 'CVC'\n",
            "Fetching quote history for 'CVS'\n",
            "Fetching quote history for 'CVX'\n",
            "Fetching quote history for 'DD'\n",
            "Fetching quote history for 'DELL'\n",
            "Fetching quote history for 'F'\n",
            "Fetching quote history for 'GD'\n",
            "Fetching quote history for 'GE'\n",
            "Fetching quote history for 'GS'\n",
            "Fetching quote history for 'GSK'\n",
            "Fetching quote history for 'HD'\n",
            "Fetching quote history for 'HMC'\n",
            "Fetching quote history for 'HPQ'\n",
            "Fetching quote history for 'IBM'\n",
            "Fetching quote history for 'JPM'\n",
            "Fetching quote history for 'K'\n",
            "Fetching quote history for 'KMB'\n",
            "Fetching quote history for 'KO'\n",
            "Fetching quote history for 'MAR'\n",
            "Fetching quote history for 'MCD'\n",
            "Fetching quote history for 'MMM'\n",
            "Fetching quote history for 'MSFT'\n",
            "Fetching quote history for 'NAV'\n",
            "Fetching quote history for 'NOC'\n",
            "Fetching quote history for 'NVS'\n",
            "Fetching quote history for 'PEP'\n",
            "Fetching quote history for 'PFE'\n",
            "Fetching quote history for 'PG'\n",
            "Fetching quote history for 'R'\n",
            "Fetching quote history for 'RTN'\n",
            "Fetching quote history for 'SAP'\n",
            "Fetching quote history for 'SNE'\n",
            "Fetching quote history for 'SNY'\n",
            "Fetching quote history for 'TM'\n",
            "Fetching quote history for 'TOT'\n",
            "Fetching quote history for 'TWX'\n",
            "Fetching quote history for 'TXN'\n",
            "Fetching quote history for 'UN'\n",
            "Fetching quote history for 'VLO'\n",
            "Fetching quote history for 'WFC'\n",
            "Fetching quote history for 'WMT'\n",
            "Fetching quote history for 'XOM'\n",
            "Fetching quote history for 'XRX'\n",
            "Fetching quote history for 'YHOO'\n"
          ]
        }
      ],
      "source": [
        "import sys\n",
        "\n",
        "import numpy as np\n",
        "import pandas as pd\n",
        "\n",
        "symbol_dict = {\n",
        "    \"TOT\": \"Total\",\n",
        "    \"XOM\": \"Exxon\",\n",
        "    \"CVX\": \"Chevron\",\n",
        "    \"COP\": \"ConocoPhillips\",\n",
        "    \"VLO\": \"Valero Energy\",\n",
        "    \"MSFT\": \"Microsoft\",\n",
        "    \"IBM\": \"IBM\",\n",
        "    \"TWX\": \"Time Warner\",\n",
        "    \"CMCSA\": \"Comcast\",\n",
        "    \"CVC\": \"Cablevision\",\n",
        "    \"YHOO\": \"Yahoo\",\n",
        "    \"DELL\": \"Dell\",\n",
        "    \"HPQ\": \"HP\",\n",
        "    \"AMZN\": \"Amazon\",\n",
        "    \"TM\": \"Toyota\",\n",
        "    \"CAJ\": \"Canon\",\n",
        "    \"SNE\": \"Sony\",\n",
        "    \"F\": \"Ford\",\n",
        "    \"HMC\": \"Honda\",\n",
        "    \"NAV\": \"Navistar\",\n",
        "    \"NOC\": \"Northrop Grumman\",\n",
        "    \"BA\": \"Boeing\",\n",
        "    \"KO\": \"Coca Cola\",\n",
        "    \"MMM\": \"3M\",\n",
        "    \"MCD\": \"McDonald's\",\n",
        "    \"PEP\": \"Pepsi\",\n",
        "    \"K\": \"Kellogg\",\n",
        "    \"UN\": \"Unilever\",\n",
        "    \"MAR\": \"Marriott\",\n",
        "    \"PG\": \"Procter Gamble\",\n",
        "    \"CL\": \"Colgate-Palmolive\",\n",
        "    \"GE\": \"General Electrics\",\n",
        "    \"WFC\": \"Wells Fargo\",\n",
        "    \"JPM\": \"JPMorgan Chase\",\n",
        "    \"AIG\": \"AIG\",\n",
        "    \"AXP\": \"American express\",\n",
        "    \"BAC\": \"Bank of America\",\n",
        "    \"GS\": \"Goldman Sachs\",\n",
        "    \"AAPL\": \"Apple\",\n",
        "    \"SAP\": \"SAP\",\n",
        "    \"CSCO\": \"Cisco\",\n",
        "    \"TXN\": \"Texas Instruments\",\n",
        "    \"XRX\": \"Xerox\",\n",
        "    \"WMT\": \"Wal-Mart\",\n",
        "    \"HD\": \"Home Depot\",\n",
        "    \"GSK\": \"GlaxoSmithKline\",\n",
        "    \"PFE\": \"Pfizer\",\n",
        "    \"SNY\": \"Sanofi-Aventis\",\n",
        "    \"NVS\": \"Novartis\",\n",
        "    \"KMB\": \"Kimberly-Clark\",\n",
        "    \"R\": \"Ryder\",\n",
        "    \"GD\": \"General Dynamics\",\n",
        "    \"RTN\": \"Raytheon\",\n",
        "    \"CVS\": \"CVS\",\n",
        "    \"CAT\": \"Caterpillar\",\n",
        "    \"DD\": \"DuPont de Nemours\",\n",
        "}\n",
        "\n",
        "\n",
        "symbols, names = np.array(sorted(symbol_dict.items())).T\n",
        "\n",
        "quotes = []\n",
        "\n",
        "for symbol in symbols:\n",
        "    print(\"Fetching quote history for %r\" % symbol, file=sys.stderr)\n",
        "    url = (\n",
        "        \"https://raw.githubusercontent.com/scikit-learn/examples-data/\"\n",
        "        \"master/financial-data/{}.csv\"\n",
        "    )\n",
        "    quotes.append(pd.read_csv(url.format(symbol)))\n",
        "\n",
        "close_prices = np.vstack([q[\"close\"] for q in quotes])\n",
        "open_prices = np.vstack([q[\"open\"] for q in quotes])\n",
        "\n",
        "# The daily variations of the quotes are what carry the most information\n",
        "variation = close_prices - open_prices"
      ]
    },
    {
      "cell_type": "code",
      "execution_count": 6,
      "metadata": {},
      "outputs": [
        {
          "data": {
            "text/html": [
              "<style>#sk-container-id-1 {color: black;}#sk-container-id-1 pre{padding: 0;}#sk-container-id-1 div.sk-toggleable {background-color: white;}#sk-container-id-1 label.sk-toggleable__label {cursor: pointer;display: block;width: 100%;margin-bottom: 0;padding: 0.3em;box-sizing: border-box;text-align: center;}#sk-container-id-1 label.sk-toggleable__label-arrow:before {content: \"▸\";float: left;margin-right: 0.25em;color: #696969;}#sk-container-id-1 label.sk-toggleable__label-arrow:hover:before {color: black;}#sk-container-id-1 div.sk-estimator:hover label.sk-toggleable__label-arrow:before {color: black;}#sk-container-id-1 div.sk-toggleable__content {max-height: 0;max-width: 0;overflow: hidden;text-align: left;background-color: #f0f8ff;}#sk-container-id-1 div.sk-toggleable__content pre {margin: 0.2em;color: black;border-radius: 0.25em;background-color: #f0f8ff;}#sk-container-id-1 input.sk-toggleable__control:checked~div.sk-toggleable__content {max-height: 200px;max-width: 100%;overflow: auto;}#sk-container-id-1 input.sk-toggleable__control:checked~label.sk-toggleable__label-arrow:before {content: \"▾\";}#sk-container-id-1 div.sk-estimator input.sk-toggleable__control:checked~label.sk-toggleable__label {background-color: #d4ebff;}#sk-container-id-1 div.sk-label input.sk-toggleable__control:checked~label.sk-toggleable__label {background-color: #d4ebff;}#sk-container-id-1 input.sk-hidden--visually {border: 0;clip: rect(1px 1px 1px 1px);clip: rect(1px, 1px, 1px, 1px);height: 1px;margin: -1px;overflow: hidden;padding: 0;position: absolute;width: 1px;}#sk-container-id-1 div.sk-estimator {font-family: monospace;background-color: #f0f8ff;border: 1px dotted black;border-radius: 0.25em;box-sizing: border-box;margin-bottom: 0.5em;}#sk-container-id-1 div.sk-estimator:hover {background-color: #d4ebff;}#sk-container-id-1 div.sk-parallel-item::after {content: \"\";width: 100%;border-bottom: 1px solid gray;flex-grow: 1;}#sk-container-id-1 div.sk-label:hover label.sk-toggleable__label {background-color: #d4ebff;}#sk-container-id-1 div.sk-serial::before {content: \"\";position: absolute;border-left: 1px solid gray;box-sizing: border-box;top: 0;bottom: 0;left: 50%;z-index: 0;}#sk-container-id-1 div.sk-serial {display: flex;flex-direction: column;align-items: center;background-color: white;padding-right: 0.2em;padding-left: 0.2em;position: relative;}#sk-container-id-1 div.sk-item {position: relative;z-index: 1;}#sk-container-id-1 div.sk-parallel {display: flex;align-items: stretch;justify-content: center;background-color: white;position: relative;}#sk-container-id-1 div.sk-item::before, #sk-container-id-1 div.sk-parallel-item::before {content: \"\";position: absolute;border-left: 1px solid gray;box-sizing: border-box;top: 0;bottom: 0;left: 50%;z-index: -1;}#sk-container-id-1 div.sk-parallel-item {display: flex;flex-direction: column;z-index: 1;position: relative;background-color: white;}#sk-container-id-1 div.sk-parallel-item:first-child::after {align-self: flex-end;width: 50%;}#sk-container-id-1 div.sk-parallel-item:last-child::after {align-self: flex-start;width: 50%;}#sk-container-id-1 div.sk-parallel-item:only-child::after {width: 0;}#sk-container-id-1 div.sk-dashed-wrapped {border: 1px dashed gray;margin: 0 0.4em 0.5em 0.4em;box-sizing: border-box;padding-bottom: 0.4em;background-color: white;}#sk-container-id-1 div.sk-label label {font-family: monospace;font-weight: bold;display: inline-block;line-height: 1.2em;}#sk-container-id-1 div.sk-label-container {text-align: center;}#sk-container-id-1 div.sk-container {/* jupyter's `normalize.less` sets `[hidden] { display: none; }` but bootstrap.min.css set `[hidden] { display: none !important; }` so we also need the `!important` here to be able to override the default hidden behavior on the sphinx rendered scikit-learn.org. See: https://github.com/scikit-learn/scikit-learn/issues/21755 */display: inline-block !important;position: relative;}#sk-container-id-1 div.sk-text-repr-fallback {display: none;}</style><div id=\"sk-container-id-1\" class=\"sk-top-container\"><div class=\"sk-text-repr-fallback\"><pre>GraphicalLassoCV(alphas=array([ 0.03162278,  0.05994843,  0.11364637,  0.21544347,  0.40842387,\n",
              "        0.77426368,  1.46779927,  2.7825594 ,  5.27499706, 10.        ]))</pre><b>In a Jupyter environment, please rerun this cell to show the HTML representation or trust the notebook. <br />On GitHub, the HTML representation is unable to render, please try loading this page with nbviewer.org.</b></div><div class=\"sk-container\" hidden><div class=\"sk-item\"><div class=\"sk-estimator sk-toggleable\"><input class=\"sk-toggleable__control sk-hidden--visually\" id=\"sk-estimator-id-1\" type=\"checkbox\" checked><label for=\"sk-estimator-id-1\" class=\"sk-toggleable__label sk-toggleable__label-arrow\">GraphicalLassoCV</label><div class=\"sk-toggleable__content\"><pre>GraphicalLassoCV(alphas=array([ 0.03162278,  0.05994843,  0.11364637,  0.21544347,  0.40842387,\n",
              "        0.77426368,  1.46779927,  2.7825594 ,  5.27499706, 10.        ]))</pre></div></div></div></div></div>"
            ],
            "text/plain": [
              "GraphicalLassoCV(alphas=array([ 0.03162278,  0.05994843,  0.11364637,  0.21544347,  0.40842387,\n",
              "        0.77426368,  1.46779927,  2.7825594 ,  5.27499706, 10.        ]))"
            ]
          },
          "execution_count": 6,
          "metadata": {},
          "output_type": "execute_result"
        }
      ],
      "source": [
        "from sklearn import covariance\n",
        "\n",
        "alphas = np.logspace(-1.5, 1, num=10)\n",
        "edge_model = covariance.GraphicalLassoCV(alphas=alphas)\n",
        "\n",
        "# standardize the time series: using correlations rather than covariance\n",
        "# former is more efficient for structure recovery\n",
        "X = variation.copy().T\n",
        "X /= X.std(axis=0)\n",
        "edge_model.fit(X)"
      ]
    },
    {
      "cell_type": "code",
      "execution_count": 9,
      "metadata": {},
      "outputs": [
        {
          "data": {
            "application/vnd.plotly.v1+json": {
              "config": {
                "plotlyServerURL": "https://plot.ly"
              },
              "data": [
                {
                  "mode": "markers",
                  "type": "scatter3d",
                  "x": [
                    31.34046,
                    -11.253215,
                    17.746151,
                    -121.05609,
                    -68.58744,
                    -85.58164,
                    117.79014,
                    77.24032,
                    -95.13729,
                    114.11999,
                    33.43474,
                    -50.04633,
                    -115.97839,
                    -29.465424,
                    -170.27965,
                    30.900736,
                    40.17033,
                    48.92147,
                    89.25301,
                    7.8606157,
                    145.15065,
                    -58.3075,
                    6.592163,
                    10.110311,
                    91.09798,
                    -96.07359,
                    37.421104,
                    56.202343,
                    -41.23419,
                    31.45839,
                    64.39713,
                    -28.26217,
                    -54.409153,
                    93.18601,
                    -117.91288,
                    -7.986377,
                    -52.05119,
                    -51.976135,
                    14.269148,
                    -11.4855585,
                    -86.42251,
                    -58.263584,
                    92.6537,
                    83.96458,
                    49.913197,
                    -104.32463,
                    -44.61777,
                    73.323715,
                    -47.330086,
                    -39.198574,
                    -7.809973,
                    98.292564,
                    -6.996194,
                    13.59507,
                    20.84602,
                    -26.653257
                  ],
                  "y": [
                    -91.48457,
                    -54.29942,
                    80.34448,
                    9.600062,
                    -55.666363,
                    53.027092,
                    31.169416,
                    113.3488,
                    17.424435,
                    -51.410946,
                    146.63177,
                    -9.744592,
                    -82.43171,
                    -46.27377,
                    -18.16276,
                    74.21091,
                    9.558242,
                    -12.47012,
                    23.020462,
                    77.778534,
                    5.565056,
                    123.822334,
                    154.35349,
                    13.645958,
                    78.29987,
                    -50.177025,
                    -45.541702,
                    -24.43725,
                    45.159542,
                    -160.41245,
                    48.3208,
                    53.236843,
                    -86.86835,
                    -25.829998,
                    73.25508,
                    -124.14765,
                    121.963165,
                    47.929787,
                    91.480865,
                    1.158949,
                    -24.96139,
                    -108.694534,
                    -109.601585,
                    -88.378586,
                    -71.84362,
                    -4.747145,
                    -116.90198,
                    44.36831,
                    -8.989544,
                    27.558947,
                    -142.65808,
                    -33.464184,
                    -36.529957,
                    -106.10368,
                    3.1993303,
                    100.073395
                  ],
                  "z": [
                    -10.344406,
                    17.778858,
                    114.230705,
                    32.410923,
                    -115.764404,
                    61.711926,
                    -52.07776,
                    -37.381104,
                    -105.4261,
                    27.183195,
                    30.655985,
                    50.18202,
                    -13.571816,
                    -58.410812,
                    141.95952,
                    25.219206,
                    116.92187,
                    -11.337981,
                    40.398754,
                    -38.317013,
                    3.8537838,
                    -31.514183,
                    -71.48044,
                    -57.930935,
                    81.3069,
                    52.022602,
                    -62.433147,
                    -131.1737,
                    -120.78906,
                    -2.722477,
                    -22.691597,
                    24.314543,
                    84.52152,
                    92.5589,
                    -12.641913,
                    -72.36843,
                    24.600224,
                    -49.428143,
                    -109.551544,
                    -128.69534,
                    130.56265,
                    -78.61388,
                    -1.3809452,
                    -83.56261,
                    57.772057,
                    -35.81584,
                    10.644424,
                    -103.32962,
                    -6.923283,
                    112.75303,
                    59.687183,
                    -52.7168,
                    96.69059,
                    114.65741,
                    43.727615,
                    97.2988
                  ]
                }
              ],
              "layout": {
                "scene": {
                  "xaxis": {
                    "title": {
                      "text": "X Axis Title"
                    }
                  },
                  "yaxis": {
                    "title": {
                      "text": "Y Axis Title"
                    }
                  },
                  "zaxis": {
                    "title": {
                      "text": "Z Axis Title"
                    }
                  }
                },
                "template": {
                  "data": {
                    "bar": [
                      {
                        "error_x": {
                          "color": "#2a3f5f"
                        },
                        "error_y": {
                          "color": "#2a3f5f"
                        },
                        "marker": {
                          "line": {
                            "color": "#E5ECF6",
                            "width": 0.5
                          },
                          "pattern": {
                            "fillmode": "overlay",
                            "size": 10,
                            "solidity": 0.2
                          }
                        },
                        "type": "bar"
                      }
                    ],
                    "barpolar": [
                      {
                        "marker": {
                          "line": {
                            "color": "#E5ECF6",
                            "width": 0.5
                          },
                          "pattern": {
                            "fillmode": "overlay",
                            "size": 10,
                            "solidity": 0.2
                          }
                        },
                        "type": "barpolar"
                      }
                    ],
                    "carpet": [
                      {
                        "aaxis": {
                          "endlinecolor": "#2a3f5f",
                          "gridcolor": "white",
                          "linecolor": "white",
                          "minorgridcolor": "white",
                          "startlinecolor": "#2a3f5f"
                        },
                        "baxis": {
                          "endlinecolor": "#2a3f5f",
                          "gridcolor": "white",
                          "linecolor": "white",
                          "minorgridcolor": "white",
                          "startlinecolor": "#2a3f5f"
                        },
                        "type": "carpet"
                      }
                    ],
                    "choropleth": [
                      {
                        "colorbar": {
                          "outlinewidth": 0,
                          "ticks": ""
                        },
                        "type": "choropleth"
                      }
                    ],
                    "contour": [
                      {
                        "colorbar": {
                          "outlinewidth": 0,
                          "ticks": ""
                        },
                        "colorscale": [
                          [
                            0,
                            "#0d0887"
                          ],
                          [
                            0.1111111111111111,
                            "#46039f"
                          ],
                          [
                            0.2222222222222222,
                            "#7201a8"
                          ],
                          [
                            0.3333333333333333,
                            "#9c179e"
                          ],
                          [
                            0.4444444444444444,
                            "#bd3786"
                          ],
                          [
                            0.5555555555555556,
                            "#d8576b"
                          ],
                          [
                            0.6666666666666666,
                            "#ed7953"
                          ],
                          [
                            0.7777777777777778,
                            "#fb9f3a"
                          ],
                          [
                            0.8888888888888888,
                            "#fdca26"
                          ],
                          [
                            1,
                            "#f0f921"
                          ]
                        ],
                        "type": "contour"
                      }
                    ],
                    "contourcarpet": [
                      {
                        "colorbar": {
                          "outlinewidth": 0,
                          "ticks": ""
                        },
                        "type": "contourcarpet"
                      }
                    ],
                    "heatmap": [
                      {
                        "colorbar": {
                          "outlinewidth": 0,
                          "ticks": ""
                        },
                        "colorscale": [
                          [
                            0,
                            "#0d0887"
                          ],
                          [
                            0.1111111111111111,
                            "#46039f"
                          ],
                          [
                            0.2222222222222222,
                            "#7201a8"
                          ],
                          [
                            0.3333333333333333,
                            "#9c179e"
                          ],
                          [
                            0.4444444444444444,
                            "#bd3786"
                          ],
                          [
                            0.5555555555555556,
                            "#d8576b"
                          ],
                          [
                            0.6666666666666666,
                            "#ed7953"
                          ],
                          [
                            0.7777777777777778,
                            "#fb9f3a"
                          ],
                          [
                            0.8888888888888888,
                            "#fdca26"
                          ],
                          [
                            1,
                            "#f0f921"
                          ]
                        ],
                        "type": "heatmap"
                      }
                    ],
                    "heatmapgl": [
                      {
                        "colorbar": {
                          "outlinewidth": 0,
                          "ticks": ""
                        },
                        "colorscale": [
                          [
                            0,
                            "#0d0887"
                          ],
                          [
                            0.1111111111111111,
                            "#46039f"
                          ],
                          [
                            0.2222222222222222,
                            "#7201a8"
                          ],
                          [
                            0.3333333333333333,
                            "#9c179e"
                          ],
                          [
                            0.4444444444444444,
                            "#bd3786"
                          ],
                          [
                            0.5555555555555556,
                            "#d8576b"
                          ],
                          [
                            0.6666666666666666,
                            "#ed7953"
                          ],
                          [
                            0.7777777777777778,
                            "#fb9f3a"
                          ],
                          [
                            0.8888888888888888,
                            "#fdca26"
                          ],
                          [
                            1,
                            "#f0f921"
                          ]
                        ],
                        "type": "heatmapgl"
                      }
                    ],
                    "histogram": [
                      {
                        "marker": {
                          "pattern": {
                            "fillmode": "overlay",
                            "size": 10,
                            "solidity": 0.2
                          }
                        },
                        "type": "histogram"
                      }
                    ],
                    "histogram2d": [
                      {
                        "colorbar": {
                          "outlinewidth": 0,
                          "ticks": ""
                        },
                        "colorscale": [
                          [
                            0,
                            "#0d0887"
                          ],
                          [
                            0.1111111111111111,
                            "#46039f"
                          ],
                          [
                            0.2222222222222222,
                            "#7201a8"
                          ],
                          [
                            0.3333333333333333,
                            "#9c179e"
                          ],
                          [
                            0.4444444444444444,
                            "#bd3786"
                          ],
                          [
                            0.5555555555555556,
                            "#d8576b"
                          ],
                          [
                            0.6666666666666666,
                            "#ed7953"
                          ],
                          [
                            0.7777777777777778,
                            "#fb9f3a"
                          ],
                          [
                            0.8888888888888888,
                            "#fdca26"
                          ],
                          [
                            1,
                            "#f0f921"
                          ]
                        ],
                        "type": "histogram2d"
                      }
                    ],
                    "histogram2dcontour": [
                      {
                        "colorbar": {
                          "outlinewidth": 0,
                          "ticks": ""
                        },
                        "colorscale": [
                          [
                            0,
                            "#0d0887"
                          ],
                          [
                            0.1111111111111111,
                            "#46039f"
                          ],
                          [
                            0.2222222222222222,
                            "#7201a8"
                          ],
                          [
                            0.3333333333333333,
                            "#9c179e"
                          ],
                          [
                            0.4444444444444444,
                            "#bd3786"
                          ],
                          [
                            0.5555555555555556,
                            "#d8576b"
                          ],
                          [
                            0.6666666666666666,
                            "#ed7953"
                          ],
                          [
                            0.7777777777777778,
                            "#fb9f3a"
                          ],
                          [
                            0.8888888888888888,
                            "#fdca26"
                          ],
                          [
                            1,
                            "#f0f921"
                          ]
                        ],
                        "type": "histogram2dcontour"
                      }
                    ],
                    "mesh3d": [
                      {
                        "colorbar": {
                          "outlinewidth": 0,
                          "ticks": ""
                        },
                        "type": "mesh3d"
                      }
                    ],
                    "parcoords": [
                      {
                        "line": {
                          "colorbar": {
                            "outlinewidth": 0,
                            "ticks": ""
                          }
                        },
                        "type": "parcoords"
                      }
                    ],
                    "pie": [
                      {
                        "automargin": true,
                        "type": "pie"
                      }
                    ],
                    "scatter": [
                      {
                        "fillpattern": {
                          "fillmode": "overlay",
                          "size": 10,
                          "solidity": 0.2
                        },
                        "type": "scatter"
                      }
                    ],
                    "scatter3d": [
                      {
                        "line": {
                          "colorbar": {
                            "outlinewidth": 0,
                            "ticks": ""
                          }
                        },
                        "marker": {
                          "colorbar": {
                            "outlinewidth": 0,
                            "ticks": ""
                          }
                        },
                        "type": "scatter3d"
                      }
                    ],
                    "scattercarpet": [
                      {
                        "marker": {
                          "colorbar": {
                            "outlinewidth": 0,
                            "ticks": ""
                          }
                        },
                        "type": "scattercarpet"
                      }
                    ],
                    "scattergeo": [
                      {
                        "marker": {
                          "colorbar": {
                            "outlinewidth": 0,
                            "ticks": ""
                          }
                        },
                        "type": "scattergeo"
                      }
                    ],
                    "scattergl": [
                      {
                        "marker": {
                          "colorbar": {
                            "outlinewidth": 0,
                            "ticks": ""
                          }
                        },
                        "type": "scattergl"
                      }
                    ],
                    "scattermapbox": [
                      {
                        "marker": {
                          "colorbar": {
                            "outlinewidth": 0,
                            "ticks": ""
                          }
                        },
                        "type": "scattermapbox"
                      }
                    ],
                    "scatterpolar": [
                      {
                        "marker": {
                          "colorbar": {
                            "outlinewidth": 0,
                            "ticks": ""
                          }
                        },
                        "type": "scatterpolar"
                      }
                    ],
                    "scatterpolargl": [
                      {
                        "marker": {
                          "colorbar": {
                            "outlinewidth": 0,
                            "ticks": ""
                          }
                        },
                        "type": "scatterpolargl"
                      }
                    ],
                    "scatterternary": [
                      {
                        "marker": {
                          "colorbar": {
                            "outlinewidth": 0,
                            "ticks": ""
                          }
                        },
                        "type": "scatterternary"
                      }
                    ],
                    "surface": [
                      {
                        "colorbar": {
                          "outlinewidth": 0,
                          "ticks": ""
                        },
                        "colorscale": [
                          [
                            0,
                            "#0d0887"
                          ],
                          [
                            0.1111111111111111,
                            "#46039f"
                          ],
                          [
                            0.2222222222222222,
                            "#7201a8"
                          ],
                          [
                            0.3333333333333333,
                            "#9c179e"
                          ],
                          [
                            0.4444444444444444,
                            "#bd3786"
                          ],
                          [
                            0.5555555555555556,
                            "#d8576b"
                          ],
                          [
                            0.6666666666666666,
                            "#ed7953"
                          ],
                          [
                            0.7777777777777778,
                            "#fb9f3a"
                          ],
                          [
                            0.8888888888888888,
                            "#fdca26"
                          ],
                          [
                            1,
                            "#f0f921"
                          ]
                        ],
                        "type": "surface"
                      }
                    ],
                    "table": [
                      {
                        "cells": {
                          "fill": {
                            "color": "#EBF0F8"
                          },
                          "line": {
                            "color": "white"
                          }
                        },
                        "header": {
                          "fill": {
                            "color": "#C8D4E3"
                          },
                          "line": {
                            "color": "white"
                          }
                        },
                        "type": "table"
                      }
                    ]
                  },
                  "layout": {
                    "annotationdefaults": {
                      "arrowcolor": "#2a3f5f",
                      "arrowhead": 0,
                      "arrowwidth": 1
                    },
                    "autotypenumbers": "strict",
                    "coloraxis": {
                      "colorbar": {
                        "outlinewidth": 0,
                        "ticks": ""
                      }
                    },
                    "colorscale": {
                      "diverging": [
                        [
                          0,
                          "#8e0152"
                        ],
                        [
                          0.1,
                          "#c51b7d"
                        ],
                        [
                          0.2,
                          "#de77ae"
                        ],
                        [
                          0.3,
                          "#f1b6da"
                        ],
                        [
                          0.4,
                          "#fde0ef"
                        ],
                        [
                          0.5,
                          "#f7f7f7"
                        ],
                        [
                          0.6,
                          "#e6f5d0"
                        ],
                        [
                          0.7,
                          "#b8e186"
                        ],
                        [
                          0.8,
                          "#7fbc41"
                        ],
                        [
                          0.9,
                          "#4d9221"
                        ],
                        [
                          1,
                          "#276419"
                        ]
                      ],
                      "sequential": [
                        [
                          0,
                          "#0d0887"
                        ],
                        [
                          0.1111111111111111,
                          "#46039f"
                        ],
                        [
                          0.2222222222222222,
                          "#7201a8"
                        ],
                        [
                          0.3333333333333333,
                          "#9c179e"
                        ],
                        [
                          0.4444444444444444,
                          "#bd3786"
                        ],
                        [
                          0.5555555555555556,
                          "#d8576b"
                        ],
                        [
                          0.6666666666666666,
                          "#ed7953"
                        ],
                        [
                          0.7777777777777778,
                          "#fb9f3a"
                        ],
                        [
                          0.8888888888888888,
                          "#fdca26"
                        ],
                        [
                          1,
                          "#f0f921"
                        ]
                      ],
                      "sequentialminus": [
                        [
                          0,
                          "#0d0887"
                        ],
                        [
                          0.1111111111111111,
                          "#46039f"
                        ],
                        [
                          0.2222222222222222,
                          "#7201a8"
                        ],
                        [
                          0.3333333333333333,
                          "#9c179e"
                        ],
                        [
                          0.4444444444444444,
                          "#bd3786"
                        ],
                        [
                          0.5555555555555556,
                          "#d8576b"
                        ],
                        [
                          0.6666666666666666,
                          "#ed7953"
                        ],
                        [
                          0.7777777777777778,
                          "#fb9f3a"
                        ],
                        [
                          0.8888888888888888,
                          "#fdca26"
                        ],
                        [
                          1,
                          "#f0f921"
                        ]
                      ]
                    },
                    "colorway": [
                      "#636efa",
                      "#EF553B",
                      "#00cc96",
                      "#ab63fa",
                      "#FFA15A",
                      "#19d3f3",
                      "#FF6692",
                      "#B6E880",
                      "#FF97FF",
                      "#FECB52"
                    ],
                    "font": {
                      "color": "#2a3f5f"
                    },
                    "geo": {
                      "bgcolor": "white",
                      "lakecolor": "white",
                      "landcolor": "#E5ECF6",
                      "showlakes": true,
                      "showland": true,
                      "subunitcolor": "white"
                    },
                    "hoverlabel": {
                      "align": "left"
                    },
                    "hovermode": "closest",
                    "mapbox": {
                      "style": "light"
                    },
                    "paper_bgcolor": "white",
                    "plot_bgcolor": "#E5ECF6",
                    "polar": {
                      "angularaxis": {
                        "gridcolor": "white",
                        "linecolor": "white",
                        "ticks": ""
                      },
                      "bgcolor": "#E5ECF6",
                      "radialaxis": {
                        "gridcolor": "white",
                        "linecolor": "white",
                        "ticks": ""
                      }
                    },
                    "scene": {
                      "xaxis": {
                        "backgroundcolor": "#E5ECF6",
                        "gridcolor": "white",
                        "gridwidth": 2,
                        "linecolor": "white",
                        "showbackground": true,
                        "ticks": "",
                        "zerolinecolor": "white"
                      },
                      "yaxis": {
                        "backgroundcolor": "#E5ECF6",
                        "gridcolor": "white",
                        "gridwidth": 2,
                        "linecolor": "white",
                        "showbackground": true,
                        "ticks": "",
                        "zerolinecolor": "white"
                      },
                      "zaxis": {
                        "backgroundcolor": "#E5ECF6",
                        "gridcolor": "white",
                        "gridwidth": 2,
                        "linecolor": "white",
                        "showbackground": true,
                        "ticks": "",
                        "zerolinecolor": "white"
                      }
                    },
                    "shapedefaults": {
                      "line": {
                        "color": "#2a3f5f"
                      }
                    },
                    "ternary": {
                      "aaxis": {
                        "gridcolor": "white",
                        "linecolor": "white",
                        "ticks": ""
                      },
                      "baxis": {
                        "gridcolor": "white",
                        "linecolor": "white",
                        "ticks": ""
                      },
                      "bgcolor": "#E5ECF6",
                      "caxis": {
                        "gridcolor": "white",
                        "linecolor": "white",
                        "ticks": ""
                      }
                    },
                    "title": {
                      "x": 0.05
                    },
                    "xaxis": {
                      "automargin": true,
                      "gridcolor": "white",
                      "linecolor": "white",
                      "ticks": "",
                      "title": {
                        "standoff": 15
                      },
                      "zerolinecolor": "white",
                      "zerolinewidth": 2
                    },
                    "yaxis": {
                      "automargin": true,
                      "gridcolor": "white",
                      "linecolor": "white",
                      "ticks": "",
                      "title": {
                        "standoff": 15
                      },
                      "zerolinecolor": "white",
                      "zerolinewidth": 2
                    }
                  }
                }
              }
            }
          },
          "metadata": {},
          "output_type": "display_data"
        }
      ],
      "source": [
        "import plotly.graph_objects as go\n",
        "import numpy as np\n",
        "\n",
        "def create_3d_scatterplot(embedding):\n",
        "    X = embedding[0]\n",
        "    Y = embedding[1]\n",
        "    Z = embedding[2]\n",
        "    \n",
        "    # Create the 3D scatterplot\n",
        "    fig = go.Figure(data=[go.Scatter3d(x=X, y=Y, z=Z, mode='markers')])\n",
        "    \n",
        "    # Set plot layout (optional)\n",
        "    fig.update_layout(scene=dict(\n",
        "        xaxis_title='X Axis Title',\n",
        "        yaxis_title='Y Axis Title',\n",
        "        zaxis_title='Z Axis Title'\n",
        "    ))\n",
        "    \n",
        "    # Show the plot (you can also save it to a file)\n",
        "    fig.show()\n",
        "\n",
        "# Assuming you have the 'embedding' data as a 3D array or list of lists\n",
        "embedding = embedding  # Replace this with your actual data\n",
        "create_3d_scatterplot(embedding)\n"
      ]
    },
    {
      "cell_type": "markdown",
      "metadata": {},
      "source": [
        "## Visualization\n",
        "\n",
        "The output of the 3 models are combined in a 2D graph where nodes\n",
        "represents the stocks and edges the:\n",
        "\n",
        "- cluster labels are used to define the color of the nodes\n",
        "- the sparse covariance model is used to display the strength of the edges\n",
        "- the 2D embedding is used to position the nodes in the plan\n",
        "\n",
        "This example has a fair amount of visualization-related code, as\n",
        "visualization is crucial here to display the graph. One of the challenge\n",
        "is to position the labels minimizing overlap. For this we use an\n",
        "heuristic based on the direction of the nearest neighbor along each\n",
        "axis.\n",
        "\n"
      ]
    },
    {
      "cell_type": "code",
      "execution_count": 11,
      "metadata": {
        "collapsed": false
      },
      "outputs": [
        {
          "ename": "NameError",
          "evalue": "name 'labels' is not defined",
          "output_type": "error",
          "traceback": [
            "\u001b[0;31m---------------------------------------------------------------------------\u001b[0m",
            "\u001b[0;31mNameError\u001b[0m                                 Traceback (most recent call last)",
            "\u001b[1;32m/home/chris/code/affinitypropagation/tsne_stock_market.ipynb Cell 7\u001b[0m line \u001b[0;36m1\n\u001b[1;32m     <a href='vscode-notebook-cell:/home/chris/code/affinitypropagation/tsne_stock_market.ipynb#X34sZmlsZQ%3D%3D?line=13'>14</a>\u001b[0m non_zero \u001b[39m=\u001b[39m np\u001b[39m.\u001b[39mabs(np\u001b[39m.\u001b[39mtriu(partial_correlations, k\u001b[39m=\u001b[39m\u001b[39m1\u001b[39m)) \u001b[39m>\u001b[39m \u001b[39m0.02\u001b[39m\n\u001b[1;32m     <a href='vscode-notebook-cell:/home/chris/code/affinitypropagation/tsne_stock_market.ipynb#X34sZmlsZQ%3D%3D?line=15'>16</a>\u001b[0m \u001b[39m# Plot the nodes using the coordinates of our embedding\u001b[39;00m\n\u001b[1;32m     <a href='vscode-notebook-cell:/home/chris/code/affinitypropagation/tsne_stock_market.ipynb#X34sZmlsZQ%3D%3D?line=16'>17</a>\u001b[0m plt\u001b[39m.\u001b[39mscatter(\n\u001b[0;32m---> <a href='vscode-notebook-cell:/home/chris/code/affinitypropagation/tsne_stock_market.ipynb#X34sZmlsZQ%3D%3D?line=17'>18</a>\u001b[0m     embedding[\u001b[39m0\u001b[39m], embedding[\u001b[39m1\u001b[39m], s\u001b[39m=\u001b[39m\u001b[39m100\u001b[39m \u001b[39m*\u001b[39m d\u001b[39m*\u001b[39m\u001b[39m*\u001b[39m\u001b[39m2\u001b[39m, c\u001b[39m=\u001b[39mlabels, cmap\u001b[39m=\u001b[39mplt\u001b[39m.\u001b[39mcm\u001b[39m.\u001b[39mnipy_spectral\n\u001b[1;32m     <a href='vscode-notebook-cell:/home/chris/code/affinitypropagation/tsne_stock_market.ipynb#X34sZmlsZQ%3D%3D?line=18'>19</a>\u001b[0m )\n\u001b[1;32m     <a href='vscode-notebook-cell:/home/chris/code/affinitypropagation/tsne_stock_market.ipynb#X34sZmlsZQ%3D%3D?line=20'>21</a>\u001b[0m \u001b[39m# Plot the edges\u001b[39;00m\n\u001b[1;32m     <a href='vscode-notebook-cell:/home/chris/code/affinitypropagation/tsne_stock_market.ipynb#X34sZmlsZQ%3D%3D?line=21'>22</a>\u001b[0m start_idx, end_idx \u001b[39m=\u001b[39m np\u001b[39m.\u001b[39mwhere(non_zero)\n",
            "\u001b[0;31mNameError\u001b[0m: name 'labels' is not defined"
          ]
        },
        {
          "data": {
            "image/png": "[encoded data removed]",
            "text/plain": [
              "<Figure size 1000x800 with 1 Axes>"
            ]
          },
          "metadata": {},
          "output_type": "display_data"
        }
      ],
      "source": [
        "import matplotlib.pyplot as plt\n",
        "from matplotlib.collections import LineCollection\n",
        "\n",
        "plt.figure(1, facecolor=\"w\", figsize=(10, 8))\n",
        "plt.clf()\n",
        "ax = plt.axes([0.0, 0.0, 1.0, 1.0])\n",
        "#plt.axis(\"off\")\n",
        "\n",
        "# Plot the graph of partial correlations\n",
        "partial_correlations = edge_model.precision_.copy()\n",
        "d = 1 / np.sqrt(np.diag(partial_correlations))\n",
        "partial_correlations *= d\n",
        "partial_correlations *= d[:, np.newaxis]\n",
        "non_zero = np.abs(np.triu(partial_correlations, k=1)) > 0.02\n",
        "\n",
        "# Plot the nodes using the coordinates of our embedding\n",
        "plt.scatter(\n",
        "    embedding[0], embedding[1], s=100 * d**2, c=labels, cmap=plt.cm.nipy_spectral\n",
        ")\n",
        "\n",
        "# Plot the edges\n",
        "start_idx, end_idx = np.where(non_zero)\n",
        "# a sequence of (*line0*, *line1*, *line2*), where::\n",
        "#            linen = (x0, y0), (x1, y1), ... (xm, ym)\n",
        "segments = [\n",
        "    [embedding[:, start], embedding[:, stop]] for start, stop in zip(start_idx, end_idx)\n",
        "]\n",
        "values = np.abs(partial_correlations[non_zero])\n",
        "lc = LineCollection(\n",
        "    segments, zorder=0, cmap=plt.cm.hot_r, norm=plt.Normalize(0, 0.7 * values.max())\n",
        ")\n",
        "lc.set_array(values)\n",
        "lc.set_linewidths(15 * values)\n",
        "ax.add_collection(lc)\n",
        "\n",
        "# Add a label to each node. The challenge here is that we want to\n",
        "# position the labels to avoid overlap with other labels\n",
        "for index, (name, label, (x, y)) in enumerate(zip(names, labels, embedding.T)):\n",
        "    dx = x - embedding[0]\n",
        "    dx[index] = 1\n",
        "    dy = y - embedding[1]\n",
        "    dy[index] = 1\n",
        "    this_dx = dx[np.argmin(np.abs(dy))]\n",
        "    this_dy = dy[np.argmin(np.abs(dx))]\n",
        "    if this_dx > 0:\n",
        "        horizontalalignment = \"left\"\n",
        "        x = x + 0.002\n",
        "    else:\n",
        "        horizontalalignment = \"right\"\n",
        "        x = x - 0.002\n",
        "    if this_dy > 0:\n",
        "        verticalalignment = \"bottom\"\n",
        "        y = y + 0.002\n",
        "    else:\n",
        "        verticalalignment = \"top\"\n",
        "        y = y - 0.002\n",
        "    plt.text(\n",
        "        x,\n",
        "        y,\n",
        "        name,\n",
        "        size=10,\n",
        "        horizontalalignment=horizontalalignment,\n",
        "        verticalalignment=verticalalignment,\n",
        "        bbox=dict(\n",
        "            facecolor=\"w\",\n",
        "            edgecolor=plt.cm.nipy_spectral(label / float(n_labels)),\n",
        "            alpha=0.6,\n",
        "        ),\n",
        "    )\n",
        "\n",
        "plt.xlim(\n",
        "    embedding[0].min() - 0.15 * embedding[0].ptp(),\n",
        "    embedding[0].max() + 0.10 * embedding[0].ptp(),\n",
        ")\n",
        "plt.ylim(\n",
        "    embedding[1].min() - 0.03 * embedding[1].ptp(),\n",
        "    embedding[1].max() + 0.03 * embedding[1].ptp(),\n",
        ")\n",
        "\n",
        "plt.show()"
      ]
    }
  ],
  "metadata": {
    "kernelspec": {
      "display_name": "Python 3",
      "language": "python",
      "name": "python3"
    },
    "language_info": {
      "codemirror_mode": {
        "name": "ipython",
        "version": 3
      },
      "file_extension": ".py",
      "mimetype": "text/x-python",
      "name": "python",
      "nbconvert_exporter": "python",
      "pygments_lexer": "ipython3",
      "version": "3.10.6"
    }
  },
  "nbformat": 4,
  "nbformat_minor": 0
}
